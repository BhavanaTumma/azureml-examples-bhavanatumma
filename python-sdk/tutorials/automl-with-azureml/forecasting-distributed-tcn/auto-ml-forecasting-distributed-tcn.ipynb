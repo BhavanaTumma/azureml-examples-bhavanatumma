{
 "cells": [
  {
   "cell_type": "code",
   "execution_count": 1,
   "id": "69ecb53d-e958-4864-b1c2-e63ceb07a7b6",
   "metadata": {},
   "outputs": [],
   "source": [
    "import json\n",
    "import logging\n",
    "\n",
    "import azureml.core\n",
    "import pandas as pd\n",
    "from azureml.automl.core.featurization import FeaturizationConfig\n",
    "from azureml.core import Experiment, Workspace, Dataset\n",
    "from azureml.train.automl import AutoMLConfig"
   ]
  },
  {
   "cell_type": "code",
   "execution_count": 2,
   "id": "49e42d39-dbe5-410a-9e3a-194cfc67d41d",
   "metadata": {},
   "outputs": [
    {
     "name": "stdout",
     "output_type": "stream",
     "text": [
      "You are currently using version 1.39.0 of the Azure ML SDK\n"
     ]
    }
   ],
   "source": [
    "print(\"You are currently using version\", azureml.core.VERSION, \"of the Azure ML SDK\")"
   ]
  },
  {
   "cell_type": "code",
   "execution_count": 3,
   "id": "3019a4ba-78a1-4a45-97bf-4e4c89fd867b",
   "metadata": {},
   "outputs": [
    {
     "data": {
      "text/html": [
       "<div>\n",
       "<style scoped>\n",
       "    .dataframe tbody tr th:only-of-type {\n",
       "        vertical-align: middle;\n",
       "    }\n",
       "\n",
       "    .dataframe tbody tr th {\n",
       "        vertical-align: top;\n",
       "    }\n",
       "\n",
       "    .dataframe thead th {\n",
       "        text-align: right;\n",
       "    }\n",
       "</style>\n",
       "<table border=\"1\" class=\"dataframe\">\n",
       "  <thead>\n",
       "    <tr style=\"text-align: right;\">\n",
       "      <th></th>\n",
       "      <th></th>\n",
       "    </tr>\n",
       "  </thead>\n",
       "  <tbody>\n",
       "    <tr>\n",
       "      <th>Subscription ID</th>\n",
       "      <td>ba7979f7-d040-49c9-af1a-7414402bf622</td>\n",
       "    </tr>\n",
       "    <tr>\n",
       "      <th>Workspace</th>\n",
       "      <td>yuzhua-rg-easts-2</td>\n",
       "    </tr>\n",
       "    <tr>\n",
       "      <th>SKU</th>\n",
       "      <td>Basic</td>\n",
       "    </tr>\n",
       "    <tr>\n",
       "      <th>Resource Group</th>\n",
       "      <td>yuzhua-rg-eastus</td>\n",
       "    </tr>\n",
       "    <tr>\n",
       "      <th>Location</th>\n",
       "      <td>eastus</td>\n",
       "    </tr>\n",
       "    <tr>\n",
       "      <th>Run History Name</th>\n",
       "      <td>automl-ojforecasting</td>\n",
       "    </tr>\n",
       "  </tbody>\n",
       "</table>\n",
       "</div>"
      ],
      "text/plain": [
       "                                                      \n",
       "Subscription ID   ba7979f7-d040-49c9-af1a-7414402bf622\n",
       "Workspace                            yuzhua-rg-easts-2\n",
       "SKU                                              Basic\n",
       "Resource Group                        yuzhua-rg-eastus\n",
       "Location                                        eastus\n",
       "Run History Name                  automl-ojforecasting"
      ]
     },
     "execution_count": 3,
     "metadata": {},
     "output_type": "execute_result"
    }
   ],
   "source": [
    "ws = Workspace.from_config()\n",
    "\n",
    "# choose a name for the run history container in the workspace\n",
    "experiment_name = \"automl-ojforecasting\"\n",
    "\n",
    "experiment = Experiment(ws, experiment_name)\n",
    "\n",
    "output = {}\n",
    "output[\"Subscription ID\"] = ws.subscription_id\n",
    "output[\"Workspace\"] = ws.name\n",
    "output[\"SKU\"] = ws.sku\n",
    "output[\"Resource Group\"] = ws.resource_group\n",
    "output[\"Location\"] = ws.location\n",
    "output[\"Run History Name\"] = experiment_name\n",
    "pd.set_option(\"display.max_colwidth\", None)\n",
    "outputDf = pd.DataFrame(data=output, index=[\"\"])\n",
    "outputDf.T"
   ]
  },
  {
   "cell_type": "code",
   "execution_count": 4,
   "id": "94a7073d-5fe6-46b1-800f-20df36a8dc73",
   "metadata": {},
   "outputs": [
    {
     "name": "stdout",
     "output_type": "stream",
     "text": [
      "Found existing cluster, use it.\n",
      "Succeeded\n",
      "AmlCompute wait for completion finished\n",
      "\n",
      "Minimum number of nodes requested have been provisioned\n"
     ]
    }
   ],
   "source": [
    "from azureml.core.compute import ComputeTarget, AmlCompute\n",
    "from azureml.core.compute_target import ComputeTargetException\n",
    "\n",
    "# Choose a name for your CPU cluster\n",
    "amlcompute_cluster_name = \"oj-cluster\"\n",
    "\n",
    "# Verify that cluster does not exist already\n",
    "try:\n",
    "    compute_target = ComputeTarget(workspace=ws, name=amlcompute_cluster_name)\n",
    "    print(\"Found existing cluster, use it.\")\n",
    "except ComputeTargetException:\n",
    "    compute_config = AmlCompute.provisioning_configuration(\n",
    "        vm_size=\"STANDARD_D12_V2\", max_nodes=12\n",
    "    )\n",
    "    compute_target = ComputeTarget.create(ws, amlcompute_cluster_name, compute_config)\n",
    "\n",
    "compute_target.wait_for_completion(show_output=True)"
   ]
  },
  {
   "cell_type": "code",
   "execution_count": 5,
   "id": "2b37ccb2-cac6-467a-84d6-3be68cbb97ef",
   "metadata": {},
   "outputs": [
    {
     "data": {
      "text/html": [
       "<div>\n",
       "<style scoped>\n",
       "    .dataframe tbody tr th:only-of-type {\n",
       "        vertical-align: middle;\n",
       "    }\n",
       "\n",
       "    .dataframe tbody tr th {\n",
       "        vertical-align: top;\n",
       "    }\n",
       "\n",
       "    .dataframe thead th {\n",
       "        text-align: right;\n",
       "    }\n",
       "</style>\n",
       "<table border=\"1\" class=\"dataframe\">\n",
       "  <thead>\n",
       "    <tr style=\"text-align: right;\">\n",
       "      <th></th>\n",
       "      <th>WeekStarting</th>\n",
       "      <th>Store</th>\n",
       "      <th>Brand</th>\n",
       "      <th>Quantity</th>\n",
       "      <th>Advert</th>\n",
       "      <th>Price</th>\n",
       "      <th>Age60</th>\n",
       "      <th>COLLEGE</th>\n",
       "      <th>INCOME</th>\n",
       "      <th>Hincome150</th>\n",
       "      <th>Large HH</th>\n",
       "      <th>Minorities</th>\n",
       "      <th>WorkingWoman</th>\n",
       "      <th>SSTRDIST</th>\n",
       "      <th>SSTRVOL</th>\n",
       "      <th>CPDIST5</th>\n",
       "      <th>CPWVOL5</th>\n",
       "    </tr>\n",
       "  </thead>\n",
       "  <tbody>\n",
       "    <tr>\n",
       "      <th>0</th>\n",
       "      <td>1990-06-14</td>\n",
       "      <td>2</td>\n",
       "      <td>dominicks</td>\n",
       "      <td>10560</td>\n",
       "      <td>1</td>\n",
       "      <td>1.59</td>\n",
       "      <td>0.232865</td>\n",
       "      <td>0.248935</td>\n",
       "      <td>10.553205</td>\n",
       "      <td>0.463887</td>\n",
       "      <td>0.103953</td>\n",
       "      <td>0.114280</td>\n",
       "      <td>0.303585</td>\n",
       "      <td>2.110122</td>\n",
       "      <td>1.142857</td>\n",
       "      <td>1.927280</td>\n",
       "      <td>0.376927</td>\n",
       "    </tr>\n",
       "    <tr>\n",
       "      <th>1</th>\n",
       "      <td>1990-06-14</td>\n",
       "      <td>2</td>\n",
       "      <td>minute.maid</td>\n",
       "      <td>4480</td>\n",
       "      <td>0</td>\n",
       "      <td>3.17</td>\n",
       "      <td>0.232865</td>\n",
       "      <td>0.248935</td>\n",
       "      <td>10.553205</td>\n",
       "      <td>0.463887</td>\n",
       "      <td>0.103953</td>\n",
       "      <td>0.114280</td>\n",
       "      <td>0.303585</td>\n",
       "      <td>2.110122</td>\n",
       "      <td>1.142857</td>\n",
       "      <td>1.927280</td>\n",
       "      <td>0.376927</td>\n",
       "    </tr>\n",
       "    <tr>\n",
       "      <th>2</th>\n",
       "      <td>1990-06-14</td>\n",
       "      <td>2</td>\n",
       "      <td>tropicana</td>\n",
       "      <td>8256</td>\n",
       "      <td>0</td>\n",
       "      <td>3.87</td>\n",
       "      <td>0.232865</td>\n",
       "      <td>0.248935</td>\n",
       "      <td>10.553205</td>\n",
       "      <td>0.463887</td>\n",
       "      <td>0.103953</td>\n",
       "      <td>0.114280</td>\n",
       "      <td>0.303585</td>\n",
       "      <td>2.110122</td>\n",
       "      <td>1.142857</td>\n",
       "      <td>1.927280</td>\n",
       "      <td>0.376927</td>\n",
       "    </tr>\n",
       "    <tr>\n",
       "      <th>3</th>\n",
       "      <td>1990-06-14</td>\n",
       "      <td>5</td>\n",
       "      <td>dominicks</td>\n",
       "      <td>1792</td>\n",
       "      <td>1</td>\n",
       "      <td>1.59</td>\n",
       "      <td>0.117368</td>\n",
       "      <td>0.321226</td>\n",
       "      <td>10.922371</td>\n",
       "      <td>0.535883</td>\n",
       "      <td>0.103092</td>\n",
       "      <td>0.053875</td>\n",
       "      <td>0.410568</td>\n",
       "      <td>3.801998</td>\n",
       "      <td>0.681818</td>\n",
       "      <td>1.600573</td>\n",
       "      <td>0.736307</td>\n",
       "    </tr>\n",
       "    <tr>\n",
       "      <th>4</th>\n",
       "      <td>1990-06-14</td>\n",
       "      <td>5</td>\n",
       "      <td>minute.maid</td>\n",
       "      <td>4224</td>\n",
       "      <td>0</td>\n",
       "      <td>2.99</td>\n",
       "      <td>0.117368</td>\n",
       "      <td>0.321226</td>\n",
       "      <td>10.922371</td>\n",
       "      <td>0.535883</td>\n",
       "      <td>0.103092</td>\n",
       "      <td>0.053875</td>\n",
       "      <td>0.410568</td>\n",
       "      <td>3.801998</td>\n",
       "      <td>0.681818</td>\n",
       "      <td>1.600573</td>\n",
       "      <td>0.736307</td>\n",
       "    </tr>\n",
       "  </tbody>\n",
       "</table>\n",
       "</div>"
      ],
      "text/plain": [
       "  WeekStarting  Store        Brand  Quantity  Advert  Price     Age60  \\\n",
       "0   1990-06-14      2    dominicks     10560       1   1.59  0.232865   \n",
       "1   1990-06-14      2  minute.maid      4480       0   3.17  0.232865   \n",
       "2   1990-06-14      2    tropicana      8256       0   3.87  0.232865   \n",
       "3   1990-06-14      5    dominicks      1792       1   1.59  0.117368   \n",
       "4   1990-06-14      5  minute.maid      4224       0   2.99  0.117368   \n",
       "\n",
       "    COLLEGE     INCOME  Hincome150  Large HH  Minorities  WorkingWoman  \\\n",
       "0  0.248935  10.553205    0.463887  0.103953    0.114280      0.303585   \n",
       "1  0.248935  10.553205    0.463887  0.103953    0.114280      0.303585   \n",
       "2  0.248935  10.553205    0.463887  0.103953    0.114280      0.303585   \n",
       "3  0.321226  10.922371    0.535883  0.103092    0.053875      0.410568   \n",
       "4  0.321226  10.922371    0.535883  0.103092    0.053875      0.410568   \n",
       "\n",
       "   SSTRDIST   SSTRVOL   CPDIST5   CPWVOL5  \n",
       "0  2.110122  1.142857  1.927280  0.376927  \n",
       "1  2.110122  1.142857  1.927280  0.376927  \n",
       "2  2.110122  1.142857  1.927280  0.376927  \n",
       "3  3.801998  0.681818  1.600573  0.736307  \n",
       "4  3.801998  0.681818  1.600573  0.736307  "
      ]
     },
     "execution_count": 5,
     "metadata": {},
     "output_type": "execute_result"
    }
   ],
   "source": [
    "time_column_name = \"WeekStarting\"\n",
    "data = pd.read_csv(\"dominicks_OJ.csv\", parse_dates=[time_column_name])\n",
    "\n",
    "# Drop the columns 'logQuantity' as it is a leaky feature.\n",
    "data.drop(\"logQuantity\", axis=1, inplace=True)\n",
    "\n",
    "data.head()"
   ]
  },
  {
   "cell_type": "code",
   "execution_count": 6,
   "id": "bc81ea81-d181-4ca7-8531-732f0d4d1f0a",
   "metadata": {},
   "outputs": [
    {
     "name": "stdout",
     "output_type": "stream",
     "text": [
      "Data contains 249 individual time-series.\n"
     ]
    }
   ],
   "source": [
    "time_series_id_column_names = [\"Store\", \"Brand\"]\n",
    "nseries = data.groupby(time_series_id_column_names).ngroups\n",
    "print(\"Data contains {0} individual time-series.\".format(nseries))"
   ]
  },
  {
   "cell_type": "code",
   "execution_count": 7,
   "id": "4ef3f694-7a53-407f-a5e4-f8885e17dd51",
   "metadata": {},
   "outputs": [],
   "source": [
    "n_test_periods = 20\n",
    "\n",
    "\n",
    "def split_last_n_by_series_id(df, n):\n",
    "    \"\"\"Group df by series identifiers and split on last n rows for each group.\"\"\"\n",
    "    df_grouped = df.sort_values(time_column_name).groupby(  # Sort by ascending time\n",
    "        time_series_id_column_names, group_keys=False\n",
    "    )\n",
    "    df_head = df_grouped.apply(lambda dfg: dfg.iloc[:-n])\n",
    "    df_tail = df_grouped.apply(lambda dfg: dfg.iloc[-n:])\n",
    "    return df_head, df_tail\n",
    "\n",
    "\n",
    "train, test = split_last_n_by_series_id(data, n_test_periods)"
   ]
  },
  {
   "cell_type": "code",
   "execution_count": 8,
   "id": "25080333-24e6-4823-8fd4-b2dfaf89dd31",
   "metadata": {},
   "outputs": [
    {
     "name": "stdout",
     "output_type": "stream",
     "text": [
      "Validating arguments.\n",
      "Arguments validated.\n",
      "Successfully obtained datastore reference and path.\n",
      "Uploading file to dataset//48ced0c5-75ba-4d42-bc36-88ce97a0a405/\n",
      "Successfully uploaded file to datastore.\n",
      "Creating and registering a new dataset.\n",
      "Successfully created and registered a new dataset.\n",
      "Validating arguments.\n",
      "Arguments validated.\n",
      "Successfully obtained datastore reference and path.\n",
      "Uploading file to dataset//be03c8a5-902c-410d-958e-f49ec23cb6bd/\n",
      "Successfully uploaded file to datastore.\n",
      "Creating and registering a new dataset.\n",
      "Successfully created and registered a new dataset.\n"
     ]
    }
   ],
   "source": [
    "from azureml.data.dataset_factory import TabularDatasetFactory\n",
    "\n",
    "datastore = ws.get_default_datastore()\n",
    "train_dataset = TabularDatasetFactory.register_pandas_dataframe(\n",
    "    train, target=(datastore, \"dataset/\"), name=\"dominicks_OJ_train\"\n",
    ")\n",
    "test_dataset = TabularDatasetFactory.register_pandas_dataframe(\n",
    "    test, target=(datastore, \"dataset/\"), name=\"dominicks_OJ_valid\"\n",
    ")"
   ]
  },
  {
   "cell_type": "code",
   "execution_count": 9,
   "id": "9f9672e0-a905-467b-936d-70d3a06dcb6b",
   "metadata": {},
   "outputs": [
    {
     "data": {
      "text/html": [
       "<div>\n",
       "<style scoped>\n",
       "    .dataframe tbody tr th:only-of-type {\n",
       "        vertical-align: middle;\n",
       "    }\n",
       "\n",
       "    .dataframe tbody tr th {\n",
       "        vertical-align: top;\n",
       "    }\n",
       "\n",
       "    .dataframe thead th {\n",
       "        text-align: right;\n",
       "    }\n",
       "</style>\n",
       "<table border=\"1\" class=\"dataframe\">\n",
       "  <thead>\n",
       "    <tr style=\"text-align: right;\">\n",
       "      <th></th>\n",
       "      <th>WeekStarting</th>\n",
       "      <th>Store</th>\n",
       "      <th>Brand</th>\n",
       "      <th>Quantity</th>\n",
       "      <th>Advert</th>\n",
       "      <th>Price</th>\n",
       "      <th>Age60</th>\n",
       "      <th>COLLEGE</th>\n",
       "      <th>INCOME</th>\n",
       "      <th>Hincome150</th>\n",
       "      <th>Large HH</th>\n",
       "      <th>Minorities</th>\n",
       "      <th>WorkingWoman</th>\n",
       "      <th>SSTRDIST</th>\n",
       "      <th>SSTRVOL</th>\n",
       "      <th>CPDIST5</th>\n",
       "      <th>CPWVOL5</th>\n",
       "    </tr>\n",
       "  </thead>\n",
       "  <tbody>\n",
       "    <tr>\n",
       "      <th>23962</th>\n",
       "      <td>1992-04-16</td>\n",
       "      <td>137</td>\n",
       "      <td>tropicana</td>\n",
       "      <td>23680</td>\n",
       "      <td>0</td>\n",
       "      <td>3.19</td>\n",
       "      <td>0.209602</td>\n",
       "      <td>0.528362</td>\n",
       "      <td>10.96649</td>\n",
       "      <td>0.860739</td>\n",
       "      <td>0.092996</td>\n",
       "      <td>0.11325</td>\n",
       "      <td>0.330293</td>\n",
       "      <td>6.026484</td>\n",
       "      <td>0.705882</td>\n",
       "      <td>0.77253</td>\n",
       "      <td>0.333761</td>\n",
       "    </tr>\n",
       "    <tr>\n",
       "      <th>23963</th>\n",
       "      <td>1992-04-23</td>\n",
       "      <td>137</td>\n",
       "      <td>tropicana</td>\n",
       "      <td>25728</td>\n",
       "      <td>0</td>\n",
       "      <td>2.74</td>\n",
       "      <td>0.209602</td>\n",
       "      <td>0.528362</td>\n",
       "      <td>10.96649</td>\n",
       "      <td>0.860739</td>\n",
       "      <td>0.092996</td>\n",
       "      <td>0.11325</td>\n",
       "      <td>0.330293</td>\n",
       "      <td>6.026484</td>\n",
       "      <td>0.705882</td>\n",
       "      <td>0.77253</td>\n",
       "      <td>0.333761</td>\n",
       "    </tr>\n",
       "    <tr>\n",
       "      <th>23964</th>\n",
       "      <td>1992-04-30</td>\n",
       "      <td>137</td>\n",
       "      <td>tropicana</td>\n",
       "      <td>80384</td>\n",
       "      <td>1</td>\n",
       "      <td>2.39</td>\n",
       "      <td>0.209602</td>\n",
       "      <td>0.528362</td>\n",
       "      <td>10.96649</td>\n",
       "      <td>0.860739</td>\n",
       "      <td>0.092996</td>\n",
       "      <td>0.11325</td>\n",
       "      <td>0.330293</td>\n",
       "      <td>6.026484</td>\n",
       "      <td>0.705882</td>\n",
       "      <td>0.77253</td>\n",
       "      <td>0.333761</td>\n",
       "    </tr>\n",
       "    <tr>\n",
       "      <th>23965</th>\n",
       "      <td>1992-05-07</td>\n",
       "      <td>137</td>\n",
       "      <td>tropicana</td>\n",
       "      <td>30464</td>\n",
       "      <td>0</td>\n",
       "      <td>3.19</td>\n",
       "      <td>0.209602</td>\n",
       "      <td>0.528362</td>\n",
       "      <td>10.96649</td>\n",
       "      <td>0.860739</td>\n",
       "      <td>0.092996</td>\n",
       "      <td>0.11325</td>\n",
       "      <td>0.330293</td>\n",
       "      <td>6.026484</td>\n",
       "      <td>0.705882</td>\n",
       "      <td>0.77253</td>\n",
       "      <td>0.333761</td>\n",
       "    </tr>\n",
       "    <tr>\n",
       "      <th>23966</th>\n",
       "      <td>1992-05-14</td>\n",
       "      <td>137</td>\n",
       "      <td>tropicana</td>\n",
       "      <td>27904</td>\n",
       "      <td>0</td>\n",
       "      <td>3.19</td>\n",
       "      <td>0.209602</td>\n",
       "      <td>0.528362</td>\n",
       "      <td>10.96649</td>\n",
       "      <td>0.860739</td>\n",
       "      <td>0.092996</td>\n",
       "      <td>0.11325</td>\n",
       "      <td>0.330293</td>\n",
       "      <td>6.026484</td>\n",
       "      <td>0.705882</td>\n",
       "      <td>0.77253</td>\n",
       "      <td>0.333761</td>\n",
       "    </tr>\n",
       "  </tbody>\n",
       "</table>\n",
       "</div>"
      ],
      "text/plain": [
       "      WeekStarting  Store      Brand  Quantity  Advert  Price     Age60  \\\n",
       "23962   1992-04-16    137  tropicana     23680       0   3.19  0.209602   \n",
       "23963   1992-04-23    137  tropicana     25728       0   2.74  0.209602   \n",
       "23964   1992-04-30    137  tropicana     80384       1   2.39  0.209602   \n",
       "23965   1992-05-07    137  tropicana     30464       0   3.19  0.209602   \n",
       "23966   1992-05-14    137  tropicana     27904       0   3.19  0.209602   \n",
       "\n",
       "        COLLEGE    INCOME  Hincome150  Large HH  Minorities  WorkingWoman  \\\n",
       "23962  0.528362  10.96649    0.860739  0.092996     0.11325      0.330293   \n",
       "23963  0.528362  10.96649    0.860739  0.092996     0.11325      0.330293   \n",
       "23964  0.528362  10.96649    0.860739  0.092996     0.11325      0.330293   \n",
       "23965  0.528362  10.96649    0.860739  0.092996     0.11325      0.330293   \n",
       "23966  0.528362  10.96649    0.860739  0.092996     0.11325      0.330293   \n",
       "\n",
       "       SSTRDIST   SSTRVOL  CPDIST5   CPWVOL5  \n",
       "23962  6.026484  0.705882  0.77253  0.333761  \n",
       "23963  6.026484  0.705882  0.77253  0.333761  \n",
       "23964  6.026484  0.705882  0.77253  0.333761  \n",
       "23965  6.026484  0.705882  0.77253  0.333761  \n",
       "23966  6.026484  0.705882  0.77253  0.333761  "
      ]
     },
     "execution_count": 9,
     "metadata": {},
     "output_type": "execute_result"
    }
   ],
   "source": [
    "train_dataset.to_pandas_dataframe().tail()"
   ]
  },
  {
   "cell_type": "code",
   "execution_count": 10,
   "id": "2dfec023-2fbc-4eab-a8a4-53c88e61808a",
   "metadata": {},
   "outputs": [],
   "source": [
    "target_column_name = \"Quantity\""
   ]
  },
  {
   "cell_type": "code",
   "execution_count": 11,
   "id": "589fd43c-1c5a-4199-afc1-48abe5246b59",
   "metadata": {},
   "outputs": [],
   "source": [
    "def prepare_dataset_for_parallel(\n",
    "        input_dataset, workspace, datastore, dataset_name, dataset_type, grain_column_names):\n",
    "    register_name = dataset_name + f\"_{dataset_type}\"\n",
    "    registered_dataset = input_dataset.register(\n",
    "        workspace=workspace, name=register_name, description=dataset_name, create_new_version=True)\n",
    "    partition_keys = grain_column_names\n",
    "    if partition_keys is None:\n",
    "        return registered_dataset\n",
    "\n",
    "    if isinstance(partition_keys, str):\n",
    "        partition_keys = [partition_keys, ]\n",
    "    partitioned_dataset = registered_dataset.partition_by(\n",
    "        partition_keys=partition_keys,\n",
    "        target=(datastore, f'{dataset_name}_{dataset_type}'),\n",
    "        name=dataset_name + f\"_{dataset_type}_partition\")\n",
    "    path = partitioned_dataset._dataflow._steps[0].arguments['datastores'][0]['path']\n",
    "    splits = path.split('/')\n",
    "    new_dataset_path = \"/\" + splits[0] + \"/\" + splits[1] + \"/\"\n",
    "    partition_format = \"/\".join(\"{\" + n + \"}\" for n in partition_keys)\n",
    "    partition_format = partition_format + \"/*.parquet\"\n",
    "    partitioned_new_dataset = Dataset.Tabular.from_parquet_files(\n",
    "        path=(datastore,new_dataset_path), partition_format = partition_format)\n",
    "    partitioned_new_dataset.register(workspace, register_name, create_new_version=True)\n",
    "\n",
    "    return Dataset.get_by_name(workspace, register_name)"
   ]
  },
  {
   "cell_type": "code",
   "execution_count": 12,
   "id": "50e78364-e52c-451f-bf8b-b4816e534c41",
   "metadata": {},
   "outputs": [
    {
     "name": "stdout",
     "output_type": "stream",
     "text": [
      "Validating arguments.\n",
      "Arguments validated.\n",
      "Uploading file to /dominicks_OJ_train_train/35f8f6f0-19e1-4f3a-afa5-8a4f67f2c158/\n",
      "Successfully uploaded file to datastore.\n",
      "Creating a new dataset.\n",
      "Successfully created a new dataset.\n",
      "registering a new dataset.\n",
      "Successfully created and registered a new dataset.\n"
     ]
    }
   ],
   "source": [
    "prepared_dataset = prepare_dataset_for_parallel(train_dataset, ws, datastore, train_dataset.name, \"train\", time_series_id_column_names)"
   ]
  },
  {
   "cell_type": "code",
   "execution_count": 13,
   "id": "95182457-c874-4b5d-a103-dce2ab7e9745",
   "metadata": {},
   "outputs": [
    {
     "name": "stderr",
     "output_type": "stream",
     "text": [
      "WARNING:root:Enabling distributed featurization will result in the following parameter overrides:\n",
      "\tcv_step_size\n",
      "\ttarget_lags\n",
      "\tfeature_lags\n",
      "\ttarget_rolling_window_size\n",
      "\tcv based validation settings\n"
     ]
    }
   ],
   "source": [
    "from azureml.automl.core.forecasting_parameters import ForecastingParameters\n",
    "\n",
    "forecasting_parameters = ForecastingParameters(\n",
    "    time_column_name=time_column_name,\n",
    "    forecast_horizon=n_test_periods,\n",
    "    time_series_id_column_names=time_series_id_column_names\n",
    ")\n",
    "automl_config = AutoMLConfig(\n",
    "    task=\"forecasting\",\n",
    "    primary_metric=\"normalized_root_mean_squared_error\",\n",
    "    experiment_timeout_hours=0.5,\n",
    "    training_data=prepared_dataset,\n",
    "    label_column_name=target_column_name,\n",
    "    verbosity=logging.INFO,\n",
    "    compute_target=compute_target,\n",
    "    max_concurrent_iterations=10,\n",
    "    max_cores_per_iteration=-1,\n",
    "    enable_dnn=True,\n",
    "    enable_early_stopping=False,\n",
    "    forecasting_parameters=forecasting_parameters,\n",
    "    n_cross_validations=3,\n",
    "    forecasting_dnn_models_only=True\n",
    ")"
   ]
  },
  {
   "cell_type": "code",
   "execution_count": 14,
   "id": "add65020-3b15-43a9-8693-545b7fcc3f50",
   "metadata": {},
   "outputs": [
    {
     "name": "stdout",
     "output_type": "stream",
     "text": [
      "Experiment name: oj-distributed-tcn\n"
     ]
    }
   ],
   "source": [
    "from azureml.core import Experiment\n",
    "\n",
    "experiment = Experiment(ws, 'oj-distributed-tcn')\n",
    "\n",
    "print('Experiment name: ' + experiment.name)"
   ]
  },
  {
   "cell_type": "code",
   "execution_count": null,
   "id": "b543e7ec-2170-4fc3-a7bf-b6a0331e6197",
   "metadata": {},
   "outputs": [
    {
     "name": "stderr",
     "output_type": "stream",
     "text": [
      "WARNING:root:Received unrecognized parameter forecasting_dnn_models_only\n"
     ]
    },
    {
     "name": "stdout",
     "output_type": "stream",
     "text": [
      "Submitting remote run.\n",
      "No run_configuration provided, running on oj-cluster with default configuration\n",
      "Running on remote compute: oj-cluster\n"
     ]
    },
    {
     "data": {
      "text/html": [
       "<table style=\"width:100%\"><tr><th>Experiment</th><th>Id</th><th>Type</th><th>Status</th><th>Details Page</th><th>Docs Page</th></tr><tr><td>oj-distributed-tcn</td><td>AutoML_43760cbd-0bcd-4885-a40c-0d2c77b1b584</td><td>automl</td><td>NotStarted</td><td><a href=\"https://ml.azure.com/runs/AutoML_43760cbd-0bcd-4885-a40c-0d2c77b1b584?wsid=/subscriptions/ba7979f7-d040-49c9-af1a-7414402bf622/resourcegroups/yuzhua-rg-eastus/workspaces/yuzhua-rg-easts-2&amp;tid=72f988bf-86f1-41af-91ab-2d7cd011db47\" target=\"_blank\" rel=\"noopener\">Link to Azure Machine Learning studio</a></td><td><a href=\"https://docs.microsoft.com/en-us/python/api/overview/azure/ml/intro?view=azure-ml-py\" target=\"_blank\" rel=\"noopener\">Link to Documentation</a></td></tr></table>"
      ],
      "text/plain": [
       "<IPython.core.display.HTML object>"
      ]
     },
     "metadata": {},
     "output_type": "display_data"
    },
    {
     "name": "stdout",
     "output_type": "stream",
     "text": [
      "\n"
     ]
    }
   ],
   "source": [
    "remote_run = experiment.submit(automl_config, show_output=True)"
   ]
  },
  {
   "cell_type": "code",
   "execution_count": null,
   "id": "46715152-3160-4db7-bd38-8341fc3fcb3f",
   "metadata": {},
   "outputs": [],
   "source": []
  }
 ],
 "metadata": {
  "kernelspec": {
   "display_name": "Python 3.8 - AzureML",
   "language": "python",
   "name": "python38-azureml"
  },
  "language_info": {
   "codemirror_mode": {
    "name": "ipython",
    "version": 3
   },
   "file_extension": ".py",
   "mimetype": "text/x-python",
   "name": "python",
   "nbconvert_exporter": "python",
   "pygments_lexer": "ipython3",
   "version": "3.8.5"
  }
 },
 "nbformat": 4,
 "nbformat_minor": 5
}
