{
 "cells": [
  {
   "cell_type": "code",
   "execution_count": 5,
   "metadata": {},
   "outputs": [],
   "source": [
    "from azure.ml import MLClient\n",
    "from azure.identity import DefaultAzureCredential"
   ]
  },
  {
   "cell_type": "code",
   "execution_count": 6,
   "metadata": {},
   "outputs": [],
   "source": [
    "# subscription_id = \"6560575d-fa06-4e7d-95fb-f962e74efd7a\"\n",
    "# resource_group = \"azureml-examples\"\n",
    "# workspace = \"main\"\n",
    "\n",
    "subscription_id = \"15ae9cb6-95c1-483d-a0e3-b1a1a3b06324\"\n",
    "resource_group = \"ray\"\n",
    "workspace = \"ray\"\n",
    "\n",
    "\n",
    "\n",
    "ml_client = MLClient(DefaultAzureCredential(), subscription_id, resource_group, workspace)"
   ]
  },
  {
   "cell_type": "markdown",
   "metadata": {},
   "source": [
    "## Command Job"
   ]
  },
  {
   "cell_type": "code",
   "execution_count": 7,
   "metadata": {},
   "outputs": [],
   "source": [
    "from azure.ml import command, Input, Output, PyTorchDistribution\n",
    "from azure.ml.entities import ResourceConfiguration, Environment \n",
    "prep = command(\n",
    "  code='src',\n",
    "  command=\n",
    "    \"python startDask.py \"\n",
    "    \"--script prep-nyctaxi.py \"\n",
    "    \"--nyc_taxi_dataset ${{inputs.nyc_taxi_dataset}} \"\n",
    "    \"--output_folder ${{outputs.output_folder}}\",\n",
    "  inputs={\n",
    "    'nyc_taxi_dataset': Input(\n",
    "        path= 'wasbs://datasets@azuremlexamples.blob.core.windows.net/nyctaxi/',\n",
    "        mode= 'ro_mount')},\n",
    "  outputs={\n",
    "    'output_folder':Output(\n",
    "      type= 'uri_folder')},\n",
    "  environment=Environment( \n",
    "    image= 'mcr.microsoft.com/azureml/openmpi4.1.0-ubuntu20.04',\n",
    "    conda_file= 'conda.yml'),\n",
    "  compute= 'daniel-big',\n",
    "  resources=ResourceConfiguration(instance_count=4),\n",
    "  distribution=PyTorchDistribution(),\n",
    "  experiment_name= 'dask-nyctaxi-pipeline-example',\n",
    "  description= 'This sample shows how to run a distributed DASK job on AzureML. The 24GB NYC Taxi dataset is read in CSV format by a 4 node DASK cluster, processed and then written as job output in parquet format.'\n",
    ")"
   ]
  },
  {
   "cell_type": "code",
   "execution_count": 8,
   "metadata": {},
   "outputs": [],
   "source": [
    "train = command(\n",
    "  code= 'src',\n",
    "  command=\n",
    "    \"python train-xgboost.py \"\n",
    "    \"--nyc_taxi_parquet ${{inputs.nyc_taxi_parquet}} \"\n",
    "    \"--model ${{outputs.model}} \"\n",
    "    \"--tree_method ${{inputs.tree_method}} \"\n",
    "    \"--learning_rate ${{inputs.learning_rate}} \"\n",
    "    \"--gamma ${{inputs.gamma}} \"\n",
    "    \"--max_depth ${{inputs.max_depth}} \"\n",
    "    \"--num_boost_round ${{inputs.num_boost_round}} \",\n",
    "  inputs={\n",
    "    \"nyc_taxi_parquet\": Input(\n",
    "      path='azureml:azureml_polite_loquat_c3x4fj4l4m_output_data_output_folder:1',\n",
    "      mode='ro_mount'),\n",
    "    \"tree_method\": \"auto\",\n",
    "    \"learning_rate\": 0.3,\n",
    "    \"gamma\": 1,\n",
    "    \"max_depth\": 7,\n",
    "    \"num_boost_round\": 20,\n",
    "  },\n",
    "  outputs={\n",
    "    \"model\": Output(type='mlflow_model')\n",
    "  },\n",
    "  environment=Environment(\n",
    "    image= \"mcr.microsoft.com/azureml/openmpi4.1.0-ubuntu20.04\",\n",
    "    conda_file= \"conda.yml\"),\n",
    "  compute= \"daniel-big\",\n",
    "  experiment_name= \"dask-nyctaxi-example\"\n",
    ")"
   ]
  },
  {
   "cell_type": "code",
   "execution_count": 9,
   "metadata": {},
   "outputs": [],
   "source": [
    "from azure.ml import command, Input, Output\n",
    "from azure.ml.entities import Environment\n",
    "\n",
    "test = command(\n",
    "  code=\"src\",\n",
    "  command=\n",
    "    \"cp -r ${{inputs.model_in}}/* ${{outputs.model_out}} && \"\n",
    "    \"echo testing MLFLow model && \"\n",
    "    \"mlflow models predict -m ${{outputs.model_out}} -i ${{inputs.testdata}} -t json && \"\n",
    "    \"echo && \"\n",
    "    \"cat ${{outputs.model_out}}/MLmodel\",\n",
    "  inputs={\n",
    "    \"model_in\": Input(\n",
    "      path='data/fare_predict'),\n",
    "    \"testdata\": Input(\n",
    "      path='data/data.json',\n",
    "      type='uri_file')\n",
    "  },\n",
    "  outputs={\n",
    "    \"model_out\": Output(type='mlflow_model')\n",
    "  },\n",
    "  environment=Environment(\n",
    "    image= \"mcr.microsoft.com/azureml/openmpi4.1.0-ubuntu20.04\",\n",
    "    conda_file= \"conda.yml\"),\n",
    "  compute= \"cpu-cluster\",\n",
    "  experiment_name= \"dask-nyctaxi-example\"\n",
    ")"
   ]
  },
  {
   "cell_type": "code",
   "execution_count": 10,
   "metadata": {},
   "outputs": [
    {
     "name": "stderr",
     "output_type": "stream",
     "text": [
      "\u001b[32mUploading src (0.02 MBs): 100%|██████████████████████████████████████████████████████████████████████████████████████████████████████████████████████████████████████████████████████████████████████████████████████████████████████████████████████████████████████████████████████████████████████████████████████████████████████████████████████████████████████████████████████████████████████████████████████████████████████████████████████████████████████████████████████████████████████████████████████████████████████████████████████████████████████████████████████████████████████████████████████████████████████████████████████████████████████████████████████████████████████████████████████████████████████████████████████████████████████████████████████████████████████████████████████████████████████████████████████████████████████████████████████████████████████████████████████████████████████████████████████████████████████████████████████████████| 17559/17559 [00:00<00:00, 511627.70it/s]\u001b[0m\n",
      "\u001b[39m\n",
      "\n",
      "\u001b[32mUploading fare_predict (0.11 MBs): 100%|██████████████████████████████████████████████████████████████████████████████████████████████████████████████████████████████████████████████████████████████████████████████████████████████████████████████████████████████████████████████████████████████████████████████████████████████████████████████████████████████████████████████████████████████████████████████████████████████████████████████████████████████████████████████████████████████████████████████████████████████████████████████████████████████████████████████████████████████████████████████████████████████████████████████████████████████████████████████████████████████████████████████████████████████████████████████████████████████████████████████████████████████████████████████████████████████████████████████████████████████████████████████████████████████████████████████████████████████████████████████████████████████████████████████████| 114012/114012 [00:00<00:00, 2075948.60it/s]\u001b[0m\n",
      "\u001b[39m\n",
      "\n",
      "\u001b[32mUploading data.json\u001b[32m (< 1 MB): 100%|████████████████████████████████████████████████████████████████████████████████████████████████████████████████████████████████████████████████████████████████████████████████████████████████████████████████████████████████████████████████████████████████████████████████████████████████████████████████████████████████████████████████████████████████████████████████████████████████████████████████████████████████████████████████████████████████████████████████████████████████████████████████████████████████████████████████████████████████████████████████████████████████████████████████████████████████████████████████████████████████████████████████████████████████████████████████████████████████████████████████████████████████████████████████████████████████████████████████████████████████████████████████████████████████████████████████████████████████████████████████████████████████████████████████████████████████| 1.30k/1.30k [00:00<00:00, 117kB/s]\u001b[0m\n",
      "\u001b[39m\n",
      "\n"
     ]
    },
    {
     "data": {
      "text/html": [
       "<table style=\"width:100%\"><tr><th>Experiment</th><th>Name</th><th>Type</th><th>Status</th><th>Details Page</th></tr><tr><td>dask-nyctaxi-example</td><td>stoic_house_drw1xxlw0x</td><td>command</td><td>Starting</td><td><a href=\"https://ml.azure.com/runs/stoic_house_drw1xxlw0x?wsid=/subscriptions/15ae9cb6-95c1-483d-a0e3-b1a1a3b06324/resourcegroups/ray/workspaces/ray&amp;tid=72f988bf-86f1-41af-91ab-2d7cd011db47\" target=\"_blank\" rel=\"noopener\">Link to Azure Machine Learning studio</a></td></tr></table>"
      ],
      "text/plain": [
       "CommandJob({'parameters': {}, 'display_name': 'stoic_house_drw1xxlw0x', 'type': 'command', 'status': 'Starting', 'log_files': None, 'name': 'stoic_house_drw1xxlw0x', 'description': None, 'tags': {}, 'properties': {'mlflow.source.git.repoURL': 'https://github.com/Azure/azureml-examples/', 'mlflow.source.git.branch': 'danielsc/sdk-preview-demo', 'mlflow.source.git.commit': '3da96458da731c820954cd1cbd833f17f77bc79a', 'azureml.git.dirty': 'True', '_azureml.ComputeTargetType': 'amlctrain', 'ContentSnapshotId': 'e53bd1ee-7df6-45b1-ab27-f665ac996a93'}, 'id': '/subscriptions/15ae9cb6-95c1-483d-a0e3-b1a1a3b06324/resourceGroups/ray/providers/Microsoft.MachineLearningServices/workspaces/ray/jobs/stoic_house_drw1xxlw0x', 'base_path': './', 'creation_context': <azure.ml._restclient.v2022_02_01_preview.models._models_py3.SystemData object at 0x7f2146bd47f0>, 'serialize': <msrest.serialization.Serializer object at 0x7f214788dca0>, 'command': 'cp -r ${{inputs.model_in}}/* ${{outputs.model_out}} && echo testing MLFLow model && mlflow models predict -m ${{outputs.model_out}} -i ${{inputs.testdata}} -t json && echo && cat ${{outputs.model_out}}/MLmodel', 'code': '/subscriptions/15ae9cb6-95c1-483d-a0e3-b1a1a3b06324/resourceGroups/ray/providers/Microsoft.MachineLearningServices/workspaces/ray/codes/0e53c3f5-7ffb-400e-af06-cb0c31cca26a/versions/1', 'environment_variables': {}, 'environment': 'CliV2AnonymousEnvironment:6ec99a9d7a3e89824128866d18eb6cd6', 'distribution': None, 'resources': {'instance_count': 1, 'properties': {}}, 'experiment_name': 'dask-nyctaxi-example', 'compute': 'cpu-cluster', 'services': {'Tracking': <azure.ml._restclient.v2022_02_01_preview.models._models_py3.JobService object at 0x7f2146bd4cd0>, 'Studio': <azure.ml._restclient.v2022_02_01_preview.models._models_py3.JobService object at 0x7f2146bd41c0>}, 'outputs': {'model_out': {'type': 'mlflow_model', 'mode': 'rw_mount'}, 'default': {'type': 'uri_folder', 'mode': 'rw_mount', 'path': 'azureml://datastores/workspaceartifactstore/ExperimentRun/dcid.stoic_house_drw1xxlw0x'}}, 'inputs': {'model_in': {'type': 'uri_folder', 'path': 'azureml://datastores/workspaceblobstore/paths/LocalUpload/5a742357c7b5abf5d737643e2cb3dec6/fare_predict/', 'mode': 'ro_mount'}, 'testdata': {'type': 'uri_file', 'path': 'azureml://datastores/workspaceblobstore/paths/LocalUpload/04e7c7bbfc400b348d7010df27715c21/data.json', 'mode': 'ro_mount'}}, 'limits': None, 'identity': None})"
      ]
     },
     "execution_count": 10,
     "metadata": {},
     "output_type": "execute_result"
    }
   ],
   "source": [
    "ml_client.jobs.create_or_update(test)"
   ]
  },
  {
   "cell_type": "markdown",
   "metadata": {},
   "source": [
    "## Pipeline Job"
   ]
  },
  {
   "cell_type": "code",
   "execution_count": 11,
   "metadata": {},
   "outputs": [],
   "source": [
    "from azure.ml.dsl import pipeline\n",
    "\n",
    "@pipeline()\n",
    "def prep_train_test(dataset: Input):\n",
    "  prep_job = prep(nyc_taxi_dataset=dataset)\n",
    "  train_job = train(nyc_taxi_parquet=prep_job.outputs.output_folder,\n",
    "                    tree_method='auto',\n",
    "                    learning_rate= 0.3,\n",
    "                    gamma= 1,\n",
    "                    max_depth= 7,\n",
    "                    num_boost_round= 12)\n",
    "  test_job = test(model_in=train_job.outputs.model)\n",
    "  return dict(model=test_job.outputs.model_out)"
   ]
  },
  {
   "cell_type": "code",
   "execution_count": 12,
   "metadata": {},
   "outputs": [
    {
     "data": {
      "text/html": [
       "<table style=\"width:100%\"><tr><th>Experiment</th><th>Name</th><th>Type</th><th>Status</th><th>Details Page</th></tr><tr><td>e2e-dask-sweep</td><td>funny_bucket_xjscw9zj7w</td><td>pipeline</td><td>Preparing</td><td><a href=\"https://ml.azure.com/runs/funny_bucket_xjscw9zj7w?wsid=/subscriptions/15ae9cb6-95c1-483d-a0e3-b1a1a3b06324/resourcegroups/ray/workspaces/ray&amp;tid=72f988bf-86f1-41af-91ab-2d7cd011db47\" target=\"_blank\" rel=\"noopener\">Link to Azure Machine Learning studio</a></td></tr></table>"
      ],
      "text/plain": [
       "PipelineJob({'inputs': {'dataset': <azure.ml.entities._job.pipeline._io.PipelineInput object at 0x7f7997a918e0>}, 'outputs': {'model': <azure.ml.entities._job.pipeline._io.PipelineOutput object at 0x7f7997a91cd0>}, 'component': _PipelineComponent({'components': {}, 'auto_increment_version': False, 'is_anonymous': True, 'name': '90c4d79a-091b-4839-9383-28d1ee6bcfd0', 'description': None, 'tags': {}, 'properties': {}, 'id': None, 'base_path': None, 'creation_context': None, 'serialize': <msrest.serialization.Serializer object at 0x7f7997a910d0>, 'version': '1', 'latest_version': None, 'schema': None, 'type': 'pipeline_component', 'display_name': None, 'is_deterministic': True, 'inputs': {}, 'outputs': {}, 'yaml_str': None, 'other_parameter': {}, 'func': <function [component] None at 0x7f7997aba4c0>}), 'display_name': 'funny_bucket_xjscw9zj7w', 'type': 'pipeline', 'status': 'Preparing', 'log_files': None, 'name': 'funny_bucket_xjscw9zj7w', 'description': None, 'tags': {}, 'properties': {'mlflow.source.git.repoURL': 'https://github.com/Azure/azureml-examples/', 'mlflow.source.git.branch': 'danielsc/sdk-preview-demo', 'mlflow.source.git.commit': '3da96458da731c820954cd1cbd833f17f77bc79a', 'azureml.git.dirty': 'True', 'azureml.runsource': 'azureml.PipelineRun', 'runSource': 'SDKv2', 'runType': 'HTTP', 'azureml.parameters': '{}', 'azureml.continue_on_step_failure': 'False', 'azureml.enforceRerun': 'False', 'azureml.pipelineComponent': 'pipelinerun'}, 'id': '/subscriptions/15ae9cb6-95c1-483d-a0e3-b1a1a3b06324/resourceGroups/ray/providers/Microsoft.MachineLearningServices/workspaces/ray/jobs/funny_bucket_xjscw9zj7w', 'base_path': './', 'creation_context': <azure.ml._restclient.v2022_02_01_preview.models._models_py3.SystemData object at 0x7f799872e2e0>, 'serialize': <msrest.serialization.Serializer object at 0x7f7997a91370>, 'experiment_name': 'e2e-dask-sweep', 'compute': None, 'services': {'Tracking': <azure.ml._restclient.v2022_02_01_preview.models._models_py3.JobService object at 0x7f799872e610>, 'Studio': <azure.ml._restclient.v2022_02_01_preview.models._models_py3.JobService object at 0x7f799872e8e0>}, 'jobs': {'prep_job': {'code': {}, 'command': {}}, 'train_job': {'code': {}, 'command': {}}, 'test_job': {'code': {}, 'command': {}}}, 'settings': <azure.ml.entities._job.pipeline.pipeline_job_settings.PipelineJobSettings object at 0x7f799872e130>, 'identity': None, 'default_code': None, 'default_environment': None})"
      ]
     },
     "execution_count": 12,
     "metadata": {},
     "output_type": "execute_result"
    }
   ],
   "source": [
    "nyc_raw_data = Input(path='wasbs://datasets@azuremlexamples.blob.core.windows.net/nyctaxi/')\n",
    "\n",
    "pipeline_job = prep_train_test(dataset=nyc_raw_data)\n",
    "\n",
    "ml_client.jobs.create_or_update(pipeline_job)"
   ]
  },
  {
   "cell_type": "markdown",
   "metadata": {},
   "source": [
    "## Sweep Job"
   ]
  },
  {
   "cell_type": "code",
   "execution_count": 12,
   "metadata": {},
   "outputs": [],
   "source": [
    "from azure.ml.dsl import pipeline\n",
    "from azure.ml.sweep import Choice, Uniform\n",
    "\n",
    "@pipeline()\n",
    "def prep_sweep_test(dataset: Input):\n",
    "  prep_job = prep(nyc_taxi_dataset=dataset)\n",
    "\n",
    "  train_job = train(nyc_taxi_parquet=prep_job.outputs.output_folder,\n",
    "                    tree_method=Choice(['auto', 'exact', 'approx', 'hist']),\n",
    "                    learning_rate=Uniform(0, 1),\n",
    "                    gamma= Choice(range(7)),\n",
    "                    max_depth= Choice(range(4,8)),\n",
    "                    num_boost_round= 20,)\n",
    "\n",
    "  sweep_job = train_job.sweep(primary_metric='test-rmse',\n",
    "                              goal='minimize',\n",
    "                              sampling_algorithm='bayesian',\n",
    "                              compute='daniel-big')\n",
    "\n",
    "  sweep_job.set_limits(max_concurrent_trials=5,\n",
    "                      max_total_trials=25)\n",
    "\n",
    "  test_job = test(model_in=sweep_job.outputs.model)\n",
    "  return dict(model=test_job.outputs.model_out)"
   ]
  },
  {
   "cell_type": "code",
   "execution_count": 13,
   "metadata": {},
   "outputs": [
    {
     "data": {
      "text/html": [
       "<table style=\"width:100%\"><tr><th>Experiment</th><th>Name</th><th>Type</th><th>Status</th><th>Details Page</th></tr><tr><td>e2e-dask-sweep</td><td>crimson_guava_4drxl2zm27</td><td>pipeline</td><td>Preparing</td><td><a href=\"https://ml.azure.com/runs/crimson_guava_4drxl2zm27?wsid=/subscriptions/15ae9cb6-95c1-483d-a0e3-b1a1a3b06324/resourcegroups/ray/workspaces/ray&amp;tid=72f988bf-86f1-41af-91ab-2d7cd011db47\" target=\"_blank\" rel=\"noopener\">Link to Azure Machine Learning studio</a></td></tr></table>"
      ],
      "text/plain": [
       "PipelineJob({'inputs': {'dataset': <azure.ml.entities._job.pipeline._io.PipelineInput object at 0x7febf4b2eca0>}, 'outputs': {'model': <azure.ml.entities._job.pipeline._io.PipelineOutput object at 0x7febf4b2e6a0>}, 'component': _PipelineComponent({'components': {}, 'auto_increment_version': False, 'is_anonymous': True, 'name': '689f4148-d289-42c0-814d-a73ecd0b6919', 'description': None, 'tags': {}, 'properties': {}, 'id': None, 'base_path': None, 'creation_context': None, 'serialize': <msrest.serialization.Serializer object at 0x7febf4b2e250>, 'version': '1', 'latest_version': None, 'schema': None, 'type': 'pipeline_component', 'display_name': None, 'is_deterministic': True, 'inputs': {}, 'outputs': {}, 'yaml_str': None, 'other_parameter': {}, 'func': <function [component] None at 0x7febf4b69d30>}), 'display_name': 'crimson_guava_4drxl2zm27', 'type': 'pipeline', 'status': 'Preparing', 'log_files': None, 'name': 'crimson_guava_4drxl2zm27', 'description': None, 'tags': {}, 'properties': {'mlflow.source.git.repoURL': 'https://github.com/Azure/azureml-examples/', 'mlflow.source.git.branch': 'danielsc/sdk-preview-demo', 'mlflow.source.git.commit': '3da96458da731c820954cd1cbd833f17f77bc79a', 'azureml.git.dirty': 'True', 'azureml.runsource': 'azureml.PipelineRun', 'runSource': 'SDKv2', 'runType': 'HTTP', 'azureml.parameters': '{}', 'azureml.continue_on_step_failure': 'False', 'azureml.enforceRerun': 'False', 'azureml.pipelineComponent': 'pipelinerun'}, 'id': '/subscriptions/15ae9cb6-95c1-483d-a0e3-b1a1a3b06324/resourceGroups/ray/providers/Microsoft.MachineLearningServices/workspaces/ray/jobs/crimson_guava_4drxl2zm27', 'base_path': './', 'creation_context': <azure.ml._restclient.v2022_02_01_preview.models._models_py3.SystemData object at 0x7febf49f7100>, 'serialize': <msrest.serialization.Serializer object at 0x7febf4b2ed60>, 'experiment_name': 'e2e-dask-sweep', 'compute': None, 'services': {'Tracking': <azure.ml._restclient.v2022_02_01_preview.models._models_py3.JobService object at 0x7febf49f7a30>, 'Studio': <azure.ml._restclient.v2022_02_01_preview.models._models_py3.JobService object at 0x7febf49f73a0>}, 'jobs': {'prep_job': {'code': {}, 'command': {}}, 'sweep_job': {'_source': <ComponentSource.REST: 'REST'>, 'identity': None, 'component': {}}, 'test_job': {'code': {}, 'command': {}}}, 'settings': <azure.ml.entities._job.pipeline.pipeline_job_settings.PipelineJobSettings object at 0x7febf4b2e850>, 'identity': None, 'default_code': None, 'default_environment': None})"
      ]
     },
     "execution_count": 13,
     "metadata": {},
     "output_type": "execute_result"
    }
   ],
   "source": [
    "nyc_raw_data = Input(path= 'wasbs://datasets@azuremlexamples.blob.core.windows.net/nyctaxi/')\n",
    "\n",
    "pipeline_job = prep_sweep_test(dataset=nyc_raw_data)\n",
    "\n",
    "ml_client.jobs.create_or_update(pipeline_job)"
   ]
  },
  {
   "cell_type": "markdown",
   "metadata": {},
   "source": [
    "## Standalone Sweep Job"
   ]
  },
  {
   "cell_type": "code",
   "execution_count": 21,
   "metadata": {},
   "outputs": [],
   "source": [
    "from azure.ml.sweep import Choice, Uniform, LogUniform\n",
    "\n",
    "train_job = train(tree_method=Choice(['auto', 'exact', 'approx', 'hist']),\n",
    "                  learning_rate=Uniform(0, 1),\n",
    "                  gamma= Choice(range(7)),\n",
    "                  max_depth= Choice(range(4,8)),\n",
    "                  num_boost_round= 20,)"
   ]
  },
  {
   "cell_type": "code",
   "execution_count": 22,
   "metadata": {},
   "outputs": [],
   "source": [
    "from azure.ml.sweep import BayesianSamplingAlgorithm\n",
    "\n",
    "sweep_job = train_job.sweep(primary_metric='test-rmse',\n",
    "                            goal='minimize',\n",
    "                            sampling_algorithm=BayesianSamplingAlgorithm(),\n",
    "                            compute='daniel-big')\n",
    "\n",
    "sweep_job.set_limits(max_concurrent_trials=5,\n",
    "                     max_total_trials=25)\n"
   ]
  },
  {
   "cell_type": "code",
   "execution_count": 23,
   "metadata": {},
   "outputs": [
    {
     "data": {
      "text/html": [
       "<table style=\"width:100%\"><tr><th>Experiment</th><th>Name</th><th>Type</th><th>Status</th><th>Details Page</th></tr><tr><td>e2e-dask-sweep</td><td>9290a448-867f-cc19-df3b-90dfeb28619a</td><td>sweep</td><td>Running</td><td><a href=\"https://ml.azure.com/runs/9290a448-867f-cc19-df3b-90dfeb28619a?wsid=/subscriptions/15ae9cb6-95c1-483d-a0e3-b1a1a3b06324/resourcegroups/ray/workspaces/ray&amp;tid=72f988bf-86f1-41af-91ab-2d7cd011db47\" target=\"_blank\" rel=\"noopener\">Link to Azure Machine Learning studio</a></td></tr></table>"
      ],
      "text/plain": [
       "SweepJob({'display_name': '9290a448-867f-cc19-df3b-90dfeb28619a', 'type': 'sweep', 'status': 'Running', 'log_files': None, 'name': '9290a448-867f-cc19-df3b-90dfeb28619a', 'description': None, 'tags': {'_aml_system_max_concurrent_jobs': '5', '_aml_system_max_total_jobs': '25', '_aml_system_max_duration_minutes': '86400', '_aml_system_policy_config': '{\"name\": \"DEFAULT\", \"properties\": {}}', '_aml_system_generator_config': '{\"name\": \"BAYESIANOPTIMIZATION\", \"properties\": {}, \"parameter_space\": {\"tree_method\": [\"choice\", [[\"auto\", \"exact\", \"approx\", \"hist\"]]], \"learning_rate\": [\"uniform\", [0, 1]], \"gamma\": [\"choice\", [[0, 1, 2, 3, 4, 5, 6]]], \"max_depth\": [\"choice\", [[4, 5, 6, 7]]]}}', '_aml_system_primary_metric_config': '{\"name\": \"test-rmse\", \"goal\": \"minimize\"}', '_aml_system_platform_config': '{\"ServiceAddress\": \"https://eastus2.api.azureml.ms\", \"SubscriptionId\": \"15ae9cb6-95c1-483d-a0e3-b1a1a3b06324\", \"ResourceGroupName\": \"ray\", \"WorkspaceName\": \"ray\", \"ExperimentName\": \"e2e-dask-sweep\", \"Definition\": {\"Configuration\": null, \"Attribution\": null, \"TelemetryValues\": null, \"Overrides\": {\"Script\": null, \"Command\": \"python train-xgboost.py --nyc_taxi_parquet ${{inputs.nyc_taxi_parquet}} --model ${{outputs.model}} --tree_method ${{search_space.tree_method}} --learning_rate ${{search_space.learning_rate}} --gamma ${{search_space.gamma}} --max_depth ${{search_space.max_depth}} --num_boost_round ${{inputs.num_boost_round}} \", \"UseAbsolutePath\": true, \"Arguments\": [], \"SourceDirectoryDataStore\": null, \"Framework\": 0, \"Target\": \"daniel-big\", \"DataReferences\": {}, \"Data\": {\"nyc_taxi_parquet\": {\"DataLocation\": {\"Dataset\": null, \"DataPath\": null, \"Uri\": {\"Path\": \"/subscriptions/15ae9cb6-95c1-483d-a0e3-b1a1a3b06324/resourceGroups/ray/providers/Microsoft.MachineLearningServices/workspaces/ray/data/azureml_polite_loquat_c3x4fj4l4m_output_data_output_folder/versions/1\", \"IsFile\": false}, \"Type\": \"UriFolder\"}, \"Mechanism\": \"Mount\", \"EnvironmentVariableName\": \"AZURE_ML_INPUT_nyc_taxi_parquet\", \"PathOnCompute\": null, \"Overwrite\": false, \"Options\": {\"IsEvalMode\": \"False\", \"ReadWrite\": \"False\", \"ForceFolder\": \"False\"}}}, \"InputAssets\": {\"nyc_taxi_parquet\": {\"Asset\": {\"AssetId\": \"azureml://locations/eastus2/workspaces/599c8ff0-b43f-4048-ba22-2073107846af/data/azureml_polite_loquat_c3x4fj4l4m_output_data_output_folder/versions/1\", \"Type\": \"UriFolder\"}, \"Mechanism\": \"Mount\", \"EnvironmentVariableName\": \"AZURE_ML_INPUT_nyc_taxi_parquet\", \"PathOnCompute\": null, \"Overwrite\": false, \"Options\": {\"IsEvalMode\": \"False\", \"ReadWrite\": \"False\", \"ForceFolder\": \"False\"}}}, \"OutputData\": {}, \"Datacaches\": [], \"JobName\": null, \"MaxRunDurationSeconds\": null, \"NodeCount\": 1, \"InstanceTypes\": [], \"Priority\": null, \"CredentialPassthrough\": false, \"Identity\": null, \"Environment\": {\"Name\": \"CliV2AnonymousEnvironment\", \"Version\": \"7752a31ab24bdbc290d59ef29b7fcc72\", \"AssetId\": \"azureml://locations/eastus2/workspaces/599c8ff0-b43f-4048-ba22-2073107846af/environments/CliV2AnonymousEnvironment/versions/7752a31ab24bdbc290d59ef29b7fcc72\", \"Python\": {\"InterpreterPath\": null, \"UserManagedDependencies\": false, \"CondaDependencies\": {\"channels\": [\"defaults\", \"conda-forge\"], \"dependencies\": [\"python=3.8\", \"dask==2022.2.1\", \"distributed==2022.2.1\", \"pip==21.3.1\", \"jupyterlab\", \"jupyter-server-proxy\", {\"pip\": [\"fastparquet==0.8.0\", \"fsspec==2022.2.0\", \"tabulate==0.8.9\", \"azureml-mlflow\", \"xgboost==1.6.0\"]}], \"name\": \"dask\"}, \"BaseCondaEnvironment\": null}, \"EnvironmentVariables\": {}, \"Docker\": {\"BaseImage\": \"mcr.microsoft.com/azureml/openmpi4.1.0-ubuntu20.04\", \"Platform\": {\"Os\": \"Linux\", \"Architecture\": \"amd64\"}, \"BaseDockerfile\": null, \"BaseImageRegistry\": null}, \"Spark\": {\"Repositories\": [], \"Packages\": [], \"PrecachePackages\": true}, \"InferencingStackVersion\": null}, \"History\": {\"OutputCollection\": true, \"DirectoriesToWatch\": [\"logs\"], \"EnableMLflowTracking\": true}, \"Spark\": {\"Configuration\": {}}, \"ParallelTask\": {\"MaxRetriesPerWorker\": 0, \"WorkerCountPerNode\": 1, \"TerminalExitCodes\": null, \"Configuration\": {}}, \"BatchAi\": {\"NodeCount\": 0}, \"AmlCompute\": {\"Name\": null, \"VmSize\": null, \"RetainCluster\": false, \"ClusterMaxNodeCount\": null}, \"AISuperComputer\": {\"InstanceType\": \"D2\", \"FrameworkImage\": null, \"ImageVersion\": \"pytorch-1.7.0\", \"Location\": null, \"AISuperComputerStorageData\": null, \"Interactive\": false, \"ScalePolicy\": null, \"VirtualClusterArmId\": null, \"TensorboardLogDirectory\": null, \"SSHPublicKey\": null, \"SSHPublicKeys\": null, \"EnableAzmlInt\": true, \"Priority\": \"Medium\", \"SLATier\": \"Standard\", \"UserAlias\": null}, \"KubernetesCompute\": {\"InstanceType\": null}, \"Tensorflow\": {\"WorkerCount\": 0, \"ParameterServerCount\": 0}, \"Mpi\": {\"ProcessCountPerNode\": 0}, \"PyTorch\": {\"CommunicationBackend\": null, \"ProcessCount\": null}, \"Hdi\": {\"YarnDeployMode\": 0}, \"ContainerInstance\": {\"Region\": null, \"CpuCores\": 2.0, \"MemoryGb\": 3.5}, \"ExposedPorts\": null, \"Docker\": {\"UseDocker\": true, \"SharedVolumes\": null, \"ShmSize\": null, \"Arguments\": null}, \"Cmk8sCompute\": {\"Configuration\": {}}, \"CommandReturnCodeConfig\": {\"ReturnCode\": 0, \"SuccessfulReturnCodes\": []}, \"ApplicationEndpoints\": {}, \"Parameters\": [{\"Name\": \"num_boost_round\", \"Type\": null, \"Value\": \"20\", \"IsOptional\": false}]}, \"SnapshotId\": \"059bbed3-4116-4da3-8b3f-629e1924ba99\", \"Snapshots\": [], \"SourceCodeDataReference\": null, \"ParentRunId\": null, \"DataContainerId\": null, \"RunType\": null, \"DisplayName\": \"9290a448-867f-cc19-df3b-90dfeb28619a\", \"EnvironmentAssetId\": null, \"Properties\": {\"mlflow.source.git.repoURL\": \"https://github.com/Azure/azureml-examples/\", \"mlflow.source.git.branch\": \"danielsc/sdk-preview-demo\", \"mlflow.source.git.commit\": \"ae2e39175a703626b07685181a421ce1922a55eb\", \"azureml.git.dirty\": \"True\"}, \"Tags\": {}, \"AggregatedArtifactPath\": null}}', '_aml_system_resume_child_runs': 'null', '_aml_system_all_jobs_generated': 'false', '_aml_system_cancellation_requested': 'false'}, 'properties': {'primary_metric_config': '{\"name\": \"test-rmse\", \"goal\": \"minimize\"}', 'resume_from': 'null', 'runTemplate': 'HyperDrive', 'azureml.runsource': 'hyperdrive', 'platform': 'AML', 'mlflow.source.git.repoURL': 'https://github.com/Azure/azureml-examples/', 'mlflow.source.git.branch': 'danielsc/sdk-preview-demo', 'mlflow.source.git.commit': 'ae2e39175a703626b07685181a421ce1922a55eb', 'azureml.git.dirty': 'True', 'ContentSnapshotId': '059bbed3-4116-4da3-8b3f-629e1924ba99', 'user_agent': 'managementfrontend/2a72429067f397f2aa1eb8a1ccd8cd6195f31df2'}, 'id': '/subscriptions/15ae9cb6-95c1-483d-a0e3-b1a1a3b06324/resourceGroups/ray/providers/Microsoft.MachineLearningServices/workspaces/ray/jobs/9290a448-867f-cc19-df3b-90dfeb28619a', 'base_path': './', 'creation_context': <azure.ml._restclient.v2022_02_01_preview.models._models_py3.SystemData object at 0x7f4971468310>, 'serialize': <msrest.serialization.Serializer object at 0x7f49716385e0>, 'sampling_algorithm': <azure.ml.entities._job.sweep.sampling_algorithm.RandomSamplingAlgorithm object at 0x7f49781b74f0>, 'early_termination': None, 'limits': <azure.ml.entities._job.job_limits.SweepJobLimits object at 0x7f4971638d60>, 'search_space': {'tree_method': <azure.ml.entities._job.sweep.search_space.Choice object at 0x7f49787b3820>, 'learning_rate': <azure.ml.entities._job.sweep.search_space.Uniform object at 0x7f49787b3940>, 'gamma': <azure.ml.entities._job.sweep.search_space.Choice object at 0x7f49787b3d30>, 'max_depth': <azure.ml.entities._job.sweep.search_space.Choice object at 0x7f49787b3550>}, 'objective': <azure.ml._restclient.v2022_02_01_preview.models._models_py3.Objective object at 0x7f4971468df0>, 'experiment_name': 'e2e-dask-sweep', 'compute': 'daniel-big', 'services': {'Studio': <azure.ml._restclient.v2022_02_01_preview.models._models_py3.JobService object at 0x7f4971468fd0>}, 'inputs': {'nyc_taxi_parquet': {'type': 'uri_folder', 'path': 'azureml://locations/eastus2/workspaces/599c8ff0-b43f-4048-ba22-2073107846af/data/azureml_polite_loquat_c3x4fj4l4m_output_data_output_folder/versions/1', 'mode': 'ro_mount'}, 'num_boost_round': '20'}, 'outputs': {'default': {'type': 'uri_folder', 'mode': 'rw_mount', 'path': 'azureml://datastores/workspaceartifactstore/ExperimentRun/dcid.9290a448-867f-cc19-df3b-90dfeb28619a'}}, 'trial': <azure.ml.entities._job.parameterized_command.ParameterizedCommand object at 0x7f49787b3400>, 'identity': None})"
      ]
     },
     "execution_count": 23,
     "metadata": {},
     "output_type": "execute_result"
    }
   ],
   "source": [
    "ml_client.jobs.create_or_update(sweep_job)"
   ]
  },
  {
   "cell_type": "code",
   "execution_count": null,
   "metadata": {},
   "outputs": [],
   "source": []
  }
 ],
 "metadata": {
  "interpreter": {
   "hash": "6d65a8c07f5b6469e0fc613f182488c0dccce05038bbda39e5ac9075c0454d11"
  },
  "kernelspec": {
   "display_name": "Python 3.8.5 ('azureml_py38')",
   "language": "python",
   "name": "python3"
  },
  "language_info": {
   "codemirror_mode": {
    "name": "ipython",
    "version": 3
   },
   "file_extension": ".py",
   "mimetype": "text/x-python",
   "name": "python",
   "nbconvert_exporter": "python",
   "pygments_lexer": "ipython3",
   "version": "3.8.13"
  },
  "orig_nbformat": 4
 },
 "nbformat": 4,
 "nbformat_minor": 2
}
