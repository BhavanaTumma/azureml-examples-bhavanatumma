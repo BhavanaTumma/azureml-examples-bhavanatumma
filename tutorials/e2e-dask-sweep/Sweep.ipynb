{
 "cells": [
  {
   "cell_type": "code",
   "execution_count": null,
   "metadata": {},
   "outputs": [],
   "source": [
    "from azure.ml import MLClient\n",
    "from azure.identity import DefaultAzureCredential"
   ]
  },
  {
   "cell_type": "code",
   "execution_count": null,
   "metadata": {},
   "outputs": [],
   "source": [
    "subscription_id = \"15ae9cb6-95c1-483d-a0e3-b1a1a3b06324\"\n",
    "resource_group = \"ray\"\n",
    "workspace = \"ray\"\n",
    "\n",
    "ml_client = MLClient(DefaultAzureCredential(), subscription_id, resource_group, workspace)"
   ]
  },
  {
   "cell_type": "code",
   "execution_count": null,
   "metadata": {},
   "outputs": [
    {
     "ename": "SyntaxError",
     "evalue": "invalid syntax (868553302.py, line 1)",
     "output_type": "error",
     "traceback": [
      "\u001b[0;36m  Input \u001b[0;32mIn [4]\u001b[0;36m\u001b[0m\n\u001b[0;31m    ml_client.jobs.\u001b[0m\n\u001b[0m                   ^\u001b[0m\n\u001b[0;31mSyntaxError\u001b[0m\u001b[0;31m:\u001b[0m invalid syntax\n"
     ]
    }
   ],
   "source": [
    "ml_client.jobs."
   ]
  },
  {
   "cell_type": "markdown",
   "metadata": {},
   "source": [
    "## Command Job"
   ]
  },
  {
   "cell_type": "code",
   "execution_count": null,
   "metadata": {},
   "outputs": [],
   "source": [
    "from azure.ml import command, Input, Output, PyTorchDistribution\n",
    "from azure.ml.entities import ResourceConfiguration, Environment \n",
    "prep = command(\n",
    "  code='src',\n",
    "  command=\n",
    "    \"python startDask.py \"\n",
    "    \"--script prep-nyctaxi.py \"\n",
    "    \"--nyc_taxi_dataset ${{inputs.nyc_taxi_dataset}} \"\n",
    "    \"--output_folder ${{outputs.output_folder}}\",\n",
    "  inputs={\n",
    "    'nyc_taxi_dataset': Input(\n",
    "        path= 'wasbs://datasets@azuremlexamples.blob.core.windows.net/nyctaxi/',\n",
    "        mode= 'ro_mount')},\n",
    "  outputs={\n",
    "    'output_folder':Output(\n",
    "      type= 'uri_folder')},\n",
    "  environment=Environment( \n",
    "    image= 'mcr.microsoft.com/azureml/openmpi4.1.0-ubuntu20.04',\n",
    "    conda_file= 'conda.yml'),\n",
    "  compute= 'daniel-big',\n",
    "  resources=ResourceConfiguration(instance_count= 4),\n",
    "  distribution=PyTorchDistribution(),\n",
    "  experiment_name= 'dask-nyctaxi-pipeline-example',\n",
    "  description= 'This sample shows how to run a distributed DASK job on AzureML. The 24GB NYC Taxi dataset is read in CSV format by a 4 node DASK cluster, processed and then written as job output in parquet format.'\n",
    ")"
   ]
  },
  {
   "cell_type": "code",
   "execution_count": 31,
   "metadata": {},
   "outputs": [],
   "source": [
    "train = command(\n",
    "  code= 'src',\n",
    "  command=\n",
    "    \"python train-xgboost.py \"\n",
    "    \"--nyc_taxi_parquet ${{inputs.nyc_taxi_parquet}} \"\n",
    "    \"--model ${{outputs.model}} \"\n",
    "    \"--tree_method ${{inputs.tree_method}} \"\n",
    "    \"--learning_rate ${{inputs.learning_rate}} \"\n",
    "    \"--gamma ${{inputs.gamma}} \"\n",
    "    \"--max_depth ${{inputs.max_depth}} \"\n",
    "    \"--num_boost_round ${{inputs.num_boost_round}} \",\n",
    "  inputs={\n",
    "    \"nyc_taxi_parquet\": Input(\n",
    "      path='azureml:azureml_polite_loquat_c3x4fj4l4m_output_data_output_folder:1',\n",
    "      mode='ro_mount'),\n",
    "    \"tree_method\": \"auto\",\n",
    "    \"learning_rate\": 0.3,\n",
    "    \"gamma\": 1,\n",
    "    \"max_depth\": 7,\n",
    "    \"num_boost_round\": 20,\n",
    "  },\n",
    "  outputs={\n",
    "    \"model\": Output(type='mlflow_model')\n",
    "  },\n",
    "  environment=Environment(\n",
    "    image= \"mcr.microsoft.com/azureml/openmpi4.1.0-ubuntu20.04\",\n",
    "    conda_file= \"conda.yml\"),\n",
    "  compute= \"daniel-big\",\n",
    "  experiment_name= \"dask-nyctaxi-example\"\n",
    ")"
   ]
  },
  {
   "cell_type": "code",
   "execution_count": 47,
   "metadata": {},
   "outputs": [],
   "source": [
    "from azure.ml import command, Input, Output\n",
    "from azure.ml.entities import Environment\n",
    "\n",
    "test = command(\n",
    "  code= 'src',\n",
    "  command=\n",
    "    \"cp -r ${{inputs.model_in}}/* ${{outputs.model_out}} \",\n",
    "  inputs={\n",
    "    \"model_in\": Input(\n",
    "      path='azureml:azureml_yellow_nail_h3t6w6r57k_output_model:1',\n",
    "      mode='ro_mount')\n",
    "  },\n",
    "  outputs={\n",
    "    \"model_out\": Output(type='mlflow_model')\n",
    "  },\n",
    "  environment=Environment(\n",
    "    image= \"mcr.microsoft.com/azureml/openmpi4.1.0-ubuntu20.04\"),\n",
    "  compute= \"daniel-big\",\n",
    "  experiment_name= \"dask-nyctaxi-example\"\n",
    ")"
   ]
  },
  {
   "cell_type": "code",
   "execution_count": 48,
   "metadata": {},
   "outputs": [
    {
     "data": {
      "text/html": [
       "<table style=\"width:100%\"><tr><th>Experiment</th><th>Name</th><th>Type</th><th>Status</th><th>Details Page</th></tr><tr><td>dask-nyctaxi-example</td><td>loving_avocado_9jzd5msrzn</td><td>command</td><td>Starting</td><td><a href=\"https://ml.azure.com/runs/loving_avocado_9jzd5msrzn?wsid=/subscriptions/15ae9cb6-95c1-483d-a0e3-b1a1a3b06324/resourcegroups/ray/workspaces/ray&amp;tid=72f988bf-86f1-41af-91ab-2d7cd011db47\" target=\"_blank\" rel=\"noopener\">Link to Azure Machine Learning studio</a></td></tr></table>"
      ],
      "text/plain": [
       "CommandJob({'parameters': {}, 'display_name': 'loving_avocado_9jzd5msrzn', 'type': 'command', 'status': 'Starting', 'log_files': None, 'name': 'loving_avocado_9jzd5msrzn', 'description': None, 'tags': {}, 'properties': {'mlflow.source.git.repoURL': 'https://github.com/Azure/azureml-examples/', 'mlflow.source.git.branch': 'danielsc/sdk-preview-demo', 'mlflow.source.git.commit': '7cf84dacbc35fc9d46cf49d2dd57070f757c1c2e', 'azureml.git.dirty': 'True', '_azureml.ComputeTargetType': 'amlctrain', 'ContentSnapshotId': 'b83de657-f27c-4953-8fe2-ba9d18dabc51'}, 'id': '/subscriptions/15ae9cb6-95c1-483d-a0e3-b1a1a3b06324/resourceGroups/ray/providers/Microsoft.MachineLearningServices/workspaces/ray/jobs/loving_avocado_9jzd5msrzn', 'base_path': './', 'creation_context': <azure.ml._restclient.v2022_02_01_preview.models._models_py3.SystemData object at 0x7f3d36128130>, 'serialize': <msrest.serialization.Serializer object at 0x7f3d361dc040>, 'command': 'cp -r ${{inputs.model_in}}/* ${{outputs.model_out}} ', 'code': '/subscriptions/15ae9cb6-95c1-483d-a0e3-b1a1a3b06324/resourceGroups/ray/providers/Microsoft.MachineLearningServices/workspaces/ray/codes/217257f5-12f0-4771-95c9-3d3254010c3c/versions/1', 'environment_variables': {}, 'environment': 'CliV2AnonymousEnvironment:60557a1b0a854bbe243f996cc0a2c340', 'distribution': None, 'resources': {'instance_count': 1, 'properties': {}}, 'experiment_name': 'dask-nyctaxi-example', 'compute': 'daniel-big', 'services': {'Tracking': <azure.ml._restclient.v2022_02_01_preview.models._models_py3.JobService object at 0x7f3d361284f0>, 'Studio': <azure.ml._restclient.v2022_02_01_preview.models._models_py3.JobService object at 0x7f3d36128220>}, 'outputs': {'model_out': {'type': 'mlflow_model', 'mode': 'rw_mount'}, 'default': {'type': 'uri_folder', 'mode': 'rw_mount', 'path': 'azureml://datastores/workspaceartifactstore/ExperimentRun/dcid.loving_avocado_9jzd5msrzn'}}, 'inputs': {'model_in': {'type': 'uri_folder', 'path': 'azureml_yellow_nail_h3t6w6r57k_output_model:1', 'mode': 'ro_mount'}}, 'limits': None, 'identity': None})"
      ]
     },
     "execution_count": 48,
     "metadata": {},
     "output_type": "execute_result"
    }
   ],
   "source": [
    "ml_client.jobs.create_or_update(test)"
   ]
  },
  {
   "cell_type": "markdown",
   "metadata": {},
   "source": [
    "## Pipeline Job"
   ]
  },
  {
   "cell_type": "code",
   "execution_count": 45,
   "metadata": {},
   "outputs": [],
   "source": [
    "from azure.ml.dsl import pipeline\n",
    "\n",
    "@pipeline()\n",
    "def prep_train_test(dataset: Input):\n",
    "  prep_job = prep(nyc_taxi_dataset=dataset)\n",
    "  train_job = train(nyc_taxi_parquet=prep_job.outputs.output_folder,\n",
    "                    tree_method='auto',\n",
    "                    learning_rate= 0.3,\n",
    "                    gamma= 1,\n",
    "                    max_depth= 7,\n",
    "                    num_boost_round= 12)\n",
    "  test_job = test(model_in=train_job.outputs.model)\n",
    "  return dict(model=test_job.outputs.model_out)"
   ]
  },
  {
   "cell_type": "code",
   "execution_count": 46,
   "metadata": {},
   "outputs": [
    {
     "ename": "HttpResponseError",
     "evalue": "(UserError) Component 628a22ae-a1de-ab0f-b37f-36ce7df1963c has invalid spec, details: In command \"cp -r ${{inputs.model}}/* ${{outputs.model}}\", input with name 'model' not found.\nCode: UserError\nMessage: Component 628a22ae-a1de-ab0f-b37f-36ce7df1963c has invalid spec, details: In command \"cp -r ${{inputs.model}}/* ${{outputs.model}}\", input with name 'model' not found.\nAdditional Information:Type: ComponentName\nInfo: {\n    \"value\": \"managementfrontend\"\n}Type: Correlation\nInfo: {\n    \"value\": {\n        \"operation\": \"b60e688d701a8b49960dd3bfd6f36be6\",\n        \"request\": \"d95c31175ad15eaf\"\n    }\n}Type: Environment\nInfo: {\n    \"value\": \"eastus2\"\n}Type: Location\nInfo: {\n    \"value\": \"eastus2\"\n}Type: Time\nInfo: {\n    \"value\": \"2022-05-01T15:13:23.2077451+00:00\"\n}Type: InnerError\nInfo: {\n    \"value\": {\n        \"code\": \"BadArgument\",\n        \"innerError\": {\n            \"code\": \"ArgumentInvalid\",\n            \"innerError\": {\n                \"code\": \"InvalidComponent\",\n                \"innerError\": {\n                    \"code\": \"InvalidComponentSpec\",\n                    \"innerError\": null\n                }\n            }\n        }\n    }\n}",
     "output_type": "error",
     "traceback": [
      "\u001b[0;31m---------------------------------------------------------------------------\u001b[0m",
      "\u001b[0;31mHttpResponseError\u001b[0m                         Traceback (most recent call last)",
      "\u001b[1;32m/home/azureuser/localfiles/git/azureml-examples/tutorials/e2e-dask-sweep/Sweep.ipynb Cell 11'\u001b[0m in \u001b[0;36m<cell line: 5>\u001b[0;34m()\u001b[0m\n\u001b[1;32m      <a href='vscode-notebook-cell://amlext%2B2f737562736372697074696f6e732f31356165396362362d393563312d343833642d613065332d6231613161336230363332342f7265736f7572636547726f7570732f7261792f70726f7669646572732f4d6963726f736f66742e4d616368696e654c6561726e696e6753657276696365732f776f726b7370616365732f7261792f636f6d70757465732f64616e69656c736333626967/home/azureuser/localfiles/git/azureml-examples/tutorials/e2e-dask-sweep/Sweep.ipynb#ch0000011vscode-remote?line=0'>1</a>\u001b[0m nyc_raw_data \u001b[39m=\u001b[39m Input(path\u001b[39m=\u001b[39m \u001b[39m'\u001b[39m\u001b[39mwasbs://datasets@azuremlexamples.blob.core.windows.net/nyctaxi/\u001b[39m\u001b[39m'\u001b[39m)\n\u001b[1;32m      <a href='vscode-notebook-cell://amlext%2B2f737562736372697074696f6e732f31356165396362362d393563312d343833642d613065332d6231613161336230363332342f7265736f7572636547726f7570732f7261792f70726f7669646572732f4d6963726f736f66742e4d616368696e654c6561726e696e6753657276696365732f776f726b7370616365732f7261792f636f6d70757465732f64616e69656c736333626967/home/azureuser/localfiles/git/azureml-examples/tutorials/e2e-dask-sweep/Sweep.ipynb#ch0000011vscode-remote?line=2'>3</a>\u001b[0m pipeline_job \u001b[39m=\u001b[39m prep_train_test(dataset\u001b[39m=\u001b[39mnyc_raw_data)\n\u001b[0;32m----> <a href='vscode-notebook-cell://amlext%2B2f737562736372697074696f6e732f31356165396362362d393563312d343833642d613065332d6231613161336230363332342f7265736f7572636547726f7570732f7261792f70726f7669646572732f4d6963726f736f66742e4d616368696e654c6561726e696e6753657276696365732f776f726b7370616365732f7261792f636f6d70757465732f64616e69656c736333626967/home/azureuser/localfiles/git/azureml-examples/tutorials/e2e-dask-sweep/Sweep.ipynb#ch0000011vscode-remote?line=4'>5</a>\u001b[0m ml_client\u001b[39m.\u001b[39;49mjobs\u001b[39m.\u001b[39;49mcreate_or_update(pipeline_job)\n",
      "File \u001b[0;32m/anaconda/envs/dask/lib/python3.8/site-packages/azure/ml/_telemetry/activity.py:168\u001b[0m, in \u001b[0;36mmonitor_with_activity.<locals>.monitor.<locals>.wrapper\u001b[0;34m(*args, **kwargs)\u001b[0m\n\u001b[1;32m    <a href='file:///anaconda/envs/dask/lib/python3.8/site-packages/azure/ml/_telemetry/activity.py?line=164'>165</a>\u001b[0m \u001b[39m@functools\u001b[39m\u001b[39m.\u001b[39mwraps(f)\n\u001b[1;32m    <a href='file:///anaconda/envs/dask/lib/python3.8/site-packages/azure/ml/_telemetry/activity.py?line=165'>166</a>\u001b[0m \u001b[39mdef\u001b[39;00m \u001b[39mwrapper\u001b[39m(\u001b[39m*\u001b[39margs, \u001b[39m*\u001b[39m\u001b[39m*\u001b[39mkwargs):\n\u001b[1;32m    <a href='file:///anaconda/envs/dask/lib/python3.8/site-packages/azure/ml/_telemetry/activity.py?line=166'>167</a>\u001b[0m     \u001b[39mwith\u001b[39;00m log_activity(logger, activity_name \u001b[39mor\u001b[39;00m f\u001b[39m.\u001b[39m\u001b[39m__name__\u001b[39m, activity_type, custom_dimensions):\n\u001b[0;32m--> <a href='file:///anaconda/envs/dask/lib/python3.8/site-packages/azure/ml/_telemetry/activity.py?line=167'>168</a>\u001b[0m         \u001b[39mreturn\u001b[39;00m f(\u001b[39m*\u001b[39;49margs, \u001b[39m*\u001b[39;49m\u001b[39m*\u001b[39;49mkwargs)\n",
      "File \u001b[0;32m/anaconda/envs/dask/lib/python3.8/site-packages/azure/ml/_operations/job_operations.py:316\u001b[0m, in \u001b[0;36mJobOperations.create_or_update\u001b[0;34m(self, job, description, compute, tags, experiment_name, **kwargs)\u001b[0m\n\u001b[1;32m    <a href='file:///anaconda/envs/dask/lib/python3.8/site-packages/azure/ml/_operations/job_operations.py?line=312'>313</a>\u001b[0m     job\u001b[39m.\u001b[39mexperiment_name \u001b[39m=\u001b[39m experiment_name\n\u001b[1;32m    <a href='file:///anaconda/envs/dask/lib/python3.8/site-packages/azure/ml/_operations/job_operations.py?line=314'>315</a>\u001b[0m \u001b[39m# Create all dependent resources\u001b[39;00m\n\u001b[0;32m--> <a href='file:///anaconda/envs/dask/lib/python3.8/site-packages/azure/ml/_operations/job_operations.py?line=315'>316</a>\u001b[0m \u001b[39mself\u001b[39;49m\u001b[39m.\u001b[39;49m_resolve_arm_id_or_upload_dependencies(job)\n\u001b[1;32m    <a href='file:///anaconda/envs/dask/lib/python3.8/site-packages/azure/ml/_operations/job_operations.py?line=316'>317</a>\u001b[0m \u001b[39mself\u001b[39m\u001b[39m.\u001b[39m_validate(job)\n\u001b[1;32m    <a href='file:///anaconda/envs/dask/lib/python3.8/site-packages/azure/ml/_operations/job_operations.py?line=318'>319</a>\u001b[0m git_props \u001b[39m=\u001b[39m get_git_properties()\n",
      "File \u001b[0;32m/anaconda/envs/dask/lib/python3.8/site-packages/azure/ml/_operations/job_operations.py:581\u001b[0m, in \u001b[0;36mJobOperations._resolve_arm_id_or_upload_dependencies\u001b[0;34m(self, job)\u001b[0m\n\u001b[1;32m    <a href='file:///anaconda/envs/dask/lib/python3.8/site-packages/azure/ml/_operations/job_operations.py?line=571'>572</a>\u001b[0m \u001b[39mdef\u001b[39;00m \u001b[39m_resolve_arm_id_or_upload_dependencies\u001b[39m(\u001b[39mself\u001b[39m, job: Job) \u001b[39m-\u001b[39m\u001b[39m>\u001b[39m \u001b[39mNone\u001b[39;00m:\n\u001b[1;32m    <a href='file:///anaconda/envs/dask/lib/python3.8/site-packages/azure/ml/_operations/job_operations.py?line=572'>573</a>\u001b[0m     \u001b[39m\"\"\"This method converts name or name:version to ARM id. Or it registers/uploads nested dependencies.\u001b[39;00m\n\u001b[1;32m    <a href='file:///anaconda/envs/dask/lib/python3.8/site-packages/azure/ml/_operations/job_operations.py?line=573'>574</a>\u001b[0m \n\u001b[1;32m    <a href='file:///anaconda/envs/dask/lib/python3.8/site-packages/azure/ml/_operations/job_operations.py?line=574'>575</a>\u001b[0m \u001b[39m    :param job: the job resource entity\u001b[39;00m\n\u001b[0;32m   (...)\u001b[0m\n\u001b[1;32m    <a href='file:///anaconda/envs/dask/lib/python3.8/site-packages/azure/ml/_operations/job_operations.py?line=577'>578</a>\u001b[0m \u001b[39m    :rtype: Job\u001b[39;00m\n\u001b[1;32m    <a href='file:///anaconda/envs/dask/lib/python3.8/site-packages/azure/ml/_operations/job_operations.py?line=578'>579</a>\u001b[0m \u001b[39m    \"\"\"\u001b[39;00m\n\u001b[0;32m--> <a href='file:///anaconda/envs/dask/lib/python3.8/site-packages/azure/ml/_operations/job_operations.py?line=580'>581</a>\u001b[0m     \u001b[39mself\u001b[39;49m\u001b[39m.\u001b[39;49m_resolve_arm_id_or_azureml_id(job, \u001b[39mself\u001b[39;49m\u001b[39m.\u001b[39;49m_orchestrators\u001b[39m.\u001b[39;49mget_asset_arm_id)\n\u001b[1;32m    <a href='file:///anaconda/envs/dask/lib/python3.8/site-packages/azure/ml/_operations/job_operations.py?line=582'>583</a>\u001b[0m     \u001b[39mif\u001b[39;00m \u001b[39misinstance\u001b[39m(job, PipelineJob):\n\u001b[1;32m    <a href='file:///anaconda/envs/dask/lib/python3.8/site-packages/azure/ml/_operations/job_operations.py?line=583'>584</a>\u001b[0m         \u001b[39m# Resolve top-level inputs\u001b[39;00m\n\u001b[1;32m    <a href='file:///anaconda/envs/dask/lib/python3.8/site-packages/azure/ml/_operations/job_operations.py?line=584'>585</a>\u001b[0m         \u001b[39mself\u001b[39m\u001b[39m.\u001b[39m_resolve_job_inputs(\u001b[39mmap\u001b[39m(\u001b[39mlambda\u001b[39;00m x: x\u001b[39m.\u001b[39m_data, job\u001b[39m.\u001b[39minputs\u001b[39m.\u001b[39mvalues()), job\u001b[39m.\u001b[39m_base_path)\n",
      "File \u001b[0;32m/anaconda/envs/dask/lib/python3.8/site-packages/azure/ml/_operations/job_operations.py:747\u001b[0m, in \u001b[0;36mJobOperations._resolve_arm_id_or_azureml_id\u001b[0;34m(self, job, resolver)\u001b[0m\n\u001b[1;32m    <a href='file:///anaconda/envs/dask/lib/python3.8/site-packages/azure/ml/_operations/job_operations.py?line=744'>745</a>\u001b[0m     job \u001b[39m=\u001b[39m \u001b[39mself\u001b[39m\u001b[39m.\u001b[39m_resolve_arm_id_for_automl_job(job, resolver)\n\u001b[1;32m    <a href='file:///anaconda/envs/dask/lib/python3.8/site-packages/azure/ml/_operations/job_operations.py?line=745'>746</a>\u001b[0m \u001b[39melif\u001b[39;00m \u001b[39misinstance\u001b[39m(job, PipelineJob):\n\u001b[0;32m--> <a href='file:///anaconda/envs/dask/lib/python3.8/site-packages/azure/ml/_operations/job_operations.py?line=746'>747</a>\u001b[0m     job \u001b[39m=\u001b[39m \u001b[39mself\u001b[39;49m\u001b[39m.\u001b[39;49m_resolve_arm_id_for_pipeline_job(job, resolver)\n\u001b[1;32m    <a href='file:///anaconda/envs/dask/lib/python3.8/site-packages/azure/ml/_operations/job_operations.py?line=747'>748</a>\u001b[0m \u001b[39melse\u001b[39;00m:\n\u001b[1;32m    <a href='file:///anaconda/envs/dask/lib/python3.8/site-packages/azure/ml/_operations/job_operations.py?line=748'>749</a>\u001b[0m     msg \u001b[39m=\u001b[39m \u001b[39mf\u001b[39m\u001b[39m\"\u001b[39m\u001b[39mNon supported job type: \u001b[39m\u001b[39m{\u001b[39;00m\u001b[39mtype\u001b[39m(job)\u001b[39m}\u001b[39;00m\u001b[39m\"\u001b[39m\n",
      "File \u001b[0;32m/anaconda/envs/dask/lib/python3.8/site-packages/azure/ml/_operations/job_operations.py:827\u001b[0m, in \u001b[0;36mJobOperations._resolve_arm_id_for_pipeline_job\u001b[0;34m(self, pipeline_job, resolver)\u001b[0m\n\u001b[1;32m    <a href='file:///anaconda/envs/dask/lib/python3.8/site-packages/azure/ml/_operations/job_operations.py?line=823'>824</a>\u001b[0m         \u001b[39mself\u001b[39m\u001b[39m.\u001b[39m_set_defaults_to_component(job_instance\u001b[39m.\u001b[39mcomponent, pipeline_job\u001b[39m.\u001b[39msettings)\n\u001b[1;32m    <a href='file:///anaconda/envs/dask/lib/python3.8/site-packages/azure/ml/_operations/job_operations.py?line=825'>826</a>\u001b[0m         \u001b[39m# Get the component id for each job's component\u001b[39;00m\n\u001b[0;32m--> <a href='file:///anaconda/envs/dask/lib/python3.8/site-packages/azure/ml/_operations/job_operations.py?line=826'>827</a>\u001b[0m         job_instance\u001b[39m.\u001b[39m_component \u001b[39m=\u001b[39m resolver(\n\u001b[1;32m    <a href='file:///anaconda/envs/dask/lib/python3.8/site-packages/azure/ml/_operations/job_operations.py?line=827'>828</a>\u001b[0m             job_instance\u001b[39m.\u001b[39;49mtrial \u001b[39mif\u001b[39;49;00m \u001b[39misinstance\u001b[39;49m(job_instance, Sweep) \u001b[39melse\u001b[39;49;00m job_instance\u001b[39m.\u001b[39;49mcomponent,\n\u001b[1;32m    <a href='file:///anaconda/envs/dask/lib/python3.8/site-packages/azure/ml/_operations/job_operations.py?line=828'>829</a>\u001b[0m             azureml_type\u001b[39m=\u001b[39;49mAzureMLResourceType\u001b[39m.\u001b[39;49mCOMPONENT,\n\u001b[1;32m    <a href='file:///anaconda/envs/dask/lib/python3.8/site-packages/azure/ml/_operations/job_operations.py?line=829'>830</a>\u001b[0m         )\n\u001b[1;32m    <a href='file:///anaconda/envs/dask/lib/python3.8/site-packages/azure/ml/_operations/job_operations.py?line=831'>832</a>\u001b[0m \u001b[39mreturn\u001b[39;00m pipeline_job\n",
      "File \u001b[0;32m/anaconda/envs/dask/lib/python3.8/site-packages/azure/ml/_operations/operation_orchestrator.py:141\u001b[0m, in \u001b[0;36mOperationOrchestrator.get_asset_arm_id\u001b[0;34m(self, asset, azureml_type, register_asset, sub_workspace_resource)\u001b[0m\n\u001b[1;32m    <a href='file:///anaconda/envs/dask/lib/python3.8/site-packages/azure/ml/_operations/operation_orchestrator.py?line=138'>139</a>\u001b[0m     result \u001b[39m=\u001b[39m \u001b[39mself\u001b[39m\u001b[39m.\u001b[39m_get_dataset_arm_id(asset, register_asset\u001b[39m=\u001b[39mregister_asset)\n\u001b[1;32m    <a href='file:///anaconda/envs/dask/lib/python3.8/site-packages/azure/ml/_operations/operation_orchestrator.py?line=139'>140</a>\u001b[0m \u001b[39melif\u001b[39;00m azureml_type \u001b[39m==\u001b[39m AzureMLResourceType\u001b[39m.\u001b[39mCOMPONENT \u001b[39mand\u001b[39;00m \u001b[39misinstance\u001b[39m(asset, Component):\n\u001b[0;32m--> <a href='file:///anaconda/envs/dask/lib/python3.8/site-packages/azure/ml/_operations/operation_orchestrator.py?line=140'>141</a>\u001b[0m     result \u001b[39m=\u001b[39m \u001b[39mself\u001b[39;49m\u001b[39m.\u001b[39;49m_get_component_arm_id(asset)\n\u001b[1;32m    <a href='file:///anaconda/envs/dask/lib/python3.8/site-packages/azure/ml/_operations/operation_orchestrator.py?line=141'>142</a>\u001b[0m \u001b[39melse\u001b[39;00m:\n\u001b[1;32m    <a href='file:///anaconda/envs/dask/lib/python3.8/site-packages/azure/ml/_operations/operation_orchestrator.py?line=142'>143</a>\u001b[0m     msg \u001b[39m=\u001b[39m \u001b[39m\"\u001b[39m\u001b[39mUnsupported azureml type \u001b[39m\u001b[39m{}\u001b[39;00m\u001b[39m for asset: \u001b[39m\u001b[39m{}\u001b[39;00m\u001b[39m\"\u001b[39m\n",
      "File \u001b[0;32m/anaconda/envs/dask/lib/python3.8/site-packages/azure/ml/_operations/operation_orchestrator.py:243\u001b[0m, in \u001b[0;36mOperationOrchestrator._get_component_arm_id\u001b[0;34m(self, component)\u001b[0m\n\u001b[1;32m    <a href='file:///anaconda/envs/dask/lib/python3.8/site-packages/azure/ml/_operations/operation_orchestrator.py?line=238'>239</a>\u001b[0m \u001b[39m\"\"\"If component arm id is already resolved, return the id\u001b[39;00m\n\u001b[1;32m    <a href='file:///anaconda/envs/dask/lib/python3.8/site-packages/azure/ml/_operations/operation_orchestrator.py?line=239'>240</a>\u001b[0m \u001b[39mOr get arm id via remote call, register the component if necessary,\u001b[39;00m\n\u001b[1;32m    <a href='file:///anaconda/envs/dask/lib/python3.8/site-packages/azure/ml/_operations/operation_orchestrator.py?line=240'>241</a>\u001b[0m \u001b[39mand FILL BACK the arm id to component to reduce remote call\"\"\"\u001b[39;00m\n\u001b[1;32m    <a href='file:///anaconda/envs/dask/lib/python3.8/site-packages/azure/ml/_operations/operation_orchestrator.py?line=241'>242</a>\u001b[0m \u001b[39mif\u001b[39;00m \u001b[39mnot\u001b[39;00m component\u001b[39m.\u001b[39mid:\n\u001b[0;32m--> <a href='file:///anaconda/envs/dask/lib/python3.8/site-packages/azure/ml/_operations/operation_orchestrator.py?line=242'>243</a>\u001b[0m     component\u001b[39m.\u001b[39m_id \u001b[39m=\u001b[39m \u001b[39mself\u001b[39;49m\u001b[39m.\u001b[39;49m_component\u001b[39m.\u001b[39;49mcreate_or_update(component, is_anonymous\u001b[39m=\u001b[39;49m\u001b[39mTrue\u001b[39;49;00m)\u001b[39m.\u001b[39mid\n\u001b[1;32m    <a href='file:///anaconda/envs/dask/lib/python3.8/site-packages/azure/ml/_operations/operation_orchestrator.py?line=243'>244</a>\u001b[0m \u001b[39mreturn\u001b[39;00m component\u001b[39m.\u001b[39mid\n",
      "File \u001b[0;32m/anaconda/envs/dask/lib/python3.8/site-packages/azure/ml/_telemetry/activity.py:168\u001b[0m, in \u001b[0;36mmonitor_with_activity.<locals>.monitor.<locals>.wrapper\u001b[0;34m(*args, **kwargs)\u001b[0m\n\u001b[1;32m    <a href='file:///anaconda/envs/dask/lib/python3.8/site-packages/azure/ml/_telemetry/activity.py?line=164'>165</a>\u001b[0m \u001b[39m@functools\u001b[39m\u001b[39m.\u001b[39mwraps(f)\n\u001b[1;32m    <a href='file:///anaconda/envs/dask/lib/python3.8/site-packages/azure/ml/_telemetry/activity.py?line=165'>166</a>\u001b[0m \u001b[39mdef\u001b[39;00m \u001b[39mwrapper\u001b[39m(\u001b[39m*\u001b[39margs, \u001b[39m*\u001b[39m\u001b[39m*\u001b[39mkwargs):\n\u001b[1;32m    <a href='file:///anaconda/envs/dask/lib/python3.8/site-packages/azure/ml/_telemetry/activity.py?line=166'>167</a>\u001b[0m     \u001b[39mwith\u001b[39;00m log_activity(logger, activity_name \u001b[39mor\u001b[39;00m f\u001b[39m.\u001b[39m\u001b[39m__name__\u001b[39m, activity_type, custom_dimensions):\n\u001b[0;32m--> <a href='file:///anaconda/envs/dask/lib/python3.8/site-packages/azure/ml/_telemetry/activity.py?line=167'>168</a>\u001b[0m         \u001b[39mreturn\u001b[39;00m f(\u001b[39m*\u001b[39;49margs, \u001b[39m*\u001b[39;49m\u001b[39m*\u001b[39;49mkwargs)\n",
      "File \u001b[0;32m/anaconda/envs/dask/lib/python3.8/site-packages/azure/ml/_operations/component_operations.py:211\u001b[0m, in \u001b[0;36mComponentOperations.create_or_update\u001b[0;34m(self, component, **kwargs)\u001b[0m\n\u001b[1;32m    <a href='file:///anaconda/envs/dask/lib/python3.8/site-packages/azure/ml/_operations/component_operations.py?line=202'>203</a>\u001b[0m     \u001b[39mif\u001b[39;00m CODE_IMMUTABLE_ERROR \u001b[39min\u001b[39;00m \u001b[39mstr\u001b[39m(e):\n\u001b[1;32m    <a href='file:///anaconda/envs/dask/lib/python3.8/site-packages/azure/ml/_operations/component_operations.py?line=203'>204</a>\u001b[0m         \u001b[39m# TODO: the exception type might be user error.\u001b[39;00m\n\u001b[1;32m    <a href='file:///anaconda/envs/dask/lib/python3.8/site-packages/azure/ml/_operations/component_operations.py?line=204'>205</a>\u001b[0m         \u001b[39mraise\u001b[39;00m ComponentException(\n\u001b[1;32m    <a href='file:///anaconda/envs/dask/lib/python3.8/site-packages/azure/ml/_operations/component_operations.py?line=205'>206</a>\u001b[0m             message\u001b[39m=\u001b[39mCHANGE_CODE_IMMUTABLE_ERROR\u001b[39m.\u001b[39mformat(rest_component_resource\u001b[39m.\u001b[39mname),\n\u001b[1;32m    <a href='file:///anaconda/envs/dask/lib/python3.8/site-packages/azure/ml/_operations/component_operations.py?line=206'>207</a>\u001b[0m             target\u001b[39m=\u001b[39mErrorTarget\u001b[39m.\u001b[39mCOMPONENT,\n\u001b[1;32m    <a href='file:///anaconda/envs/dask/lib/python3.8/site-packages/azure/ml/_operations/component_operations.py?line=207'>208</a>\u001b[0m             no_personal_data_message\u001b[39m=\u001b[39mCODE_IMMUTABLE_ERROR,\n\u001b[1;32m    <a href='file:///anaconda/envs/dask/lib/python3.8/site-packages/azure/ml/_operations/component_operations.py?line=208'>209</a>\u001b[0m             error_category\u001b[39m=\u001b[39mErrorCategory\u001b[39m.\u001b[39mUSER_ERROR,\n\u001b[1;32m    <a href='file:///anaconda/envs/dask/lib/python3.8/site-packages/azure/ml/_operations/component_operations.py?line=209'>210</a>\u001b[0m         )\n\u001b[0;32m--> <a href='file:///anaconda/envs/dask/lib/python3.8/site-packages/azure/ml/_operations/component_operations.py?line=210'>211</a>\u001b[0m     \u001b[39mraise\u001b[39;00m e\n\u001b[1;32m    <a href='file:///anaconda/envs/dask/lib/python3.8/site-packages/azure/ml/_operations/component_operations.py?line=212'>213</a>\u001b[0m \u001b[39mreturn\u001b[39;00m Component\u001b[39m.\u001b[39m_from_rest_object(result)\n",
      "File \u001b[0;32m/anaconda/envs/dask/lib/python3.8/site-packages/azure/ml/_operations/component_operations.py:193\u001b[0m, in \u001b[0;36mComponentOperations.create_or_update\u001b[0;34m(self, component, **kwargs)\u001b[0m\n\u001b[1;32m    <a href='file:///anaconda/envs/dask/lib/python3.8/site-packages/azure/ml/_operations/component_operations.py?line=182'>183</a>\u001b[0m         result \u001b[39m=\u001b[39m _create_or_update_autoincrement(\n\u001b[1;32m    <a href='file:///anaconda/envs/dask/lib/python3.8/site-packages/azure/ml/_operations/component_operations.py?line=183'>184</a>\u001b[0m             name\u001b[39m=\u001b[39mcomponent\u001b[39m.\u001b[39mname,\n\u001b[1;32m    <a href='file:///anaconda/envs/dask/lib/python3.8/site-packages/azure/ml/_operations/component_operations.py?line=184'>185</a>\u001b[0m             body\u001b[39m=\u001b[39mrest_component_resource,\n\u001b[0;32m   (...)\u001b[0m\n\u001b[1;32m    <a href='file:///anaconda/envs/dask/lib/python3.8/site-packages/azure/ml/_operations/component_operations.py?line=189'>190</a>\u001b[0m             \u001b[39m*\u001b[39m\u001b[39m*\u001b[39m\u001b[39mself\u001b[39m\u001b[39m.\u001b[39m_init_args,\n\u001b[1;32m    <a href='file:///anaconda/envs/dask/lib/python3.8/site-packages/azure/ml/_operations/component_operations.py?line=190'>191</a>\u001b[0m         )\n\u001b[1;32m    <a href='file:///anaconda/envs/dask/lib/python3.8/site-packages/azure/ml/_operations/component_operations.py?line=191'>192</a>\u001b[0m     \u001b[39melse\u001b[39;00m:\n\u001b[0;32m--> <a href='file:///anaconda/envs/dask/lib/python3.8/site-packages/azure/ml/_operations/component_operations.py?line=192'>193</a>\u001b[0m         result \u001b[39m=\u001b[39m \u001b[39mself\u001b[39;49m\u001b[39m.\u001b[39;49m_version_operation\u001b[39m.\u001b[39;49mcreate_or_update(\n\u001b[1;32m    <a href='file:///anaconda/envs/dask/lib/python3.8/site-packages/azure/ml/_operations/component_operations.py?line=193'>194</a>\u001b[0m             name\u001b[39m=\u001b[39;49mrest_component_resource\u001b[39m.\u001b[39;49mname,\n\u001b[1;32m    <a href='file:///anaconda/envs/dask/lib/python3.8/site-packages/azure/ml/_operations/component_operations.py?line=194'>195</a>\u001b[0m             version\u001b[39m=\u001b[39;49mcomponent\u001b[39m.\u001b[39;49mversion,\n\u001b[1;32m    <a href='file:///anaconda/envs/dask/lib/python3.8/site-packages/azure/ml/_operations/component_operations.py?line=195'>196</a>\u001b[0m             resource_group_name\u001b[39m=\u001b[39;49m\u001b[39mself\u001b[39;49m\u001b[39m.\u001b[39;49m_resource_group_name,\n\u001b[1;32m    <a href='file:///anaconda/envs/dask/lib/python3.8/site-packages/azure/ml/_operations/component_operations.py?line=196'>197</a>\u001b[0m             workspace_name\u001b[39m=\u001b[39;49m\u001b[39mself\u001b[39;49m\u001b[39m.\u001b[39;49m_workspace_name,\n\u001b[1;32m    <a href='file:///anaconda/envs/dask/lib/python3.8/site-packages/azure/ml/_operations/component_operations.py?line=197'>198</a>\u001b[0m             body\u001b[39m=\u001b[39;49mrest_component_resource,\n\u001b[1;32m    <a href='file:///anaconda/envs/dask/lib/python3.8/site-packages/azure/ml/_operations/component_operations.py?line=198'>199</a>\u001b[0m             \u001b[39m*\u001b[39;49m\u001b[39m*\u001b[39;49m\u001b[39mself\u001b[39;49m\u001b[39m.\u001b[39;49m_init_args,\n\u001b[1;32m    <a href='file:///anaconda/envs/dask/lib/python3.8/site-packages/azure/ml/_operations/component_operations.py?line=199'>200</a>\u001b[0m         )\n\u001b[1;32m    <a href='file:///anaconda/envs/dask/lib/python3.8/site-packages/azure/ml/_operations/component_operations.py?line=200'>201</a>\u001b[0m \u001b[39mexcept\u001b[39;00m \u001b[39mException\u001b[39;00m \u001b[39mas\u001b[39;00m e:\n\u001b[1;32m    <a href='file:///anaconda/envs/dask/lib/python3.8/site-packages/azure/ml/_operations/component_operations.py?line=201'>202</a>\u001b[0m     \u001b[39m# If user tries to create same component with different code, raise exception with meaningful error msg.\u001b[39;00m\n\u001b[1;32m    <a href='file:///anaconda/envs/dask/lib/python3.8/site-packages/azure/ml/_operations/component_operations.py?line=202'>203</a>\u001b[0m     \u001b[39mif\u001b[39;00m CODE_IMMUTABLE_ERROR \u001b[39min\u001b[39;00m \u001b[39mstr\u001b[39m(e):\n\u001b[1;32m    <a href='file:///anaconda/envs/dask/lib/python3.8/site-packages/azure/ml/_operations/component_operations.py?line=203'>204</a>\u001b[0m         \u001b[39m# TODO: the exception type might be user error.\u001b[39;00m\n",
      "File \u001b[0;32m/anaconda/envs/dask/lib/python3.8/site-packages/azure/core/tracing/decorator.py:83\u001b[0m, in \u001b[0;36mdistributed_trace.<locals>.decorator.<locals>.wrapper_use_tracer\u001b[0;34m(*args, **kwargs)\u001b[0m\n\u001b[1;32m     <a href='file:///anaconda/envs/dask/lib/python3.8/site-packages/azure/core/tracing/decorator.py?line=80'>81</a>\u001b[0m span_impl_type \u001b[39m=\u001b[39m settings\u001b[39m.\u001b[39mtracing_implementation()\n\u001b[1;32m     <a href='file:///anaconda/envs/dask/lib/python3.8/site-packages/azure/core/tracing/decorator.py?line=81'>82</a>\u001b[0m \u001b[39mif\u001b[39;00m span_impl_type \u001b[39mis\u001b[39;00m \u001b[39mNone\u001b[39;00m:\n\u001b[0;32m---> <a href='file:///anaconda/envs/dask/lib/python3.8/site-packages/azure/core/tracing/decorator.py?line=82'>83</a>\u001b[0m     \u001b[39mreturn\u001b[39;00m func(\u001b[39m*\u001b[39;49margs, \u001b[39m*\u001b[39;49m\u001b[39m*\u001b[39;49mkwargs)\n\u001b[1;32m     <a href='file:///anaconda/envs/dask/lib/python3.8/site-packages/azure/core/tracing/decorator.py?line=84'>85</a>\u001b[0m \u001b[39m# Merge span is parameter is set, but only if no explicit parent are passed\u001b[39;00m\n\u001b[1;32m     <a href='file:///anaconda/envs/dask/lib/python3.8/site-packages/azure/core/tracing/decorator.py?line=85'>86</a>\u001b[0m \u001b[39mif\u001b[39;00m merge_span \u001b[39mand\u001b[39;00m \u001b[39mnot\u001b[39;00m passed_in_parent:\n",
      "File \u001b[0;32m/anaconda/envs/dask/lib/python3.8/site-packages/azure/ml/_restclient/v2022_02_01_preview/operations/_component_versions_operations.py:516\u001b[0m, in \u001b[0;36mComponentVersionsOperations.create_or_update\u001b[0;34m(self, resource_group_name, workspace_name, name, version, body, **kwargs)\u001b[0m\n\u001b[1;32m    <a href='file:///anaconda/envs/dask/lib/python3.8/site-packages/azure/ml/_restclient/v2022_02_01_preview/operations/_component_versions_operations.py?line=513'>514</a>\u001b[0m     map_error(status_code\u001b[39m=\u001b[39mresponse\u001b[39m.\u001b[39mstatus_code, response\u001b[39m=\u001b[39mresponse, error_map\u001b[39m=\u001b[39merror_map)\n\u001b[1;32m    <a href='file:///anaconda/envs/dask/lib/python3.8/site-packages/azure/ml/_restclient/v2022_02_01_preview/operations/_component_versions_operations.py?line=514'>515</a>\u001b[0m     error \u001b[39m=\u001b[39m \u001b[39mself\u001b[39m\u001b[39m.\u001b[39m_deserialize\u001b[39m.\u001b[39mfailsafe_deserialize(_models\u001b[39m.\u001b[39mErrorResponse, pipeline_response)\n\u001b[0;32m--> <a href='file:///anaconda/envs/dask/lib/python3.8/site-packages/azure/ml/_restclient/v2022_02_01_preview/operations/_component_versions_operations.py?line=515'>516</a>\u001b[0m     \u001b[39mraise\u001b[39;00m HttpResponseError(response\u001b[39m=\u001b[39mresponse, model\u001b[39m=\u001b[39merror, error_format\u001b[39m=\u001b[39mARMErrorFormat)\n\u001b[1;32m    <a href='file:///anaconda/envs/dask/lib/python3.8/site-packages/azure/ml/_restclient/v2022_02_01_preview/operations/_component_versions_operations.py?line=517'>518</a>\u001b[0m \u001b[39mif\u001b[39;00m response\u001b[39m.\u001b[39mstatus_code \u001b[39m==\u001b[39m \u001b[39m200\u001b[39m:\n\u001b[1;32m    <a href='file:///anaconda/envs/dask/lib/python3.8/site-packages/azure/ml/_restclient/v2022_02_01_preview/operations/_component_versions_operations.py?line=518'>519</a>\u001b[0m     deserialized \u001b[39m=\u001b[39m \u001b[39mself\u001b[39m\u001b[39m.\u001b[39m_deserialize(\u001b[39m'\u001b[39m\u001b[39mComponentVersionData\u001b[39m\u001b[39m'\u001b[39m, pipeline_response)\n",
      "\u001b[0;31mHttpResponseError\u001b[0m: (UserError) Component 628a22ae-a1de-ab0f-b37f-36ce7df1963c has invalid spec, details: In command \"cp -r ${{inputs.model}}/* ${{outputs.model}}\", input with name 'model' not found.\nCode: UserError\nMessage: Component 628a22ae-a1de-ab0f-b37f-36ce7df1963c has invalid spec, details: In command \"cp -r ${{inputs.model}}/* ${{outputs.model}}\", input with name 'model' not found.\nAdditional Information:Type: ComponentName\nInfo: {\n    \"value\": \"managementfrontend\"\n}Type: Correlation\nInfo: {\n    \"value\": {\n        \"operation\": \"b60e688d701a8b49960dd3bfd6f36be6\",\n        \"request\": \"d95c31175ad15eaf\"\n    }\n}Type: Environment\nInfo: {\n    \"value\": \"eastus2\"\n}Type: Location\nInfo: {\n    \"value\": \"eastus2\"\n}Type: Time\nInfo: {\n    \"value\": \"2022-05-01T15:13:23.2077451+00:00\"\n}Type: InnerError\nInfo: {\n    \"value\": {\n        \"code\": \"BadArgument\",\n        \"innerError\": {\n            \"code\": \"ArgumentInvalid\",\n            \"innerError\": {\n                \"code\": \"InvalidComponent\",\n                \"innerError\": {\n                    \"code\": \"InvalidComponentSpec\",\n                    \"innerError\": null\n                }\n            }\n        }\n    }\n}"
     ]
    }
   ],
   "source": [
    "nyc_raw_data = Input(path= 'wasbs://datasets@azuremlexamples.blob.core.windows.net/nyctaxi/')\n",
    "\n",
    "pipeline_job = prep_train_test(dataset=nyc_raw_data)\n",
    "\n",
    "ml_client.jobs.create_or_update(pipeline_job)"
   ]
  },
  {
   "cell_type": "markdown",
   "metadata": {},
   "source": [
    "## Sweep Job"
   ]
  },
  {
   "cell_type": "code",
   "execution_count": null,
   "metadata": {},
   "outputs": [],
   "source": [
    "from azure.ml.dsl import pipeline\n",
    "from azure.ml.sweep import Choice, Uniform\n",
    "\n",
    "@pipeline()\n",
    "def prep_sweep_test(dataset: Input):\n",
    "  prep_job = prep(nyc_taxi_dataset=dataset)\n",
    "\n",
    "  train_job = train(nyc_taxi_parquet=prep_job.outputs.output_folder,\n",
    "                    tree_method=Choice(['auto', 'exact', 'approx', 'hist']),\n",
    "                    learning_rate=Uniform(0, 1),\n",
    "                    gamma= Choice(range(7)),\n",
    "                    max_depth= Choice(range(4,8)),\n",
    "                    num_boost_round= 20,)\n",
    "\n",
    "  sweep_job = train_job.sweep(primary_metric='test-rmse',\n",
    "                              goal='minimize',\n",
    "                              sampling_algorithm='bayesian',\n",
    "                              compute='daniel-big')\n",
    "\n",
    "  sweep_job.set_limits(max_concurrent_trials=5,\n",
    "                      max_total_trials=25)\n",
    "\n",
    "  test_job = test(model=sweep_job.outputs.model)\n",
    "  return {}"
   ]
  },
  {
   "cell_type": "code",
   "execution_count": null,
   "metadata": {},
   "outputs": [
    {
     "data": {
      "text/html": [
       "<table style=\"width:100%\"><tr><th>Experiment</th><th>Name</th><th>Type</th><th>Status</th><th>Details Page</th></tr><tr><td>nyctaxi</td><td>sad_candle_bmxm6nnv0w</td><td>pipeline</td><td>Preparing</td><td><a href=\"https://ml.azure.com/runs/sad_candle_bmxm6nnv0w?wsid=/subscriptions/15ae9cb6-95c1-483d-a0e3-b1a1a3b06324/resourcegroups/ray/workspaces/ray&amp;tid=72f988bf-86f1-41af-91ab-2d7cd011db47\" target=\"_blank\" rel=\"noopener\">Link to Azure Machine Learning studio</a></td></tr></table>"
      ],
      "text/plain": [
       "PipelineJob({'inputs': {'dataset': <azure.ml.entities._job.pipeline._io.PipelineInput object at 0x7fb39e48cee0>}, 'outputs': {}, 'component': _PipelineComponent({'components': {}, 'auto_increment_version': False, 'is_anonymous': True, 'name': 'e1813425-1e8b-4dc7-94ed-c2a9698939d8', 'description': None, 'tags': {}, 'properties': {}, 'id': None, 'base_path': None, 'creation_context': None, 'serialize': <msrest.serialization.Serializer object at 0x7fb39e488100>, 'version': '1', 'latest_version': None, 'schema': None, 'type': 'pipeline_component', 'display_name': None, 'is_deterministic': True, 'inputs': {}, 'outputs': {}, 'yaml_str': None, 'other_parameter': {}, 'func': <function [component] None at 0x7fb39e490700>}), 'display_name': 'sad_candle_bmxm6nnv0w', 'type': 'pipeline', 'status': 'Preparing', 'log_files': None, 'name': 'sad_candle_bmxm6nnv0w', 'description': None, 'tags': {}, 'properties': {'mlflow.source.git.repoURL': 'https://github.com/Azure/azureml-examples/', 'mlflow.source.git.branch': 'danielsc/sdk-preview-demo', 'mlflow.source.git.commit': '493de370efb6fdb4c939db95ff6945752b4bc86e', 'azureml.git.dirty': 'True', 'azureml.runsource': 'azureml.PipelineRun', 'runSource': 'SDKv2', 'runType': 'HTTP', 'azureml.parameters': '{}', 'azureml.continue_on_step_failure': 'False', 'azureml.enforceRerun': 'False', 'azureml.pipelineComponent': 'pipelinerun'}, 'id': '/subscriptions/15ae9cb6-95c1-483d-a0e3-b1a1a3b06324/resourceGroups/ray/providers/Microsoft.MachineLearningServices/workspaces/ray/jobs/sad_candle_bmxm6nnv0w', 'base_path': './', 'creation_context': <azure.ml._restclient.v2022_02_01_preview.models._models_py3.SystemData object at 0x7fb39e4a1700>, 'serialize': <msrest.serialization.Serializer object at 0x7fb39e4b80a0>, 'experiment_name': 'nyctaxi', 'compute': None, 'services': {'Tracking': <azure.ml._restclient.v2022_02_01_preview.models._models_py3.JobService object at 0x7fb39e4bd9d0>, 'Studio': <azure.ml._restclient.v2022_02_01_preview.models._models_py3.JobService object at 0x7fb39e4bda00>}, 'jobs': {'prep_job': {'code': {}, 'command': {}}, 'sweep_job': {'_source': <ComponentSource.REST: 'REST'>, 'identity': None, 'component': {}}, 'test_job': {'code': {}, 'command': {}}}, 'settings': <azure.ml.entities._job.pipeline.pipeline_job_settings.PipelineJobSettings object at 0x7fb39e48cf10>, 'identity': None, 'default_code': None, 'default_environment': None})"
      ]
     },
     "execution_count": 19,
     "metadata": {},
     "output_type": "execute_result"
    }
   ],
   "source": [
    "nyc_raw_data = Input(path= 'wasbs://datasets@azuremlexamples.blob.core.windows.net/nyctaxi/')\n",
    "\n",
    "pipeline_job = prep_sweep_test(dataset=nyc_raw_data)\n",
    "\n",
    "ml_client.jobs.create_or_update(pipeline_job)"
   ]
  },
  {
   "cell_type": "markdown",
   "metadata": {},
   "source": [
    "## Standalone Sweep Job"
   ]
  },
  {
   "cell_type": "code",
   "execution_count": null,
   "metadata": {},
   "outputs": [],
   "source": [
    "from azure.ml.sweep import Choice, Uniform, LogUniform\n",
    "\n",
    "train_job = train(tree_method=Choice(['auto', 'exact', 'approx', 'hist']),\n",
    "                  learning_rate=Uniform(0, 1),\n",
    "                  gamma= Choice(range(7)),\n",
    "                  max_depth= Choice(range(4,8)),\n",
    "                  num_boost_round= 20,)"
   ]
  },
  {
   "cell_type": "code",
   "execution_count": null,
   "metadata": {},
   "outputs": [],
   "source": [
    "from azure.ml.sweep import BayesianSamplingAlgorithm\n",
    "\n",
    "sweep_job = train_job.sweep(primary_metric='test-rmse',\n",
    "                            goal='minimize',\n",
    "                            sampling_algorithm=BayesianSamplingAlgorithm(),\n",
    "                            compute='daniel-big')\n",
    "\n",
    "sweep_job.set_limits(max_concurrent_trials=5,\n",
    "                     max_total_trials=25)\n"
   ]
  },
  {
   "cell_type": "code",
   "execution_count": null,
   "metadata": {},
   "outputs": [],
   "source": []
  },
  {
   "cell_type": "code",
   "execution_count": null,
   "metadata": {},
   "outputs": [
    {
     "ename": "AssetException",
     "evalue": "Error with code: /home/azureuser/localfiles/git/azureml-examples/tutorials/e2e-dask-sweep/sdfsjl not found, local_path or path must be a path to a file or directory.",
     "output_type": "error",
     "traceback": [
      "\u001b[0;31m---------------------------------------------------------------------------\u001b[0m",
      "\u001b[0;31mException\u001b[0m                                 Traceback (most recent call last)",
      "File \u001b[0;32m/anaconda/envs/dask/lib/python3.8/site-packages/azure/ml/_operations/operation_orchestrator.py:172\u001b[0m, in \u001b[0;36mOperationOrchestrator._get_code_asset_arm_id\u001b[0;34m(self, code_asset, register_asset)\u001b[0m\n\u001b[1;32m    <a href='file:///anaconda/envs/dask/lib/python3.8/site-packages/azure/ml/_operations/operation_orchestrator.py?line=170'>171</a>\u001b[0m \u001b[39mif\u001b[39;00m register_asset:\n\u001b[0;32m--> <a href='file:///anaconda/envs/dask/lib/python3.8/site-packages/azure/ml/_operations/operation_orchestrator.py?line=171'>172</a>\u001b[0m     code_asset \u001b[39m=\u001b[39m \u001b[39mself\u001b[39;49m\u001b[39m.\u001b[39;49m_code_assets\u001b[39m.\u001b[39;49mcreate_or_update(code_asset)\n\u001b[1;32m    <a href='file:///anaconda/envs/dask/lib/python3.8/site-packages/azure/ml/_operations/operation_orchestrator.py?line=172'>173</a>\u001b[0m     \u001b[39mreturn\u001b[39;00m code_asset\u001b[39m.\u001b[39mid\n",
      "File \u001b[0;32m/anaconda/envs/dask/lib/python3.8/site-packages/azure/ml/_telemetry/activity.py:168\u001b[0m, in \u001b[0;36mmonitor_with_activity.<locals>.monitor.<locals>.wrapper\u001b[0;34m(*args, **kwargs)\u001b[0m\n\u001b[1;32m    <a href='file:///anaconda/envs/dask/lib/python3.8/site-packages/azure/ml/_telemetry/activity.py?line=166'>167</a>\u001b[0m \u001b[39mwith\u001b[39;00m log_activity(logger, activity_name \u001b[39mor\u001b[39;00m f\u001b[39m.\u001b[39m\u001b[39m__name__\u001b[39m, activity_type, custom_dimensions):\n\u001b[0;32m--> <a href='file:///anaconda/envs/dask/lib/python3.8/site-packages/azure/ml/_telemetry/activity.py?line=167'>168</a>\u001b[0m     \u001b[39mreturn\u001b[39;00m f(\u001b[39m*\u001b[39;49margs, \u001b[39m*\u001b[39;49m\u001b[39m*\u001b[39;49mkwargs)\n",
      "File \u001b[0;32m/anaconda/envs/dask/lib/python3.8/site-packages/azure/ml/_operations/code_operations.py:58\u001b[0m, in \u001b[0;36mCodeOperations.create_or_update\u001b[0;34m(self, code)\u001b[0m\n\u001b[1;32m     <a href='file:///anaconda/envs/dask/lib/python3.8/site-packages/azure/ml/_operations/code_operations.py?line=55'>56</a>\u001b[0m version \u001b[39m=\u001b[39m code\u001b[39m.\u001b[39mversion\n\u001b[0;32m---> <a href='file:///anaconda/envs/dask/lib/python3.8/site-packages/azure/ml/_operations/code_operations.py?line=57'>58</a>\u001b[0m code, _ \u001b[39m=\u001b[39m _check_and_upload_path(artifact\u001b[39m=\u001b[39;49mcode, asset_operations\u001b[39m=\u001b[39;49m\u001b[39mself\u001b[39;49m)\n\u001b[1;32m     <a href='file:///anaconda/envs/dask/lib/python3.8/site-packages/azure/ml/_operations/code_operations.py?line=59'>60</a>\u001b[0m \u001b[39m# For anonymous code, if the code already exists in storage, we reuse the name, version stored in the storage\u001b[39;00m\n\u001b[1;32m     <a href='file:///anaconda/envs/dask/lib/python3.8/site-packages/azure/ml/_operations/code_operations.py?line=60'>61</a>\u001b[0m \u001b[39m# metadata so the same anonymous code won't be created again.\u001b[39;00m\n",
      "File \u001b[0;32m/anaconda/envs/dask/lib/python3.8/site-packages/azure/ml/_artifacts/_artifact_utilities.py:343\u001b[0m, in \u001b[0;36m_check_and_upload_path\u001b[0;34m(artifact, asset_operations, datastore_name)\u001b[0m\n\u001b[1;32m    <a href='file:///anaconda/envs/dask/lib/python3.8/site-packages/azure/ml/_artifacts/_artifact_utilities.py?line=341'>342</a>\u001b[0m     path \u001b[39m=\u001b[39m Path(artifact\u001b[39m.\u001b[39mbase_path, path)\u001b[39m.\u001b[39mresolve()\n\u001b[0;32m--> <a href='file:///anaconda/envs/dask/lib/python3.8/site-packages/azure/ml/_artifacts/_artifact_utilities.py?line=342'>343</a>\u001b[0m uploaded_artifact \u001b[39m=\u001b[39m _upload_to_datastore(\n\u001b[1;32m    <a href='file:///anaconda/envs/dask/lib/python3.8/site-packages/azure/ml/_artifacts/_artifact_utilities.py?line=343'>344</a>\u001b[0m     asset_operations\u001b[39m.\u001b[39;49m_operation_scope,\n\u001b[1;32m    <a href='file:///anaconda/envs/dask/lib/python3.8/site-packages/azure/ml/_artifacts/_artifact_utilities.py?line=344'>345</a>\u001b[0m     asset_operations\u001b[39m.\u001b[39;49m_datastore_operation,\n\u001b[1;32m    <a href='file:///anaconda/envs/dask/lib/python3.8/site-packages/azure/ml/_artifacts/_artifact_utilities.py?line=345'>346</a>\u001b[0m     path,\n\u001b[1;32m    <a href='file:///anaconda/envs/dask/lib/python3.8/site-packages/azure/ml/_artifacts/_artifact_utilities.py?line=346'>347</a>\u001b[0m     datastore_name\u001b[39m=\u001b[39;49mdatastore_name,\n\u001b[1;32m    <a href='file:///anaconda/envs/dask/lib/python3.8/site-packages/azure/ml/_artifacts/_artifact_utilities.py?line=347'>348</a>\u001b[0m     asset_name\u001b[39m=\u001b[39;49martifact\u001b[39m.\u001b[39;49mname,\n\u001b[1;32m    <a href='file:///anaconda/envs/dask/lib/python3.8/site-packages/azure/ml/_artifacts/_artifact_utilities.py?line=348'>349</a>\u001b[0m     asset_version\u001b[39m=\u001b[39;49m\u001b[39mstr\u001b[39;49m(artifact\u001b[39m.\u001b[39;49mversion),\n\u001b[1;32m    <a href='file:///anaconda/envs/dask/lib/python3.8/site-packages/azure/ml/_artifacts/_artifact_utilities.py?line=349'>350</a>\u001b[0m )\n\u001b[1;32m    <a href='file:///anaconda/envs/dask/lib/python3.8/site-packages/azure/ml/_artifacts/_artifact_utilities.py?line=350'>351</a>\u001b[0m indicator_file \u001b[39m=\u001b[39m uploaded_artifact\u001b[39m.\u001b[39mindicator_file  \u001b[39m# reference to storage contents\u001b[39;00m\n",
      "File \u001b[0;32m/anaconda/envs/dask/lib/python3.8/site-packages/azure/ml/_artifacts/_artifact_utilities.py:271\u001b[0m, in \u001b[0;36m_upload_to_datastore\u001b[0;34m(operation_scope, datastore_operation, path, datastore_name, show_progress, asset_name, asset_version, asset_hash, ignore_file)\u001b[0m\n\u001b[1;32m    <a href='file:///anaconda/envs/dask/lib/python3.8/site-packages/azure/ml/_artifacts/_artifact_utilities.py?line=259'>260</a>\u001b[0m \u001b[39mdef\u001b[39;00m \u001b[39m_upload_to_datastore\u001b[39m(\n\u001b[1;32m    <a href='file:///anaconda/envs/dask/lib/python3.8/site-packages/azure/ml/_artifacts/_artifact_utilities.py?line=260'>261</a>\u001b[0m     operation_scope: OperationScope,\n\u001b[1;32m    <a href='file:///anaconda/envs/dask/lib/python3.8/site-packages/azure/ml/_artifacts/_artifact_utilities.py?line=261'>262</a>\u001b[0m     datastore_operation: DatastoreOperations,\n\u001b[0;32m   (...)\u001b[0m\n\u001b[1;32m    <a href='file:///anaconda/envs/dask/lib/python3.8/site-packages/azure/ml/_artifacts/_artifact_utilities.py?line=268'>269</a>\u001b[0m     ignore_file: IgnoreFile \u001b[39m=\u001b[39m \u001b[39mNone\u001b[39;00m,\n\u001b[1;32m    <a href='file:///anaconda/envs/dask/lib/python3.8/site-packages/azure/ml/_artifacts/_artifact_utilities.py?line=269'>270</a>\u001b[0m ) \u001b[39m-\u001b[39m\u001b[39m>\u001b[39m ArtifactStorageInfo:\n\u001b[0;32m--> <a href='file:///anaconda/envs/dask/lib/python3.8/site-packages/azure/ml/_artifacts/_artifact_utilities.py?line=270'>271</a>\u001b[0m     _validate_path(path)\n\u001b[1;32m    <a href='file:///anaconda/envs/dask/lib/python3.8/site-packages/azure/ml/_artifacts/_artifact_utilities.py?line=271'>272</a>\u001b[0m     \u001b[39mif\u001b[39;00m \u001b[39mnot\u001b[39;00m ignore_file:\n",
      "File \u001b[0;32m/anaconda/envs/dask/lib/python3.8/site-packages/azure/ml/_utils/_asset_utils.py:148\u001b[0m, in \u001b[0;36m_validate_path\u001b[0;34m(path)\u001b[0m\n\u001b[1;32m    <a href='file:///anaconda/envs/dask/lib/python3.8/site-packages/azure/ml/_utils/_asset_utils.py?line=146'>147</a>\u001b[0m \u001b[39mif\u001b[39;00m \u001b[39mnot\u001b[39;00m path\u001b[39m.\u001b[39mis_file() \u001b[39mand\u001b[39;00m \u001b[39mnot\u001b[39;00m path\u001b[39m.\u001b[39mis_dir():\n\u001b[0;32m--> <a href='file:///anaconda/envs/dask/lib/python3.8/site-packages/azure/ml/_utils/_asset_utils.py?line=147'>148</a>\u001b[0m     \u001b[39mraise\u001b[39;00m \u001b[39mException\u001b[39;00m(\u001b[39mf\u001b[39m\u001b[39m\"\u001b[39m\u001b[39m{\u001b[39;00mpath\u001b[39m}\u001b[39;00m\u001b[39m not found, local_path or path must be a path to a file or directory.\u001b[39m\u001b[39m\"\u001b[39m)\n",
      "\u001b[0;31mException\u001b[0m: /home/azureuser/localfiles/git/azureml-examples/tutorials/e2e-dask-sweep/sdfsjl not found, local_path or path must be a path to a file or directory.",
      "\nDuring handling of the above exception, another exception occurred:\n",
      "\u001b[0;31mAssetException\u001b[0m                            Traceback (most recent call last)",
      "\u001b[1;32m/home/azureuser/localfiles/git/azureml-examples/tutorials/e2e-dask-sweep/Sweep.ipynb Cell 20'\u001b[0m in \u001b[0;36m<cell line: 1>\u001b[0;34m()\u001b[0m\n\u001b[0;32m----> <a href='vscode-notebook-cell://amlext%2B2f737562736372697074696f6e732f31356165396362362d393563312d343833642d613065332d6231613161336230363332342f7265736f7572636547726f7570732f7261792f70726f7669646572732f4d6963726f736f66742e4d616368696e654c6561726e696e6753657276696365732f776f726b7370616365732f7261792f636f6d70757465732f64616e69656c736333626967/home/azureuser/localfiles/git/azureml-examples/tutorials/e2e-dask-sweep/Sweep.ipynb#ch0000016vscode-remote?line=0'>1</a>\u001b[0m ml_client\u001b[39m.\u001b[39;49mjobs\u001b[39m.\u001b[39;49mcreate_or_update(sweep_job)\n",
      "File \u001b[0;32m/anaconda/envs/dask/lib/python3.8/site-packages/azure/ml/_telemetry/activity.py:168\u001b[0m, in \u001b[0;36mmonitor_with_activity.<locals>.monitor.<locals>.wrapper\u001b[0;34m(*args, **kwargs)\u001b[0m\n\u001b[1;32m    <a href='file:///anaconda/envs/dask/lib/python3.8/site-packages/azure/ml/_telemetry/activity.py?line=164'>165</a>\u001b[0m \u001b[39m@functools\u001b[39m\u001b[39m.\u001b[39mwraps(f)\n\u001b[1;32m    <a href='file:///anaconda/envs/dask/lib/python3.8/site-packages/azure/ml/_telemetry/activity.py?line=165'>166</a>\u001b[0m \u001b[39mdef\u001b[39;00m \u001b[39mwrapper\u001b[39m(\u001b[39m*\u001b[39margs, \u001b[39m*\u001b[39m\u001b[39m*\u001b[39mkwargs):\n\u001b[1;32m    <a href='file:///anaconda/envs/dask/lib/python3.8/site-packages/azure/ml/_telemetry/activity.py?line=166'>167</a>\u001b[0m     \u001b[39mwith\u001b[39;00m log_activity(logger, activity_name \u001b[39mor\u001b[39;00m f\u001b[39m.\u001b[39m\u001b[39m__name__\u001b[39m, activity_type, custom_dimensions):\n\u001b[0;32m--> <a href='file:///anaconda/envs/dask/lib/python3.8/site-packages/azure/ml/_telemetry/activity.py?line=167'>168</a>\u001b[0m         \u001b[39mreturn\u001b[39;00m f(\u001b[39m*\u001b[39;49margs, \u001b[39m*\u001b[39;49m\u001b[39m*\u001b[39;49mkwargs)\n",
      "File \u001b[0;32m/anaconda/envs/dask/lib/python3.8/site-packages/azure/ml/_operations/job_operations.py:316\u001b[0m, in \u001b[0;36mJobOperations.create_or_update\u001b[0;34m(self, job, description, compute, tags, experiment_name, **kwargs)\u001b[0m\n\u001b[1;32m    <a href='file:///anaconda/envs/dask/lib/python3.8/site-packages/azure/ml/_operations/job_operations.py?line=312'>313</a>\u001b[0m     job\u001b[39m.\u001b[39mexperiment_name \u001b[39m=\u001b[39m experiment_name\n\u001b[1;32m    <a href='file:///anaconda/envs/dask/lib/python3.8/site-packages/azure/ml/_operations/job_operations.py?line=314'>315</a>\u001b[0m \u001b[39m# Create all dependent resources\u001b[39;00m\n\u001b[0;32m--> <a href='file:///anaconda/envs/dask/lib/python3.8/site-packages/azure/ml/_operations/job_operations.py?line=315'>316</a>\u001b[0m \u001b[39mself\u001b[39;49m\u001b[39m.\u001b[39;49m_resolve_arm_id_or_upload_dependencies(job)\n\u001b[1;32m    <a href='file:///anaconda/envs/dask/lib/python3.8/site-packages/azure/ml/_operations/job_operations.py?line=316'>317</a>\u001b[0m \u001b[39mself\u001b[39m\u001b[39m.\u001b[39m_validate(job)\n\u001b[1;32m    <a href='file:///anaconda/envs/dask/lib/python3.8/site-packages/azure/ml/_operations/job_operations.py?line=318'>319</a>\u001b[0m git_props \u001b[39m=\u001b[39m get_git_properties()\n",
      "File \u001b[0;32m/anaconda/envs/dask/lib/python3.8/site-packages/azure/ml/_operations/job_operations.py:581\u001b[0m, in \u001b[0;36mJobOperations._resolve_arm_id_or_upload_dependencies\u001b[0;34m(self, job)\u001b[0m\n\u001b[1;32m    <a href='file:///anaconda/envs/dask/lib/python3.8/site-packages/azure/ml/_operations/job_operations.py?line=571'>572</a>\u001b[0m \u001b[39mdef\u001b[39;00m \u001b[39m_resolve_arm_id_or_upload_dependencies\u001b[39m(\u001b[39mself\u001b[39m, job: Job) \u001b[39m-\u001b[39m\u001b[39m>\u001b[39m \u001b[39mNone\u001b[39;00m:\n\u001b[1;32m    <a href='file:///anaconda/envs/dask/lib/python3.8/site-packages/azure/ml/_operations/job_operations.py?line=572'>573</a>\u001b[0m     \u001b[39m\"\"\"This method converts name or name:version to ARM id. Or it registers/uploads nested dependencies.\u001b[39;00m\n\u001b[1;32m    <a href='file:///anaconda/envs/dask/lib/python3.8/site-packages/azure/ml/_operations/job_operations.py?line=573'>574</a>\u001b[0m \n\u001b[1;32m    <a href='file:///anaconda/envs/dask/lib/python3.8/site-packages/azure/ml/_operations/job_operations.py?line=574'>575</a>\u001b[0m \u001b[39m    :param job: the job resource entity\u001b[39;00m\n\u001b[0;32m   (...)\u001b[0m\n\u001b[1;32m    <a href='file:///anaconda/envs/dask/lib/python3.8/site-packages/azure/ml/_operations/job_operations.py?line=577'>578</a>\u001b[0m \u001b[39m    :rtype: Job\u001b[39;00m\n\u001b[1;32m    <a href='file:///anaconda/envs/dask/lib/python3.8/site-packages/azure/ml/_operations/job_operations.py?line=578'>579</a>\u001b[0m \u001b[39m    \"\"\"\u001b[39;00m\n\u001b[0;32m--> <a href='file:///anaconda/envs/dask/lib/python3.8/site-packages/azure/ml/_operations/job_operations.py?line=580'>581</a>\u001b[0m     \u001b[39mself\u001b[39;49m\u001b[39m.\u001b[39;49m_resolve_arm_id_or_azureml_id(job, \u001b[39mself\u001b[39;49m\u001b[39m.\u001b[39;49m_orchestrators\u001b[39m.\u001b[39;49mget_asset_arm_id)\n\u001b[1;32m    <a href='file:///anaconda/envs/dask/lib/python3.8/site-packages/azure/ml/_operations/job_operations.py?line=582'>583</a>\u001b[0m     \u001b[39mif\u001b[39;00m \u001b[39misinstance\u001b[39m(job, PipelineJob):\n\u001b[1;32m    <a href='file:///anaconda/envs/dask/lib/python3.8/site-packages/azure/ml/_operations/job_operations.py?line=583'>584</a>\u001b[0m         \u001b[39m# Resolve top-level inputs\u001b[39;00m\n\u001b[1;32m    <a href='file:///anaconda/envs/dask/lib/python3.8/site-packages/azure/ml/_operations/job_operations.py?line=584'>585</a>\u001b[0m         \u001b[39mself\u001b[39m\u001b[39m.\u001b[39m_resolve_job_inputs(\u001b[39mmap\u001b[39m(\u001b[39mlambda\u001b[39;00m x: x\u001b[39m.\u001b[39m_data, job\u001b[39m.\u001b[39minputs\u001b[39m.\u001b[39mvalues()), job\u001b[39m.\u001b[39m_base_path)\n",
      "File \u001b[0;32m/anaconda/envs/dask/lib/python3.8/site-packages/azure/ml/_operations/job_operations.py:743\u001b[0m, in \u001b[0;36mJobOperations._resolve_arm_id_or_azureml_id\u001b[0;34m(self, job, resolver)\u001b[0m\n\u001b[1;32m    <a href='file:///anaconda/envs/dask/lib/python3.8/site-packages/azure/ml/_operations/job_operations.py?line=740'>741</a>\u001b[0m     job \u001b[39m=\u001b[39m \u001b[39mself\u001b[39m\u001b[39m.\u001b[39m_resolve_arm_id_for_command_job(job, resolver)\n\u001b[1;32m    <a href='file:///anaconda/envs/dask/lib/python3.8/site-packages/azure/ml/_operations/job_operations.py?line=741'>742</a>\u001b[0m \u001b[39melif\u001b[39;00m \u001b[39misinstance\u001b[39m(job, SweepJob):\n\u001b[0;32m--> <a href='file:///anaconda/envs/dask/lib/python3.8/site-packages/azure/ml/_operations/job_operations.py?line=742'>743</a>\u001b[0m     job \u001b[39m=\u001b[39m \u001b[39mself\u001b[39;49m\u001b[39m.\u001b[39;49m_resolve_arm_id_for_sweep_job(job, resolver)\n\u001b[1;32m    <a href='file:///anaconda/envs/dask/lib/python3.8/site-packages/azure/ml/_operations/job_operations.py?line=743'>744</a>\u001b[0m \u001b[39melif\u001b[39;00m \u001b[39misinstance\u001b[39m(job, AutoMLJob):\n\u001b[1;32m    <a href='file:///anaconda/envs/dask/lib/python3.8/site-packages/azure/ml/_operations/job_operations.py?line=744'>745</a>\u001b[0m     job \u001b[39m=\u001b[39m \u001b[39mself\u001b[39m\u001b[39m.\u001b[39m_resolve_arm_id_for_automl_job(job, resolver)\n",
      "File \u001b[0;32m/anaconda/envs/dask/lib/python3.8/site-packages/azure/ml/_operations/job_operations.py:769\u001b[0m, in \u001b[0;36mJobOperations._resolve_arm_id_for_sweep_job\u001b[0;34m(self, job, resolver)\u001b[0m\n\u001b[1;32m    <a href='file:///anaconda/envs/dask/lib/python3.8/site-packages/azure/ml/_operations/job_operations.py?line=766'>767</a>\u001b[0m \u001b[39m\"\"\"Resolve arm_id for SweepJob\"\"\"\u001b[39;00m\n\u001b[1;32m    <a href='file:///anaconda/envs/dask/lib/python3.8/site-packages/azure/ml/_operations/job_operations.py?line=767'>768</a>\u001b[0m \u001b[39mif\u001b[39;00m job\u001b[39m.\u001b[39mtrial\u001b[39m.\u001b[39mcode \u001b[39mis\u001b[39;00m \u001b[39mnot\u001b[39;00m \u001b[39mNone\u001b[39;00m \u001b[39mand\u001b[39;00m \u001b[39mnot\u001b[39;00m is_ARM_id_for_resource(job\u001b[39m.\u001b[39mtrial\u001b[39m.\u001b[39mcode, AzureMLResourceType\u001b[39m.\u001b[39mCODE):\n\u001b[0;32m--> <a href='file:///anaconda/envs/dask/lib/python3.8/site-packages/azure/ml/_operations/job_operations.py?line=768'>769</a>\u001b[0m     job\u001b[39m.\u001b[39mtrial\u001b[39m.\u001b[39mcode \u001b[39m=\u001b[39m resolver(\n\u001b[1;32m    <a href='file:///anaconda/envs/dask/lib/python3.8/site-packages/azure/ml/_operations/job_operations.py?line=769'>770</a>\u001b[0m         Code(base_path\u001b[39m=\u001b[39;49mjob\u001b[39m.\u001b[39;49m_base_path, path\u001b[39m=\u001b[39;49mjob\u001b[39m.\u001b[39;49mtrial\u001b[39m.\u001b[39;49mcode), azureml_type\u001b[39m=\u001b[39;49mAzureMLResourceType\u001b[39m.\u001b[39;49mCODE\n\u001b[1;32m    <a href='file:///anaconda/envs/dask/lib/python3.8/site-packages/azure/ml/_operations/job_operations.py?line=770'>771</a>\u001b[0m     )\n\u001b[1;32m    <a href='file:///anaconda/envs/dask/lib/python3.8/site-packages/azure/ml/_operations/job_operations.py?line=771'>772</a>\u001b[0m job\u001b[39m.\u001b[39mtrial\u001b[39m.\u001b[39menvironment \u001b[39m=\u001b[39m resolver(job\u001b[39m.\u001b[39mtrial\u001b[39m.\u001b[39menvironment, azureml_type\u001b[39m=\u001b[39mAzureMLResourceType\u001b[39m.\u001b[39mENVIRONMENT)\n\u001b[1;32m    <a href='file:///anaconda/envs/dask/lib/python3.8/site-packages/azure/ml/_operations/job_operations.py?line=772'>773</a>\u001b[0m job\u001b[39m.\u001b[39mcompute \u001b[39m=\u001b[39m \u001b[39mself\u001b[39m\u001b[39m.\u001b[39m_resolve_compute_id(resolver, job\u001b[39m.\u001b[39mcompute)\n",
      "File \u001b[0;32m/anaconda/envs/dask/lib/python3.8/site-packages/azure/ml/_operations/operation_orchestrator.py:131\u001b[0m, in \u001b[0;36mOperationOrchestrator.get_asset_arm_id\u001b[0;34m(self, asset, azureml_type, register_asset, sub_workspace_resource)\u001b[0m\n\u001b[1;32m    <a href='file:///anaconda/envs/dask/lib/python3.8/site-packages/azure/ml/_operations/operation_orchestrator.py?line=127'>128</a>\u001b[0m \u001b[39mtry\u001b[39;00m:\n\u001b[1;32m    <a href='file:///anaconda/envs/dask/lib/python3.8/site-packages/azure/ml/_operations/operation_orchestrator.py?line=128'>129</a>\u001b[0m     \u001b[39m# TODO: once the asset redesign is finished, this logic can be replaced with unified API\u001b[39;00m\n\u001b[1;32m    <a href='file:///anaconda/envs/dask/lib/python3.8/site-packages/azure/ml/_operations/operation_orchestrator.py?line=129'>130</a>\u001b[0m     \u001b[39mif\u001b[39;00m azureml_type \u001b[39m==\u001b[39m AzureMLResourceType\u001b[39m.\u001b[39mCODE \u001b[39mand\u001b[39;00m \u001b[39misinstance\u001b[39m(asset, Code):\n\u001b[0;32m--> <a href='file:///anaconda/envs/dask/lib/python3.8/site-packages/azure/ml/_operations/operation_orchestrator.py?line=130'>131</a>\u001b[0m         result \u001b[39m=\u001b[39m \u001b[39mself\u001b[39;49m\u001b[39m.\u001b[39;49m_get_code_asset_arm_id(asset, register_asset\u001b[39m=\u001b[39;49mregister_asset)\n\u001b[1;32m    <a href='file:///anaconda/envs/dask/lib/python3.8/site-packages/azure/ml/_operations/operation_orchestrator.py?line=131'>132</a>\u001b[0m     \u001b[39melif\u001b[39;00m azureml_type \u001b[39m==\u001b[39m AzureMLResourceType\u001b[39m.\u001b[39mENVIRONMENT \u001b[39mand\u001b[39;00m \u001b[39misinstance\u001b[39m(asset, Environment):\n\u001b[1;32m    <a href='file:///anaconda/envs/dask/lib/python3.8/site-packages/azure/ml/_operations/operation_orchestrator.py?line=132'>133</a>\u001b[0m         result \u001b[39m=\u001b[39m \u001b[39mself\u001b[39m\u001b[39m.\u001b[39m_get_environment_arm_id(asset, register_asset\u001b[39m=\u001b[39mregister_asset)\n",
      "File \u001b[0;32m/anaconda/envs/dask/lib/python3.8/site-packages/azure/ml/_operations/operation_orchestrator.py:181\u001b[0m, in \u001b[0;36mOperationOrchestrator._get_code_asset_arm_id\u001b[0;34m(self, code_asset, register_asset)\u001b[0m\n\u001b[1;32m    <a href='file:///anaconda/envs/dask/lib/python3.8/site-packages/azure/ml/_operations/operation_orchestrator.py?line=178'>179</a>\u001b[0m         \u001b[39mreturn\u001b[39;00m uploaded_code_asset\n\u001b[1;32m    <a href='file:///anaconda/envs/dask/lib/python3.8/site-packages/azure/ml/_operations/operation_orchestrator.py?line=179'>180</a>\u001b[0m \u001b[39mexcept\u001b[39;00m \u001b[39mException\u001b[39;00m \u001b[39mas\u001b[39;00m e:\n\u001b[0;32m--> <a href='file:///anaconda/envs/dask/lib/python3.8/site-packages/azure/ml/_operations/operation_orchestrator.py?line=180'>181</a>\u001b[0m     \u001b[39mraise\u001b[39;00m AssetException(\n\u001b[1;32m    <a href='file:///anaconda/envs/dask/lib/python3.8/site-packages/azure/ml/_operations/operation_orchestrator.py?line=181'>182</a>\u001b[0m         message\u001b[39m=\u001b[39m\u001b[39mf\u001b[39m\u001b[39m\"\u001b[39m\u001b[39mError with code: \u001b[39m\u001b[39m{\u001b[39;00me\u001b[39m}\u001b[39;00m\u001b[39m\"\u001b[39m,\n\u001b[1;32m    <a href='file:///anaconda/envs/dask/lib/python3.8/site-packages/azure/ml/_operations/operation_orchestrator.py?line=182'>183</a>\u001b[0m         target\u001b[39m=\u001b[39mErrorTarget\u001b[39m.\u001b[39mASSET,\n\u001b[1;32m    <a href='file:///anaconda/envs/dask/lib/python3.8/site-packages/azure/ml/_operations/operation_orchestrator.py?line=183'>184</a>\u001b[0m         no_personal_data_message\u001b[39m=\u001b[39m\u001b[39m\"\u001b[39m\u001b[39mError getting code asset\u001b[39m\u001b[39m\"\u001b[39m,\n\u001b[1;32m    <a href='file:///anaconda/envs/dask/lib/python3.8/site-packages/azure/ml/_operations/operation_orchestrator.py?line=184'>185</a>\u001b[0m         error\u001b[39m=\u001b[39me,\n\u001b[1;32m    <a href='file:///anaconda/envs/dask/lib/python3.8/site-packages/azure/ml/_operations/operation_orchestrator.py?line=185'>186</a>\u001b[0m     )\n",
      "\u001b[0;31mAssetException\u001b[0m: Error with code: /home/azureuser/localfiles/git/azureml-examples/tutorials/e2e-dask-sweep/sdfsjl not found, local_path or path must be a path to a file or directory."
     ]
    }
   ],
   "source": [
    "ml_client.jobs.create_or_update(sweep_job)"
   ]
  },
  {
   "cell_type": "code",
   "execution_count": null,
   "metadata": {},
   "outputs": [],
   "source": [
    "foo = ml_client.jobs.get('14aff5b3-fc20-4d54-8350-074be94d0951')"
   ]
  },
  {
   "cell_type": "code",
   "execution_count": null,
   "metadata": {},
   "outputs": [
    {
     "ename": "TypeError",
     "evalue": "'SweepJob' object is not callable",
     "output_type": "error",
     "traceback": [
      "\u001b[0;31m---------------------------------------------------------------------------\u001b[0m",
      "\u001b[0;31mTypeError\u001b[0m                                 Traceback (most recent call last)",
      "\u001b[1;32m/home/azureuser/localfiles/git/azureml-examples/tutorials/e2e-dask-sweep/Sweep.ipynb Cell 21'\u001b[0m in \u001b[0;36m<cell line: 1>\u001b[0;34m()\u001b[0m\n\u001b[0;32m----> <a href='vscode-notebook-cell://amlext%2B2f737562736372697074696f6e732f31356165396362362d393563312d343833642d613065332d6231613161336230363332342f7265736f7572636547726f7570732f7261792f70726f7669646572732f4d6963726f736f66742e4d616368696e654c6561726e696e6753657276696365732f776f726b7370616365732f7261792f636f6d70757465732f64616e69656c736333626967/home/azureuser/localfiles/git/azureml-examples/tutorials/e2e-dask-sweep/Sweep.ipynb#ch0000028vscode-remote?line=0'>1</a>\u001b[0m sweep2 \u001b[39m=\u001b[39m foo(tree_method\u001b[39m=\u001b[39;49mChoice([\u001b[39m'\u001b[39;49m\u001b[39mauto\u001b[39;49m\u001b[39m'\u001b[39;49m, \u001b[39m'\u001b[39;49m\u001b[39mexact\u001b[39;49m\u001b[39m'\u001b[39;49m, \u001b[39m'\u001b[39;49m\u001b[39mhist\u001b[39;49m\u001b[39m'\u001b[39;49m]))\n",
      "\u001b[0;31mTypeError\u001b[0m: 'SweepJob' object is not callable"
     ]
    }
   ],
   "source": [
    "sweep2 = foo(tree_method=Choice(['auto', 'exact', 'approx', 'hist']),\n",
    "              learning_rate=Uniform(0, 1),\n",
    "              gamma= Choice(range(7)),\n",
    "              max_depth= Choice(range(4,8)),\n",
    "              num_boost_round= 20,)\n",
    "sweep2.goal='minimize'\n",
    "\n"
   ]
  },
  {
   "cell_type": "code",
   "execution_count": null,
   "metadata": {},
   "outputs": [
    {
     "data": {
      "text/html": [
       "<table style=\"width:100%\"><tr><th>Experiment</th><th>Name</th><th>Type</th><th>Status</th><th>Details Page</th></tr><tr><td>nyctaxi</td><td>happy_bread_2qlqn224rp</td><td>pipeline</td><td>Preparing</td><td><a href=\"https://ml.azure.com/runs/happy_bread_2qlqn224rp?wsid=/subscriptions/15ae9cb6-95c1-483d-a0e3-b1a1a3b06324/resourcegroups/ray/workspaces/ray&amp;tid=72f988bf-86f1-41af-91ab-2d7cd011db47\" target=\"_blank\" rel=\"noopener\">Link to Azure Machine Learning studio</a></td></tr></table>"
      ],
      "text/plain": [
       "PipelineJob({'inputs': {'parquet_dataset': <azure.ml.entities._job.pipeline._io.PipelineInput object at 0x7f7da5a3f3a0>}, 'outputs': {'model': <azure.ml.entities._job.pipeline._io.PipelineOutput object at 0x7f7da5a3f5e0>}, 'component': _PipelineComponent({'components': {}, 'auto_increment_version': False, 'is_anonymous': True, 'name': '7968d4da-fa0f-4a71-b0fa-10ba8bb05e65', 'description': None, 'tags': {}, 'properties': {}, 'id': None, 'base_path': None, 'creation_context': None, 'serialize': <msrest.serialization.Serializer object at 0x7f7da5a3f6d0>, 'version': '1', 'latest_version': None, 'schema': None, 'type': 'pipeline_component', 'display_name': None, 'is_deterministic': True, 'inputs': {}, 'outputs': {}, 'yaml_str': None, 'other_parameter': {}, 'func': <function [component] None at 0x7f7da5aefdc0>}), 'display_name': 'happy_bread_2qlqn224rp', 'type': 'pipeline', 'status': 'Preparing', 'log_files': None, 'name': 'happy_bread_2qlqn224rp', 'description': None, 'tags': {}, 'properties': {'mlflow.source.git.repoURL': 'https://github.com/Azure/azureml-examples/', 'mlflow.source.git.branch': 'danielsc/sdk-preview-demo', 'mlflow.source.git.commit': '493de370efb6fdb4c939db95ff6945752b4bc86e', 'azureml.git.dirty': 'True', 'azureml.runsource': 'azureml.PipelineRun', 'runSource': 'SDKv2', 'runType': 'HTTP', 'azureml.parameters': '{}', 'azureml.continue_on_step_failure': 'False', 'azureml.enforceRerun': 'False', 'azureml.pipelineComponent': 'pipelinerun'}, 'id': '/subscriptions/15ae9cb6-95c1-483d-a0e3-b1a1a3b06324/resourceGroups/ray/providers/Microsoft.MachineLearningServices/workspaces/ray/jobs/happy_bread_2qlqn224rp', 'base_path': './', 'creation_context': <azure.ml._restclient.v2022_02_01_preview.models._models_py3.SystemData object at 0x7f7da5aad8e0>, 'serialize': <msrest.serialization.Serializer object at 0x7f7da5a3f820>, 'experiment_name': 'nyctaxi', 'compute': None, 'services': {'Tracking': <azure.ml._restclient.v2022_02_01_preview.models._models_py3.JobService object at 0x7f7da5aad700>, 'Studio': <azure.ml._restclient.v2022_02_01_preview.models._models_py3.JobService object at 0x7f7da5aadd90>}, 'jobs': {'sweep_job': {'_source': <ComponentSource.REST: 'REST'>, 'identity': None, 'component': {}}}, 'settings': <azure.ml.entities._job.pipeline.pipeline_job_settings.PipelineJobSettings object at 0x7f7da5aab220>, 'identity': None, 'default_code': None, 'default_environment': None})"
      ]
     },
     "execution_count": 14,
     "metadata": {},
     "output_type": "execute_result"
    }
   ],
   "source": [
    "from azure.ml.dsl import pipeline\n",
    "from azure.ml.sweep import Choice, Uniform\n",
    "\n",
    "@pipeline()\n",
    "def just_sweep(parquet_dataset: Input):\n",
    "\n",
    "  train_job = train(nyc_taxi_parquet=parquet_dataset,\n",
    "                    tree_method=Choice(['auto', 'exact', 'approx', 'hist']),\n",
    "                    learning_rate=Uniform(0, 1),\n",
    "                    gamma= Choice(range(7)),\n",
    "                    max_depth= Choice(range(4,8)),\n",
    "                    num_boost_round= 20,)\n",
    "\n",
    "  sweep_job = train_job.sweep(primary_metric='test-rmse',\n",
    "                              goal='minimize',\n",
    "                              sampling_algorithm='bayesian',\n",
    "                              compute='daniel-big')\n",
    "\n",
    "  sweep_job.set_limits(max_concurrent_trials=5,\n",
    "                      max_total_trials=25)\n",
    "\n",
    "  \n",
    "  return dict(model=sweep_job.outputs.model)\n",
    "\n",
    "\n",
    "nyc_parquet = Input(path='azureml:azureml_polite_loquat_c3x4fj4l4m_output_data_output_folder:1')\n",
    "\n",
    "pipeline_job = just_sweep(parquet_dataset=nyc_parquet)\n",
    "\n",
    "ml_client.jobs.create_or_update(pipeline_job)"
   ]
  },
  {
   "cell_type": "markdown",
   "metadata": {},
   "source": [
    "## Test Sweep Output"
   ]
  },
  {
   "cell_type": "code",
   "execution_count": null,
   "metadata": {},
   "outputs": [],
   "source": [
    "from azure.ml import command, Input\n",
    "from azure.ml.entities import Environment\n",
    "\n",
    "test = command(\n",
    "  code= 'src',\n",
    "  command=\n",
    "    \"find ${{inputs.model}} \",\n",
    "  inputs={\n",
    "    \"model\": Input(\n",
    "      path='azureml:azureml_yellow_nail_h3t6w6r57k_output_model:1',\n",
    "      mode='ro_mount')\n",
    "  },\n",
    "  environment=Environment(\n",
    "    image= \"mcr.microsoft.com/azureml/openmpi4.1.0-ubuntu20.04\"),\n",
    "  compute= \"daniel-big\",\n",
    "  experiment_name= \"dask-nyctaxi-example\"\n",
    ")"
   ]
  },
  {
   "cell_type": "code",
   "execution_count": null,
   "metadata": {},
   "outputs": [
    {
     "data": {
      "text/html": [
       "<table style=\"width:100%\"><tr><th>Experiment</th><th>Name</th><th>Type</th><th>Status</th><th>Details Page</th></tr><tr><td>dask-nyctaxi-example</td><td>affable_oxygen_y7nm88zsld</td><td>command</td><td>Starting</td><td><a href=\"https://ml.azure.com/runs/affable_oxygen_y7nm88zsld?wsid=/subscriptions/15ae9cb6-95c1-483d-a0e3-b1a1a3b06324/resourcegroups/ray/workspaces/ray&amp;tid=72f988bf-86f1-41af-91ab-2d7cd011db47\" target=\"_blank\" rel=\"noopener\">Link to Azure Machine Learning studio</a></td></tr></table>"
      ],
      "text/plain": [
       "CommandJob({'parameters': {}, 'display_name': 'affable_oxygen_y7nm88zsld', 'type': 'command', 'status': 'Starting', 'log_files': None, 'name': 'affable_oxygen_y7nm88zsld', 'description': None, 'tags': {}, 'properties': {'mlflow.source.git.repoURL': 'https://github.com/Azure/azureml-examples/', 'mlflow.source.git.branch': 'danielsc/sdk-preview-demo', 'mlflow.source.git.commit': '493de370efb6fdb4c939db95ff6945752b4bc86e', 'azureml.git.dirty': 'True', '_azureml.ComputeTargetType': 'amlctrain', 'ContentSnapshotId': 'b83de657-f27c-4953-8fe2-ba9d18dabc51'}, 'id': '/subscriptions/15ae9cb6-95c1-483d-a0e3-b1a1a3b06324/resourceGroups/ray/providers/Microsoft.MachineLearningServices/workspaces/ray/jobs/affable_oxygen_y7nm88zsld', 'base_path': './', 'creation_context': <azure.ml._restclient.v2022_02_01_preview.models._models_py3.SystemData object at 0x7fb3a40267c0>, 'serialize': <msrest.serialization.Serializer object at 0x7fb3a4cd3fd0>, 'command': 'find ${{inputs.model}} ', 'code': '/subscriptions/15ae9cb6-95c1-483d-a0e3-b1a1a3b06324/resourceGroups/ray/providers/Microsoft.MachineLearningServices/workspaces/ray/codes/217257f5-12f0-4771-95c9-3d3254010c3c/versions/1', 'environment_variables': {}, 'environment': 'CliV2AnonymousEnvironment:60557a1b0a854bbe243f996cc0a2c340', 'distribution': None, 'resources': {'instance_count': 1, 'properties': {}}, 'experiment_name': 'dask-nyctaxi-example', 'compute': 'daniel-big', 'services': {'Tracking': <azure.ml._restclient.v2022_02_01_preview.models._models_py3.JobService object at 0x7fb3a4026280>, 'Studio': <azure.ml._restclient.v2022_02_01_preview.models._models_py3.JobService object at 0x7fb3a4026160>}, 'outputs': {'default': {'type': 'uri_folder', 'mode': 'rw_mount', 'path': 'azureml://datastores/workspaceartifactstore/ExperimentRun/dcid.affable_oxygen_y7nm88zsld'}}, 'inputs': {'model': {'type': 'uri_folder', 'path': 'azureml_yellow_nail_h3t6w6r57k_output_model:1', 'mode': 'ro_mount'}}, 'limits': None, 'identity': None})"
      ]
     },
     "execution_count": 4,
     "metadata": {},
     "output_type": "execute_result"
    }
   ],
   "source": [
    "ml_client.jobs.create_or_update(test)"
   ]
  },
  {
   "cell_type": "code",
   "execution_count": null,
   "metadata": {},
   "outputs": [
    {
     "data": {
      "text/html": [
       "<table style=\"width:100%\"><tr><th>Experiment</th><th>Name</th><th>Type</th><th>Status</th><th>Details Page</th></tr><tr><td>nyctaxi</td><td>sharp_cassava_5d3nv4qkmd</td><td>pipeline</td><td>Preparing</td><td><a href=\"https://ml.azure.com/runs/sharp_cassava_5d3nv4qkmd?wsid=/subscriptions/15ae9cb6-95c1-483d-a0e3-b1a1a3b06324/resourcegroups/ray/workspaces/ray&amp;tid=72f988bf-86f1-41af-91ab-2d7cd011db47\" target=\"_blank\" rel=\"noopener\">Link to Azure Machine Learning studio</a></td></tr></table>"
      ],
      "text/plain": [
       "PipelineJob({'inputs': {'parquet_dataset': <azure.ml.entities._job.pipeline._io.PipelineInput object at 0x7fe4d9d25520>}, 'outputs': {}, 'component': _PipelineComponent({'components': {}, 'auto_increment_version': False, 'is_anonymous': True, 'name': 'aa3bcaf3-cd61-4d7e-8767-a652882e6392', 'description': None, 'tags': {}, 'properties': {}, 'id': None, 'base_path': None, 'creation_context': None, 'serialize': <msrest.serialization.Serializer object at 0x7fe4d9d25430>, 'version': '1', 'latest_version': None, 'schema': None, 'type': 'pipeline_component', 'display_name': None, 'is_deterministic': True, 'inputs': {}, 'outputs': {}, 'yaml_str': None, 'other_parameter': {}, 'func': <function [component] None at 0x7fe4d9d3c430>}), 'display_name': 'sharp_cassava_5d3nv4qkmd', 'type': 'pipeline', 'status': 'Preparing', 'log_files': None, 'name': 'sharp_cassava_5d3nv4qkmd', 'description': None, 'tags': {}, 'properties': {'mlflow.source.git.repoURL': 'https://github.com/Azure/azureml-examples/', 'mlflow.source.git.branch': 'danielsc/sdk-preview-demo', 'mlflow.source.git.commit': '493de370efb6fdb4c939db95ff6945752b4bc86e', 'azureml.git.dirty': 'True', 'azureml.runsource': 'azureml.PipelineRun', 'runSource': 'SDKv2', 'runType': 'HTTP', 'azureml.parameters': '{}', 'azureml.continue_on_step_failure': 'False', 'azureml.enforceRerun': 'False', 'azureml.pipelineComponent': 'pipelinerun'}, 'id': '/subscriptions/15ae9cb6-95c1-483d-a0e3-b1a1a3b06324/resourceGroups/ray/providers/Microsoft.MachineLearningServices/workspaces/ray/jobs/sharp_cassava_5d3nv4qkmd', 'base_path': './', 'creation_context': <azure.ml._restclient.v2022_02_01_preview.models._models_py3.SystemData object at 0x7fe4d9ca2f40>, 'serialize': <msrest.serialization.Serializer object at 0x7fe4d9d25160>, 'experiment_name': 'nyctaxi', 'compute': None, 'services': {'Tracking': <azure.ml._restclient.v2022_02_01_preview.models._models_py3.JobService object at 0x7fe4d9ca2400>, 'Studio': <azure.ml._restclient.v2022_02_01_preview.models._models_py3.JobService object at 0x7fe4d9ca26d0>}, 'jobs': {'sweep_job': {'_source': <ComponentSource.REST: 'REST'>, 'identity': None, 'component': {}}, 'test_job': {'code': {}, 'command': {}}}, 'settings': <azure.ml.entities._job.pipeline.pipeline_job_settings.PipelineJobSettings object at 0x7fe4d9d25940>, 'identity': None, 'default_code': None, 'default_environment': None})"
      ]
     },
     "execution_count": 14,
     "metadata": {},
     "output_type": "execute_result"
    }
   ],
   "source": [
    "from azure.ml.dsl import pipeline\n",
    "from azure.ml.sweep import Choice, Uniform\n",
    "\n",
    "@pipeline()\n",
    "def sweep_and_test(parquet_dataset: Input):\n",
    "\n",
    "  train_job = train(nyc_taxi_parquet=parquet_dataset,\n",
    "                    tree_method=Choice(['auto', 'exact', 'approx', 'hist']),\n",
    "                    learning_rate=Uniform(0, 1),\n",
    "                    gamma= Choice(range(7)),\n",
    "                    max_depth= Choice(range(4,8)),\n",
    "                    num_boost_round= 20,)\n",
    "\n",
    "  sweep_job = train_job.sweep(primary_metric='test-rmse',\n",
    "                              goal='minimize',\n",
    "                              sampling_algorithm='bayesian',\n",
    "                              compute='daniel-big')\n",
    "\n",
    "  sweep_job.set_limits(max_concurrent_trials=5,\n",
    "                      max_total_trials=25)\n",
    "\n",
    "  test_job = test(model=sweep_job.outputs.model)\n",
    "  \n",
    "  return dict()\n",
    "\n",
    "\n",
    "nyc_parquet = Input(path='azureml:azureml_polite_loquat_c3x4fj4l4m_output_data_output_folder:1')\n",
    "\n",
    "pipeline_job = sweep_and_test(parquet_dataset=nyc_parquet)\n",
    "\n",
    "ml_client.jobs.create_or_update(pipeline_job)"
   ]
  },
  {
   "cell_type": "code",
   "execution_count": null,
   "metadata": {},
   "outputs": [],
   "source": [
    "import pandas as pd \n",
    "\n",
    "df = pd.DataFrame({'a':[1,2,3]})"
   ]
  },
  {
   "cell_type": "code",
   "execution_count": null,
   "metadata": {},
   "outputs": [
    {
     "data": {
      "text/html": [
       "<div>\n",
       "<style scoped>\n",
       "    .dataframe tbody tr th:only-of-type {\n",
       "        vertical-align: middle;\n",
       "    }\n",
       "\n",
       "    .dataframe tbody tr th {\n",
       "        vertical-align: top;\n",
       "    }\n",
       "\n",
       "    .dataframe thead th {\n",
       "        text-align: right;\n",
       "    }\n",
       "</style>\n",
       "<table border=\"1\" class=\"dataframe\">\n",
       "  <thead>\n",
       "    <tr style=\"text-align: right;\">\n",
       "      <th></th>\n",
       "      <th>a</th>\n",
       "    </tr>\n",
       "  </thead>\n",
       "  <tbody>\n",
       "    <tr>\n",
       "      <th>0</th>\n",
       "      <td>1</td>\n",
       "    </tr>\n",
       "    <tr>\n",
       "      <th>1</th>\n",
       "      <td>2</td>\n",
       "    </tr>\n",
       "    <tr>\n",
       "      <th>2</th>\n",
       "      <td>3</td>\n",
       "    </tr>\n",
       "  </tbody>\n",
       "</table>\n",
       "</div>"
      ],
      "text/plain": [
       "   a\n",
       "0  1\n",
       "1  2\n",
       "2  3"
      ]
     },
     "execution_count": 2,
     "metadata": {},
     "output_type": "execute_result"
    }
   ],
   "source": [
    "df"
   ]
  },
  {
   "cell_type": "code",
   "execution_count": null,
   "metadata": {},
   "outputs": [],
   "source": []
  }
 ],
 "metadata": {
  "interpreter": {
   "hash": "6d65a8c07f5b6469e0fc613f182488c0dccce05038bbda39e5ac9075c0454d11"
  },
  "kernelspec": {
   "display_name": "Python 3.8.5 ('azureml_py38')",
   "language": "python",
   "name": "python3"
  },
  "language_info": {
   "codemirror_mode": {
    "name": "ipython",
    "version": 3
   },
   "file_extension": ".py",
   "mimetype": "text/x-python",
   "name": "python",
   "nbconvert_exporter": "python",
   "pygments_lexer": "ipython3",
   "version": "3.8.13"
  },
  "orig_nbformat": 4
 },
 "nbformat": 4,
 "nbformat_minor": 2
}
