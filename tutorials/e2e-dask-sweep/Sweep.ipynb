{
 "cells": [
  {
   "cell_type": "code",
   "execution_count": 1,
   "metadata": {},
   "outputs": [],
   "source": [
    "from azure.ml import MLClient\n",
    "from azure.identity import DefaultAzureCredential"
   ]
  },
  {
   "cell_type": "code",
   "execution_count": 2,
   "metadata": {},
   "outputs": [],
   "source": [
    "subscription_id = \"15ae9cb6-95c1-483d-a0e3-b1a1a3b06324\"\n",
    "resource_group = \"ray\"\n",
    "workspace = \"ray\"\n",
    "\n",
    "ml_client = MLClient(DefaultAzureCredential(), subscription_id, resource_group, workspace)"
   ]
  },
  {
   "cell_type": "markdown",
   "metadata": {},
   "source": [
    "## Command Job"
   ]
  },
  {
   "cell_type": "code",
   "execution_count": 3,
   "metadata": {},
   "outputs": [],
   "source": [
    "from azure.ml import command, Input, Output, PyTorchDistribution\n",
    "from azure.ml.entities import ResourceConfiguration, Environment \n",
    "prep = command(\n",
    "  code='src',\n",
    "  command=\n",
    "    \"python startDask.py \"\n",
    "    \"--script prep-nyctaxi.py \"\n",
    "    \"--nyc_taxi_dataset ${{inputs.nyc_taxi_dataset}} \"\n",
    "    \"--output_folder ${{outputs.output_folder}}\",\n",
    "  inputs={\n",
    "    'nyc_taxi_dataset': Input(\n",
    "        path= 'wasbs://datasets@azuremlexamples.blob.core.windows.net/nyctaxi/',\n",
    "        mode= 'ro_mount')},\n",
    "  outputs={\n",
    "    'output_folder':Output(\n",
    "      type= 'uri_folder')},\n",
    "  environment=Environment( \n",
    "    image= 'mcr.microsoft.com/azureml/openmpi4.1.0-ubuntu20.04',\n",
    "    conda_file= 'conda.yml'),\n",
    "  compute= 'daniel-big',\n",
    "  resources=ResourceConfiguration(instance_count= 4),\n",
    "  distribution=PyTorchDistribution(),\n",
    "  experiment_name= 'dask-nyctaxi-pipeline-example',\n",
    "  description= 'This sample shows how to run a distributed DASK job on AzureML. The 24GB NYC Taxi dataset is read in CSV format by a 4 node DASK cluster, processed and then written as job output in parquet format.'\n",
    ")"
   ]
  },
  {
   "cell_type": "code",
   "execution_count": 4,
   "metadata": {},
   "outputs": [
    {
     "data": {
      "text/html": [
       "<table style=\"width:100%\"><tr><th>Experiment</th><th>Name</th><th>Type</th><th>Status</th><th>Details Page</th></tr><tr><td>dask-nyctaxi-pipeline-example</td><td>orange_parang_lwn6p3hn2t</td><td>command</td><td>Starting</td><td><a href=\"https://ml.azure.com/runs/orange_parang_lwn6p3hn2t?wsid=/subscriptions/15ae9cb6-95c1-483d-a0e3-b1a1a3b06324/resourcegroups/ray/workspaces/ray&amp;tid=72f988bf-86f1-41af-91ab-2d7cd011db47\" target=\"_blank\" rel=\"noopener\">Link to Azure Machine Learning studio</a></td></tr></table>"
      ],
      "text/plain": [
       "CommandJob({'parameters': {}, 'display_name': 'orange_parang_lwn6p3hn2t', 'type': 'command', 'status': 'Starting', 'log_files': None, 'name': 'orange_parang_lwn6p3hn2t', 'description': 'This sample shows how to run a distributed DASK job on AzureML. The 24GB NYC Taxi dataset is read in CSV format by a 4 node DASK cluster, processed and then written as job output in parquet format.', 'tags': {}, 'properties': {'mlflow.source.git.repoURL': 'https://github.com/Azure/azureml-examples/', 'mlflow.source.git.branch': 'danielsc/sdk-preview-demo', 'mlflow.source.git.commit': '9771d12216a54c736eb6fcae42fdbb8e4a14e7fb', 'azureml.git.dirty': 'True', '_azureml.ComputeTargetType': 'amlctrain', 'ContentSnapshotId': 'b83de657-f27c-4953-8fe2-ba9d18dabc51'}, 'id': '/subscriptions/15ae9cb6-95c1-483d-a0e3-b1a1a3b06324/resourceGroups/ray/providers/Microsoft.MachineLearningServices/workspaces/ray/jobs/orange_parang_lwn6p3hn2t', 'base_path': './', 'creation_context': <azure.ml._restclient.v2022_02_01_preview.models._models_py3.SystemData object at 0x7f09e6898670>, 'serialize': <msrest.serialization.Serializer object at 0x7f09e68988e0>, 'command': 'python startDask.py --script prep-nyctaxi.py --nyc_taxi_dataset ${{inputs.nyc_taxi_dataset}} --output_folder ${{outputs.output_folder}}', 'code': '/subscriptions/15ae9cb6-95c1-483d-a0e3-b1a1a3b06324/resourceGroups/ray/providers/Microsoft.MachineLearningServices/workspaces/ray/codes/217257f5-12f0-4771-95c9-3d3254010c3c/versions/1', 'environment_variables': {}, 'environment': 'CliV2AnonymousEnvironment:7752a31ab24bdbc290d59ef29b7fcc72', 'distribution': <azure.ml.entities._job.distribution.PyTorchDistribution object at 0x7f09eabde040>, 'resources': {'instance_count': 4, 'properties': {}}, 'experiment_name': 'dask-nyctaxi-pipeline-example', 'compute': 'daniel-big', 'services': {'Tracking': <azure.ml._restclient.v2022_02_01_preview.models._models_py3.JobService object at 0x7f09eab8ed30>, 'Studio': <azure.ml._restclient.v2022_02_01_preview.models._models_py3.JobService object at 0x7f09eab8efa0>}, 'outputs': {'output_folder': {'type': 'uri_file', 'mode': 'rw_mount'}, 'default': {'type': 'uri_folder', 'mode': 'rw_mount', 'path': 'azureml://datastores/workspaceartifactstore/ExperimentRun/dcid.orange_parang_lwn6p3hn2t'}}, 'inputs': {'nyc_taxi_dataset': {'type': 'uri_folder', 'path': 'wasbs://datasets@azuremlexamples.blob.core.windows.net/nyctaxi/', 'mode': 'ro_mount'}}, 'limits': None, 'identity': None})"
      ]
     },
     "execution_count": 4,
     "metadata": {},
     "output_type": "execute_result"
    }
   ],
   "source": [
    "prep_submitted = ml_client.jobs.create_or_update(prep)\n",
    "prep_submitted"
   ]
  },
  {
   "cell_type": "code",
   "execution_count": 8,
   "metadata": {},
   "outputs": [],
   "source": [
    "train = command(\n",
    "  code= 'src',\n",
    "  command=\n",
    "    \"python train-xgboost.py \"\n",
    "    \"--nyc_taxi_parquet ${{inputs.nyc_taxi_parquet}} \"\n",
    "    \"--model ${{outputs.model}} \"\n",
    "    \"--tree_method ${{inputs.tree_method}} \"\n",
    "    \"--learning_rate ${{inputs.learning_rate}} \"\n",
    "    \"--gamma ${{inputs.gamma}} \"\n",
    "    \"--max_depth ${{inputs.max_depth}} \"\n",
    "    \"--num_boost_round ${{inputs.num_boost_round}} \",\n",
    "  inputs={\n",
    "    \"nyc_taxi_parquet\": Input(\n",
    "      path='azureml:azureml_polite_loquat_c3x4fj4l4m_output_data_output_folder:1',\n",
    "      mode='ro_mount'),\n",
    "    \"tree_method\": \"auto\",\n",
    "    \"learning_rate\": 0.3,\n",
    "    \"gamma\": 1,\n",
    "    \"max_depth\": 7,\n",
    "    \"num_boost_round\": 20,\n",
    "  },\n",
    "  outputs={\n",
    "    \"model\": Output(type='mlflow_model')\n",
    "  },\n",
    "  environment=Environment(\n",
    "    image= \"mcr.microsoft.com/azureml/openmpi4.1.0-ubuntu20.04\",\n",
    "    conda_file= \"conda.yml\"),\n",
    "  compute= \"daniel-big\",\n",
    "  experiment_name= \"dask-nyctaxi-example\"\n",
    ")"
   ]
  },
  {
   "cell_type": "code",
   "execution_count": 9,
   "metadata": {},
   "outputs": [],
   "source": [
    "from azure.ml import command, Input\n",
    "from azure.ml.entities import Environment\n",
    "\n",
    "test = command(\n",
    "  code= 'src',\n",
    "  command=\n",
    "    \"find ${{inputs.model}} \",\n",
    "  inputs={\n",
    "    \"model\": Input(\n",
    "      path='azureml:azureml_yellow_nail_h3t6w6r57k_output_model:1',\n",
    "      mode='ro_mount')\n",
    "  },\n",
    "  environment=Environment(\n",
    "    image= \"mcr.microsoft.com/azureml/openmpi4.1.0-ubuntu20.04\"),\n",
    "  compute= \"daniel-big\",\n",
    "  experiment_name= \"dask-nyctaxi-example\"\n",
    ")"
   ]
  },
  {
   "cell_type": "markdown",
   "metadata": {},
   "source": [
    "## Pipeline Job"
   ]
  },
  {
   "cell_type": "code",
   "execution_count": 12,
   "metadata": {},
   "outputs": [],
   "source": [
    "from azure.ml.dsl import pipeline\n",
    "\n",
    "@pipeline()\n",
    "def prep_train_test(dataset: Input):\n",
    "  prep_job = prep(nyc_taxi_dataset=dataset)\n",
    "  train_job = train(nyc_taxi_parquet=prep_job.outputs.output_folder,\n",
    "                    tree_method='auto',\n",
    "                    learning_rate= 0.3,\n",
    "                    gamma= 1,\n",
    "                    max_depth= 7,\n",
    "                    num_boost_round= 12)\n",
    "  test_job = test(model=train_job.outputs.model)\n",
    "  return {}"
   ]
  },
  {
   "cell_type": "code",
   "execution_count": 13,
   "metadata": {},
   "outputs": [
    {
     "data": {
      "text/html": [
       "<table style=\"width:100%\"><tr><th>Experiment</th><th>Name</th><th>Type</th><th>Status</th><th>Details Page</th></tr><tr><td>nyctaxi</td><td>coral_wall_26t0mzd9tw</td><td>pipeline</td><td>Preparing</td><td><a href=\"https://ml.azure.com/runs/coral_wall_26t0mzd9tw?wsid=/subscriptions/15ae9cb6-95c1-483d-a0e3-b1a1a3b06324/resourcegroups/ray/workspaces/ray&amp;tid=72f988bf-86f1-41af-91ab-2d7cd011db47\" target=\"_blank\" rel=\"noopener\">Link to Azure Machine Learning studio</a></td></tr></table>"
      ],
      "text/plain": [
       "PipelineJob({'inputs': {'dataset': <azure.ml.entities._job.pipeline._io.PipelineInput object at 0x7fb39f5a2d90>}, 'outputs': {}, 'component': _PipelineComponent({'components': {}, 'auto_increment_version': False, 'is_anonymous': True, 'name': 'f8049018-2be3-42f0-a47b-f1d2b8481b7e', 'description': None, 'tags': {}, 'properties': {}, 'id': None, 'base_path': None, 'creation_context': None, 'serialize': <msrest.serialization.Serializer object at 0x7fb39f71dd60>, 'version': '1', 'latest_version': None, 'schema': None, 'type': 'pipeline_component', 'display_name': None, 'is_deterministic': True, 'inputs': {}, 'outputs': {}, 'yaml_str': None, 'other_parameter': {}, 'func': <function [component] None at 0x7fb39f5ad0d0>}), 'display_name': 'coral_wall_26t0mzd9tw', 'type': 'pipeline', 'status': 'Preparing', 'log_files': None, 'name': 'coral_wall_26t0mzd9tw', 'description': None, 'tags': {}, 'properties': {'mlflow.source.git.repoURL': 'https://github.com/Azure/azureml-examples/', 'mlflow.source.git.branch': 'danielsc/sdk-preview-demo', 'mlflow.source.git.commit': '493de370efb6fdb4c939db95ff6945752b4bc86e', 'azureml.git.dirty': 'True', 'azureml.runsource': 'azureml.PipelineRun', 'runSource': 'SDKv2', 'runType': 'HTTP', 'azureml.parameters': '{}', 'azureml.continue_on_step_failure': 'False', 'azureml.enforceRerun': 'False', 'azureml.pipelineComponent': 'pipelinerun'}, 'id': '/subscriptions/15ae9cb6-95c1-483d-a0e3-b1a1a3b06324/resourceGroups/ray/providers/Microsoft.MachineLearningServices/workspaces/ray/jobs/coral_wall_26t0mzd9tw', 'base_path': './', 'creation_context': <azure.ml._restclient.v2022_02_01_preview.models._models_py3.SystemData object at 0x7fb39f5a2ee0>, 'serialize': <msrest.serialization.Serializer object at 0x7fb39f71d250>, 'experiment_name': 'nyctaxi', 'compute': None, 'services': {'Tracking': <azure.ml._restclient.v2022_02_01_preview.models._models_py3.JobService object at 0x7fb39ff993a0>, 'Studio': <azure.ml._restclient.v2022_02_01_preview.models._models_py3.JobService object at 0x7fb39ff99a00>}, 'jobs': {'prep_job': {'code': {}, 'command': {}}, 'train_job': {'code': {}, 'command': {}}, 'test_job': {'code': {}, 'command': {}}}, 'settings': <azure.ml.entities._job.pipeline.pipeline_job_settings.PipelineJobSettings object at 0x7fb39ff99970>, 'identity': None, 'default_code': None, 'default_environment': None})"
      ]
     },
     "execution_count": 13,
     "metadata": {},
     "output_type": "execute_result"
    }
   ],
   "source": [
    "nyc_raw_data = Input(path= 'wasbs://datasets@azuremlexamples.blob.core.windows.net/nyctaxi/')\n",
    "\n",
    "pipeline_job = prep_train_test(dataset=nyc_raw_data)\n",
    "\n",
    "ml_client.jobs.create_or_update(pipeline_job)"
   ]
  },
  {
   "cell_type": "markdown",
   "metadata": {},
   "source": [
    "## Sweep Job"
   ]
  },
  {
   "cell_type": "code",
   "execution_count": 18,
   "metadata": {},
   "outputs": [],
   "source": [
    "from azure.ml.dsl import pipeline\n",
    "from azure.ml.sweep import Choice, Uniform\n",
    "\n",
    "@pipeline()\n",
    "def prep_sweep_test(dataset: Input):\n",
    "  prep_job = prep(nyc_taxi_dataset=dataset)\n",
    "\n",
    "  train_job = train(nyc_taxi_parquet=prep_job.outputs.output_folder,\n",
    "                    tree_method=Choice(['auto', 'exact', 'approx', 'hist']),\n",
    "                    learning_rate=Uniform(0, 1),\n",
    "                    gamma= Choice(range(7)),\n",
    "                    max_depth= Choice(range(4,8)),\n",
    "                    num_boost_round= 20,)\n",
    "\n",
    "  sweep_job = train_job.sweep(primary_metric='test-rmse',\n",
    "                              goal='minimize',\n",
    "                              sampling_algorithm='bayesian',\n",
    "                              compute='daniel-big')\n",
    "\n",
    "  sweep_job.set_limits(max_concurrent_trials=5,\n",
    "                      max_total_trials=25)\n",
    "\n",
    "  test_job = test(model=sweep_job.outputs.model)\n",
    "  return {}"
   ]
  },
  {
   "cell_type": "code",
   "execution_count": 19,
   "metadata": {},
   "outputs": [
    {
     "data": {
      "text/html": [
       "<table style=\"width:100%\"><tr><th>Experiment</th><th>Name</th><th>Type</th><th>Status</th><th>Details Page</th></tr><tr><td>nyctaxi</td><td>sad_candle_bmxm6nnv0w</td><td>pipeline</td><td>Preparing</td><td><a href=\"https://ml.azure.com/runs/sad_candle_bmxm6nnv0w?wsid=/subscriptions/15ae9cb6-95c1-483d-a0e3-b1a1a3b06324/resourcegroups/ray/workspaces/ray&amp;tid=72f988bf-86f1-41af-91ab-2d7cd011db47\" target=\"_blank\" rel=\"noopener\">Link to Azure Machine Learning studio</a></td></tr></table>"
      ],
      "text/plain": [
       "PipelineJob({'inputs': {'dataset': <azure.ml.entities._job.pipeline._io.PipelineInput object at 0x7fb39e48cee0>}, 'outputs': {}, 'component': _PipelineComponent({'components': {}, 'auto_increment_version': False, 'is_anonymous': True, 'name': 'e1813425-1e8b-4dc7-94ed-c2a9698939d8', 'description': None, 'tags': {}, 'properties': {}, 'id': None, 'base_path': None, 'creation_context': None, 'serialize': <msrest.serialization.Serializer object at 0x7fb39e488100>, 'version': '1', 'latest_version': None, 'schema': None, 'type': 'pipeline_component', 'display_name': None, 'is_deterministic': True, 'inputs': {}, 'outputs': {}, 'yaml_str': None, 'other_parameter': {}, 'func': <function [component] None at 0x7fb39e490700>}), 'display_name': 'sad_candle_bmxm6nnv0w', 'type': 'pipeline', 'status': 'Preparing', 'log_files': None, 'name': 'sad_candle_bmxm6nnv0w', 'description': None, 'tags': {}, 'properties': {'mlflow.source.git.repoURL': 'https://github.com/Azure/azureml-examples/', 'mlflow.source.git.branch': 'danielsc/sdk-preview-demo', 'mlflow.source.git.commit': '493de370efb6fdb4c939db95ff6945752b4bc86e', 'azureml.git.dirty': 'True', 'azureml.runsource': 'azureml.PipelineRun', 'runSource': 'SDKv2', 'runType': 'HTTP', 'azureml.parameters': '{}', 'azureml.continue_on_step_failure': 'False', 'azureml.enforceRerun': 'False', 'azureml.pipelineComponent': 'pipelinerun'}, 'id': '/subscriptions/15ae9cb6-95c1-483d-a0e3-b1a1a3b06324/resourceGroups/ray/providers/Microsoft.MachineLearningServices/workspaces/ray/jobs/sad_candle_bmxm6nnv0w', 'base_path': './', 'creation_context': <azure.ml._restclient.v2022_02_01_preview.models._models_py3.SystemData object at 0x7fb39e4a1700>, 'serialize': <msrest.serialization.Serializer object at 0x7fb39e4b80a0>, 'experiment_name': 'nyctaxi', 'compute': None, 'services': {'Tracking': <azure.ml._restclient.v2022_02_01_preview.models._models_py3.JobService object at 0x7fb39e4bd9d0>, 'Studio': <azure.ml._restclient.v2022_02_01_preview.models._models_py3.JobService object at 0x7fb39e4bda00>}, 'jobs': {'prep_job': {'code': {}, 'command': {}}, 'sweep_job': {'_source': <ComponentSource.REST: 'REST'>, 'identity': None, 'component': {}}, 'test_job': {'code': {}, 'command': {}}}, 'settings': <azure.ml.entities._job.pipeline.pipeline_job_settings.PipelineJobSettings object at 0x7fb39e48cf10>, 'identity': None, 'default_code': None, 'default_environment': None})"
      ]
     },
     "execution_count": 19,
     "metadata": {},
     "output_type": "execute_result"
    }
   ],
   "source": [
    "nyc_raw_data = Input(path= 'wasbs://datasets@azuremlexamples.blob.core.windows.net/nyctaxi/')\n",
    "\n",
    "pipeline_job = prep_sweep_test(dataset=nyc_raw_data)\n",
    "\n",
    "ml_client.jobs.create_or_update(pipeline_job)"
   ]
  },
  {
   "cell_type": "markdown",
   "metadata": {},
   "source": [
    "## Standalone Sweep Job"
   ]
  },
  {
   "cell_type": "code",
   "execution_count": 38,
   "metadata": {},
   "outputs": [],
   "source": [
    "from azure.ml.sweep import Choice, Uniform, LogUniform\n",
    "\n",
    "train_job = train(tree_method=Choice(['auto', 'exact', 'approx', 'hist']),\n",
    "                  learning_rate=Uniform(0, 1),\n",
    "                  gamma= Choice(range(7)),\n",
    "                  max_depth= Choice(range(4,8)),\n",
    "                  num_boost_round= 20,)"
   ]
  },
  {
   "cell_type": "code",
   "execution_count": 41,
   "metadata": {},
   "outputs": [],
   "source": [
    "from azure.ml.sweep import BayesianSamplingAlgorithm\n",
    "\n",
    "sweep_job = train_job.sweep(primary_metric='test-rmse',\n",
    "                            goal='minimize',\n",
    "                            sampling_algorithm=BayesianSamplingAlgorithm(),\n",
    "                            compute='daniel-big')\n",
    "\n",
    "sweep_job.set_limits(max_concurrent_trials=5,\n",
    "                     max_total_trials=25)\n",
    "\n",
    "sweep_job.outputs.model"
   ]
  },
  {
   "cell_type": "code",
   "execution_count": 42,
   "metadata": {},
   "outputs": [
    {
     "data": {
      "text/html": [
       "<table style=\"width:100%\"><tr><th>Experiment</th><th>Name</th><th>Type</th><th>Status</th><th>Details Page</th></tr><tr><td>nyctaxi</td><td>bright_grape_l8ycb35m8g</td><td>sweep</td><td>Running</td><td><a href=\"https://ml.azure.com/runs/bright_grape_l8ycb35m8g?wsid=/subscriptions/15ae9cb6-95c1-483d-a0e3-b1a1a3b06324/resourcegroups/ray/workspaces/ray&amp;tid=72f988bf-86f1-41af-91ab-2d7cd011db47\" target=\"_blank\" rel=\"noopener\">Link to Azure Machine Learning studio</a></td></tr></table>"
      ],
      "text/plain": [
       "SweepJob({'display_name': 'bright_grape_l8ycb35m8g', 'type': 'sweep', 'status': 'Running', 'log_files': None, 'name': 'bright_grape_l8ycb35m8g', 'description': None, 'tags': {'_aml_system_max_concurrent_jobs': '5', '_aml_system_max_total_jobs': '25', '_aml_system_max_duration_minutes': '86400', '_aml_system_policy_config': '{\"name\": \"DEFAULT\", \"properties\": {}}', '_aml_system_generator_config': '{\"name\": \"BAYESIANOPTIMIZATION\", \"properties\": {}, \"parameter_space\": {\"tree_method\": [\"choice\", [[\"auto\", \"exact\", \"approx\", \"hist\"]]], \"learning_rate\": [\"uniform\", [0, 1]], \"gamma\": [\"choice\", [[0, 1, 2, 3, 4, 5, 6]]], \"max_depth\": [\"choice\", [[4, 5, 6, 7]]]}}', '_aml_system_primary_metric_config': '{\"name\": \"test-rmse\", \"goal\": \"minimize\"}', '_aml_system_platform_config': '{\"ServiceAddress\": \"https://eastus2.api.azureml.ms\", \"SubscriptionId\": \"15ae9cb6-95c1-483d-a0e3-b1a1a3b06324\", \"ResourceGroupName\": \"ray\", \"WorkspaceName\": \"ray\", \"ExperimentName\": \"nyctaxi\", \"Definition\": {\"Configuration\": null, \"Attribution\": null, \"TelemetryValues\": null, \"Overrides\": {\"Script\": null, \"Command\": \"python train-xgboost.py --nyc_taxi_parquet ${{inputs.nyc_taxi_parquet}} --model ${{outputs.model}} --tree_method ${{search_space.tree_method}} --learning_rate ${{search_space.learning_rate}} --gamma ${{search_space.gamma}} --max_depth ${{search_space.max_depth}} --num_boost_round ${{inputs.num_boost_round}} \", \"UseAbsolutePath\": true, \"Arguments\": [], \"SourceDirectoryDataStore\": null, \"Framework\": 0, \"Target\": \"daniel-big\", \"DataReferences\": {}, \"Data\": {\"nyc_taxi_parquet\": {\"DataLocation\": {\"Dataset\": null, \"DataPath\": null, \"Uri\": {\"Path\": \"/subscriptions/15ae9cb6-95c1-483d-a0e3-b1a1a3b06324/resourceGroups/ray/providers/Microsoft.MachineLearningServices/workspaces/ray/data/azureml_polite_loquat_c3x4fj4l4m_output_data_output_folder/versions/1\", \"IsFile\": false}, \"Type\": \"UriFolder\"}, \"Mechanism\": \"Mount\", \"EnvironmentVariableName\": \"AZURE_ML_INPUT_nyc_taxi_parquet\", \"PathOnCompute\": null, \"Overwrite\": false, \"Options\": {\"IsEvalMode\": \"False\", \"ReadWrite\": \"False\", \"ForceFolder\": \"False\"}}}, \"InputAssets\": {\"nyc_taxi_parquet\": {\"Asset\": {\"AssetId\": \"azureml://locations/eastus2/workspaces/599c8ff0-b43f-4048-ba22-2073107846af/data/azureml_polite_loquat_c3x4fj4l4m_output_data_output_folder/versions/1\", \"Type\": \"UriFolder\"}, \"Mechanism\": \"Mount\", \"EnvironmentVariableName\": \"AZURE_ML_INPUT_nyc_taxi_parquet\", \"PathOnCompute\": null, \"Overwrite\": false, \"Options\": {\"IsEvalMode\": \"False\", \"ReadWrite\": \"False\", \"ForceFolder\": \"False\"}}}, \"OutputData\": {}, \"Datacaches\": [], \"JobName\": null, \"MaxRunDurationSeconds\": null, \"NodeCount\": 1, \"InstanceTypes\": [], \"Priority\": null, \"CredentialPassthrough\": false, \"Identity\": null, \"Environment\": {\"Name\": \"CliV2AnonymousEnvironment\", \"Version\": \"7752a31ab24bdbc290d59ef29b7fcc72\", \"AssetId\": \"azureml://locations/eastus2/workspaces/599c8ff0-b43f-4048-ba22-2073107846af/environments/CliV2AnonymousEnvironment/versions/7752a31ab24bdbc290d59ef29b7fcc72\", \"Python\": {\"InterpreterPath\": null, \"UserManagedDependencies\": false, \"CondaDependencies\": {\"channels\": [\"defaults\", \"conda-forge\"], \"dependencies\": [\"python=3.8\", \"dask==2022.2.1\", \"distributed==2022.2.1\", \"pip==21.3.1\", \"jupyterlab\", \"jupyter-server-proxy\", {\"pip\": [\"fastparquet==0.8.0\", \"fsspec==2022.2.0\", \"tabulate==0.8.9\", \"azureml-mlflow\", \"xgboost==1.6.0\"]}], \"name\": \"dask\"}, \"BaseCondaEnvironment\": null}, \"EnvironmentVariables\": {}, \"Docker\": {\"BaseImage\": \"mcr.microsoft.com/azureml/openmpi4.1.0-ubuntu20.04\", \"Platform\": {\"Os\": \"Linux\", \"Architecture\": \"amd64\"}, \"BaseDockerfile\": null, \"BaseImageRegistry\": null}, \"Spark\": {\"Repositories\": [], \"Packages\": [], \"PrecachePackages\": true}, \"InferencingStackVersion\": null}, \"History\": {\"OutputCollection\": true, \"DirectoriesToWatch\": [\"logs\"], \"EnableMLflowTracking\": true}, \"Spark\": {\"Configuration\": {}}, \"ParallelTask\": {\"MaxRetriesPerWorker\": 0, \"WorkerCountPerNode\": 1, \"TerminalExitCodes\": null, \"Configuration\": {}}, \"BatchAi\": {\"NodeCount\": 0}, \"AmlCompute\": {\"Name\": null, \"VmSize\": null, \"RetainCluster\": false, \"ClusterMaxNodeCount\": null}, \"AISuperComputer\": {\"InstanceType\": \"D2\", \"FrameworkImage\": null, \"ImageVersion\": \"pytorch-1.7.0\", \"Location\": null, \"AISuperComputerStorageData\": null, \"Interactive\": false, \"ScalePolicy\": null, \"VirtualClusterArmId\": null, \"TensorboardLogDirectory\": null, \"SSHPublicKey\": null, \"SSHPublicKeys\": null, \"EnableAzmlInt\": true, \"Priority\": \"Medium\", \"SLATier\": \"Standard\", \"UserAlias\": null}, \"KubernetesCompute\": {\"InstanceType\": null}, \"Tensorflow\": {\"WorkerCount\": 0, \"ParameterServerCount\": 0}, \"Mpi\": {\"ProcessCountPerNode\": 0}, \"PyTorch\": {\"CommunicationBackend\": null, \"ProcessCount\": null}, \"Hdi\": {\"YarnDeployMode\": 0}, \"ContainerInstance\": {\"Region\": null, \"CpuCores\": 2.0, \"MemoryGb\": 3.5}, \"ExposedPorts\": null, \"Docker\": {\"UseDocker\": true, \"SharedVolumes\": null, \"ShmSize\": null, \"Arguments\": null}, \"Cmk8sCompute\": {\"Configuration\": {}}, \"CommandReturnCodeConfig\": {\"ReturnCode\": 0, \"SuccessfulReturnCodes\": []}, \"ApplicationEndpoints\": {}, \"Parameters\": [{\"Name\": \"num_boost_round\", \"Type\": null, \"Value\": \"20\", \"IsOptional\": false}]}, \"SnapshotId\": \"57afd767-c574-4d88-85ea-96516f874a12\", \"Snapshots\": [], \"SourceCodeDataReference\": null, \"ParentRunId\": null, \"DataContainerId\": null, \"RunType\": null, \"DisplayName\": \"bright_grape_l8ycb35m8g\", \"EnvironmentAssetId\": null, \"Properties\": {\"mlflow.source.git.repoURL\": \"https://github.com/Azure/azureml-examples\", \"mlflow.source.git.branch\": \"sdk-preview\", \"mlflow.source.git.commit\": \"c262de2117fe127a85b3179181feee57db8968b4\", \"azureml.git.dirty\": \"True\"}, \"Tags\": {}, \"AggregatedArtifactPath\": null}}', '_aml_system_resume_child_runs': 'null', '_aml_system_all_jobs_generated': 'false', '_aml_system_cancellation_requested': 'false'}, 'properties': {'primary_metric_config': '{\"name\": \"test-rmse\", \"goal\": \"minimize\"}', 'resume_from': 'null', 'runTemplate': 'HyperDrive', 'azureml.runsource': 'hyperdrive', 'platform': 'AML', 'mlflow.source.git.repoURL': 'https://github.com/Azure/azureml-examples', 'mlflow.source.git.branch': 'sdk-preview', 'mlflow.source.git.commit': 'c262de2117fe127a85b3179181feee57db8968b4', 'azureml.git.dirty': 'True', 'ContentSnapshotId': '57afd767-c574-4d88-85ea-96516f874a12', 'user_agent': 'managementfrontend/2a72429067f397f2aa1eb8a1ccd8cd6195f31df2'}, 'id': '/subscriptions/15ae9cb6-95c1-483d-a0e3-b1a1a3b06324/resourceGroups/ray/providers/Microsoft.MachineLearningServices/workspaces/ray/jobs/bright_grape_l8ycb35m8g', 'base_path': './', 'creation_context': <azure.ml._restclient.v2022_02_01_preview.models._models_py3.SystemData object at 0x7fcb39dac0a0>, 'serialize': <msrest.serialization.Serializer object at 0x7fcb39dac160>, 'sampling_algorithm': <azure.ml.entities._job.sweep.sampling_algorithm.RandomSamplingAlgorithm object at 0x7fcb39ebf3a0>, 'early_termination': None, 'limits': <azure.ml.entities._job.job_limits.SweepJobLimits object at 0x7fcb39d31910>, 'search_space': {'tree_method': <azure.ml.entities._job.sweep.search_space.Choice object at 0x7fcb39ebf100>, 'learning_rate': <azure.ml.entities._job.sweep.search_space.Uniform object at 0x7fcb39ebfca0>, 'gamma': <azure.ml.entities._job.sweep.search_space.Choice object at 0x7fcb39ebf8e0>, 'max_depth': <azure.ml.entities._job.sweep.search_space.Choice object at 0x7fcb39ebf400>}, 'objective': <azure.ml._restclient.v2022_02_01_preview.models._models_py3.Objective object at 0x7fcb39dac340>, 'experiment_name': 'nyctaxi', 'compute': 'daniel-big', 'services': {'Studio': <azure.ml._restclient.v2022_02_01_preview.models._models_py3.JobService object at 0x7fcb39dac1c0>}, 'inputs': {'nyc_taxi_parquet': {'type': 'uri_folder', 'path': 'azureml://locations/eastus2/workspaces/599c8ff0-b43f-4048-ba22-2073107846af/data/azureml_polite_loquat_c3x4fj4l4m_output_data_output_folder/versions/1', 'mode': 'ro_mount'}, 'num_boost_round': '20'}, 'outputs': {'default': {'type': 'uri_folder', 'mode': 'rw_mount', 'path': 'azureml://datastores/workspaceartifactstore/ExperimentRun/dcid.bright_grape_l8ycb35m8g'}}, 'trial': <azure.ml.entities._job.parameterized_command.ParameterizedCommand object at 0x7fcb39ebf790>, 'identity': None})"
      ]
     },
     "execution_count": 42,
     "metadata": {},
     "output_type": "execute_result"
    }
   ],
   "source": [
    "ml_client.jobs.create_or_update(sweep_job)"
   ]
  },
  {
   "cell_type": "code",
   "execution_count": 14,
   "metadata": {},
   "outputs": [
    {
     "data": {
      "text/html": [
       "<table style=\"width:100%\"><tr><th>Experiment</th><th>Name</th><th>Type</th><th>Status</th><th>Details Page</th></tr><tr><td>nyctaxi</td><td>happy_bread_2qlqn224rp</td><td>pipeline</td><td>Preparing</td><td><a href=\"https://ml.azure.com/runs/happy_bread_2qlqn224rp?wsid=/subscriptions/15ae9cb6-95c1-483d-a0e3-b1a1a3b06324/resourcegroups/ray/workspaces/ray&amp;tid=72f988bf-86f1-41af-91ab-2d7cd011db47\" target=\"_blank\" rel=\"noopener\">Link to Azure Machine Learning studio</a></td></tr></table>"
      ],
      "text/plain": [
       "PipelineJob({'inputs': {'parquet_dataset': <azure.ml.entities._job.pipeline._io.PipelineInput object at 0x7f7da5a3f3a0>}, 'outputs': {'model': <azure.ml.entities._job.pipeline._io.PipelineOutput object at 0x7f7da5a3f5e0>}, 'component': _PipelineComponent({'components': {}, 'auto_increment_version': False, 'is_anonymous': True, 'name': '7968d4da-fa0f-4a71-b0fa-10ba8bb05e65', 'description': None, 'tags': {}, 'properties': {}, 'id': None, 'base_path': None, 'creation_context': None, 'serialize': <msrest.serialization.Serializer object at 0x7f7da5a3f6d0>, 'version': '1', 'latest_version': None, 'schema': None, 'type': 'pipeline_component', 'display_name': None, 'is_deterministic': True, 'inputs': {}, 'outputs': {}, 'yaml_str': None, 'other_parameter': {}, 'func': <function [component] None at 0x7f7da5aefdc0>}), 'display_name': 'happy_bread_2qlqn224rp', 'type': 'pipeline', 'status': 'Preparing', 'log_files': None, 'name': 'happy_bread_2qlqn224rp', 'description': None, 'tags': {}, 'properties': {'mlflow.source.git.repoURL': 'https://github.com/Azure/azureml-examples/', 'mlflow.source.git.branch': 'danielsc/sdk-preview-demo', 'mlflow.source.git.commit': '493de370efb6fdb4c939db95ff6945752b4bc86e', 'azureml.git.dirty': 'True', 'azureml.runsource': 'azureml.PipelineRun', 'runSource': 'SDKv2', 'runType': 'HTTP', 'azureml.parameters': '{}', 'azureml.continue_on_step_failure': 'False', 'azureml.enforceRerun': 'False', 'azureml.pipelineComponent': 'pipelinerun'}, 'id': '/subscriptions/15ae9cb6-95c1-483d-a0e3-b1a1a3b06324/resourceGroups/ray/providers/Microsoft.MachineLearningServices/workspaces/ray/jobs/happy_bread_2qlqn224rp', 'base_path': './', 'creation_context': <azure.ml._restclient.v2022_02_01_preview.models._models_py3.SystemData object at 0x7f7da5aad8e0>, 'serialize': <msrest.serialization.Serializer object at 0x7f7da5a3f820>, 'experiment_name': 'nyctaxi', 'compute': None, 'services': {'Tracking': <azure.ml._restclient.v2022_02_01_preview.models._models_py3.JobService object at 0x7f7da5aad700>, 'Studio': <azure.ml._restclient.v2022_02_01_preview.models._models_py3.JobService object at 0x7f7da5aadd90>}, 'jobs': {'sweep_job': {'_source': <ComponentSource.REST: 'REST'>, 'identity': None, 'component': {}}}, 'settings': <azure.ml.entities._job.pipeline.pipeline_job_settings.PipelineJobSettings object at 0x7f7da5aab220>, 'identity': None, 'default_code': None, 'default_environment': None})"
      ]
     },
     "execution_count": 14,
     "metadata": {},
     "output_type": "execute_result"
    }
   ],
   "source": [
    "from azure.ml.dsl import pipeline\n",
    "from azure.ml.sweep import Choice, Uniform\n",
    "\n",
    "@pipeline()\n",
    "def just_sweep(parquet_dataset: Input):\n",
    "\n",
    "  train_job = train(nyc_taxi_parquet=parquet_dataset,\n",
    "                    tree_method=Choice(['auto', 'exact', 'approx', 'hist']),\n",
    "                    learning_rate=Uniform(0, 1),\n",
    "                    gamma= Choice(range(7)),\n",
    "                    max_depth= Choice(range(4,8)),\n",
    "                    num_boost_round= 20,)\n",
    "\n",
    "  sweep_job = train_job.sweep(primary_metric='test-rmse',\n",
    "                              goal='minimize',\n",
    "                              sampling_algorithm='bayesian',\n",
    "                              compute='daniel-big')\n",
    "\n",
    "  sweep_job.set_limits(max_concurrent_trials=5,\n",
    "                      max_total_trials=25)\n",
    "\n",
    "  \n",
    "  return dict(model=sweep_job.outputs.model)\n",
    "\n",
    "\n",
    "nyc_parquet = Input(path='azureml:azureml_polite_loquat_c3x4fj4l4m_output_data_output_folder:1')\n",
    "\n",
    "pipeline_job = just_sweep(parquet_dataset=nyc_parquet)\n",
    "\n",
    "ml_client.jobs.create_or_update(pipeline_job)"
   ]
  },
  {
   "cell_type": "markdown",
   "metadata": {},
   "source": [
    "## Test Sweep Output"
   ]
  },
  {
   "cell_type": "code",
   "execution_count": 3,
   "metadata": {},
   "outputs": [],
   "source": [
    "from azure.ml import command, Input\n",
    "from azure.ml.entities import Environment\n",
    "\n",
    "test = command(\n",
    "  code= 'src',\n",
    "  command=\n",
    "    \"find ${{inputs.model}} \",\n",
    "  inputs={\n",
    "    \"model\": Input(\n",
    "      path='azureml:azureml_yellow_nail_h3t6w6r57k_output_model:1',\n",
    "      mode='ro_mount')\n",
    "  },\n",
    "  environment=Environment(\n",
    "    image= \"mcr.microsoft.com/azureml/openmpi4.1.0-ubuntu20.04\"),\n",
    "  compute= \"daniel-big\",\n",
    "  experiment_name= \"dask-nyctaxi-example\"\n",
    ")"
   ]
  },
  {
   "cell_type": "code",
   "execution_count": 4,
   "metadata": {},
   "outputs": [
    {
     "data": {
      "text/html": [
       "<table style=\"width:100%\"><tr><th>Experiment</th><th>Name</th><th>Type</th><th>Status</th><th>Details Page</th></tr><tr><td>dask-nyctaxi-example</td><td>affable_oxygen_y7nm88zsld</td><td>command</td><td>Starting</td><td><a href=\"https://ml.azure.com/runs/affable_oxygen_y7nm88zsld?wsid=/subscriptions/15ae9cb6-95c1-483d-a0e3-b1a1a3b06324/resourcegroups/ray/workspaces/ray&amp;tid=72f988bf-86f1-41af-91ab-2d7cd011db47\" target=\"_blank\" rel=\"noopener\">Link to Azure Machine Learning studio</a></td></tr></table>"
      ],
      "text/plain": [
       "CommandJob({'parameters': {}, 'display_name': 'affable_oxygen_y7nm88zsld', 'type': 'command', 'status': 'Starting', 'log_files': None, 'name': 'affable_oxygen_y7nm88zsld', 'description': None, 'tags': {}, 'properties': {'mlflow.source.git.repoURL': 'https://github.com/Azure/azureml-examples/', 'mlflow.source.git.branch': 'danielsc/sdk-preview-demo', 'mlflow.source.git.commit': '493de370efb6fdb4c939db95ff6945752b4bc86e', 'azureml.git.dirty': 'True', '_azureml.ComputeTargetType': 'amlctrain', 'ContentSnapshotId': 'b83de657-f27c-4953-8fe2-ba9d18dabc51'}, 'id': '/subscriptions/15ae9cb6-95c1-483d-a0e3-b1a1a3b06324/resourceGroups/ray/providers/Microsoft.MachineLearningServices/workspaces/ray/jobs/affable_oxygen_y7nm88zsld', 'base_path': './', 'creation_context': <azure.ml._restclient.v2022_02_01_preview.models._models_py3.SystemData object at 0x7fb3a40267c0>, 'serialize': <msrest.serialization.Serializer object at 0x7fb3a4cd3fd0>, 'command': 'find ${{inputs.model}} ', 'code': '/subscriptions/15ae9cb6-95c1-483d-a0e3-b1a1a3b06324/resourceGroups/ray/providers/Microsoft.MachineLearningServices/workspaces/ray/codes/217257f5-12f0-4771-95c9-3d3254010c3c/versions/1', 'environment_variables': {}, 'environment': 'CliV2AnonymousEnvironment:60557a1b0a854bbe243f996cc0a2c340', 'distribution': None, 'resources': {'instance_count': 1, 'properties': {}}, 'experiment_name': 'dask-nyctaxi-example', 'compute': 'daniel-big', 'services': {'Tracking': <azure.ml._restclient.v2022_02_01_preview.models._models_py3.JobService object at 0x7fb3a4026280>, 'Studio': <azure.ml._restclient.v2022_02_01_preview.models._models_py3.JobService object at 0x7fb3a4026160>}, 'outputs': {'default': {'type': 'uri_folder', 'mode': 'rw_mount', 'path': 'azureml://datastores/workspaceartifactstore/ExperimentRun/dcid.affable_oxygen_y7nm88zsld'}}, 'inputs': {'model': {'type': 'uri_folder', 'path': 'azureml_yellow_nail_h3t6w6r57k_output_model:1', 'mode': 'ro_mount'}}, 'limits': None, 'identity': None})"
      ]
     },
     "execution_count": 4,
     "metadata": {},
     "output_type": "execute_result"
    }
   ],
   "source": [
    "ml_client.jobs.create_or_update(test)"
   ]
  },
  {
   "cell_type": "code",
   "execution_count": 14,
   "metadata": {},
   "outputs": [
    {
     "data": {
      "text/html": [
       "<table style=\"width:100%\"><tr><th>Experiment</th><th>Name</th><th>Type</th><th>Status</th><th>Details Page</th></tr><tr><td>nyctaxi</td><td>sharp_cassava_5d3nv4qkmd</td><td>pipeline</td><td>Preparing</td><td><a href=\"https://ml.azure.com/runs/sharp_cassava_5d3nv4qkmd?wsid=/subscriptions/15ae9cb6-95c1-483d-a0e3-b1a1a3b06324/resourcegroups/ray/workspaces/ray&amp;tid=72f988bf-86f1-41af-91ab-2d7cd011db47\" target=\"_blank\" rel=\"noopener\">Link to Azure Machine Learning studio</a></td></tr></table>"
      ],
      "text/plain": [
       "PipelineJob({'inputs': {'parquet_dataset': <azure.ml.entities._job.pipeline._io.PipelineInput object at 0x7fe4d9d25520>}, 'outputs': {}, 'component': _PipelineComponent({'components': {}, 'auto_increment_version': False, 'is_anonymous': True, 'name': 'aa3bcaf3-cd61-4d7e-8767-a652882e6392', 'description': None, 'tags': {}, 'properties': {}, 'id': None, 'base_path': None, 'creation_context': None, 'serialize': <msrest.serialization.Serializer object at 0x7fe4d9d25430>, 'version': '1', 'latest_version': None, 'schema': None, 'type': 'pipeline_component', 'display_name': None, 'is_deterministic': True, 'inputs': {}, 'outputs': {}, 'yaml_str': None, 'other_parameter': {}, 'func': <function [component] None at 0x7fe4d9d3c430>}), 'display_name': 'sharp_cassava_5d3nv4qkmd', 'type': 'pipeline', 'status': 'Preparing', 'log_files': None, 'name': 'sharp_cassava_5d3nv4qkmd', 'description': None, 'tags': {}, 'properties': {'mlflow.source.git.repoURL': 'https://github.com/Azure/azureml-examples/', 'mlflow.source.git.branch': 'danielsc/sdk-preview-demo', 'mlflow.source.git.commit': '493de370efb6fdb4c939db95ff6945752b4bc86e', 'azureml.git.dirty': 'True', 'azureml.runsource': 'azureml.PipelineRun', 'runSource': 'SDKv2', 'runType': 'HTTP', 'azureml.parameters': '{}', 'azureml.continue_on_step_failure': 'False', 'azureml.enforceRerun': 'False', 'azureml.pipelineComponent': 'pipelinerun'}, 'id': '/subscriptions/15ae9cb6-95c1-483d-a0e3-b1a1a3b06324/resourceGroups/ray/providers/Microsoft.MachineLearningServices/workspaces/ray/jobs/sharp_cassava_5d3nv4qkmd', 'base_path': './', 'creation_context': <azure.ml._restclient.v2022_02_01_preview.models._models_py3.SystemData object at 0x7fe4d9ca2f40>, 'serialize': <msrest.serialization.Serializer object at 0x7fe4d9d25160>, 'experiment_name': 'nyctaxi', 'compute': None, 'services': {'Tracking': <azure.ml._restclient.v2022_02_01_preview.models._models_py3.JobService object at 0x7fe4d9ca2400>, 'Studio': <azure.ml._restclient.v2022_02_01_preview.models._models_py3.JobService object at 0x7fe4d9ca26d0>}, 'jobs': {'sweep_job': {'_source': <ComponentSource.REST: 'REST'>, 'identity': None, 'component': {}}, 'test_job': {'code': {}, 'command': {}}}, 'settings': <azure.ml.entities._job.pipeline.pipeline_job_settings.PipelineJobSettings object at 0x7fe4d9d25940>, 'identity': None, 'default_code': None, 'default_environment': None})"
      ]
     },
     "execution_count": 14,
     "metadata": {},
     "output_type": "execute_result"
    }
   ],
   "source": [
    "from azure.ml.dsl import pipeline\n",
    "from azure.ml.sweep import Choice, Uniform\n",
    "\n",
    "@pipeline()\n",
    "def sweep_and_test(parquet_dataset: Input):\n",
    "\n",
    "  train_job = train(nyc_taxi_parquet=parquet_dataset,\n",
    "                    tree_method=Choice(['auto', 'exact', 'approx', 'hist']),\n",
    "                    learning_rate=Uniform(0, 1),\n",
    "                    gamma= Choice(range(7)),\n",
    "                    max_depth= Choice(range(4,8)),\n",
    "                    num_boost_round= 20,)\n",
    "\n",
    "  sweep_job = train_job.sweep(primary_metric='test-rmse',\n",
    "                              goal='minimize',\n",
    "                              sampling_algorithm='bayesian',\n",
    "                              compute='daniel-big')\n",
    "\n",
    "  sweep_job.set_limits(max_concurrent_trials=5,\n",
    "                      max_total_trials=25)\n",
    "\n",
    "  test_job = test(model=sweep_job.outputs.model)\n",
    "  \n",
    "  return dict()\n",
    "\n",
    "\n",
    "nyc_parquet = Input(path='azureml:azureml_polite_loquat_c3x4fj4l4m_output_data_output_folder:1')\n",
    "\n",
    "pipeline_job = sweep_and_test(parquet_dataset=nyc_parquet)\n",
    "\n",
    "ml_client.jobs.create_or_update(pipeline_job)"
   ]
  },
  {
   "cell_type": "code",
   "execution_count": 1,
   "metadata": {},
   "outputs": [],
   "source": [
    "import pandas as pd \n",
    "\n",
    "df = pd.DataFrame({'a':[1,2,3]})"
   ]
  },
  {
   "cell_type": "code",
   "execution_count": 2,
   "metadata": {},
   "outputs": [
    {
     "data": {
      "text/html": [
       "<div>\n",
       "<style scoped>\n",
       "    .dataframe tbody tr th:only-of-type {\n",
       "        vertical-align: middle;\n",
       "    }\n",
       "\n",
       "    .dataframe tbody tr th {\n",
       "        vertical-align: top;\n",
       "    }\n",
       "\n",
       "    .dataframe thead th {\n",
       "        text-align: right;\n",
       "    }\n",
       "</style>\n",
       "<table border=\"1\" class=\"dataframe\">\n",
       "  <thead>\n",
       "    <tr style=\"text-align: right;\">\n",
       "      <th></th>\n",
       "      <th>a</th>\n",
       "    </tr>\n",
       "  </thead>\n",
       "  <tbody>\n",
       "    <tr>\n",
       "      <th>0</th>\n",
       "      <td>1</td>\n",
       "    </tr>\n",
       "    <tr>\n",
       "      <th>1</th>\n",
       "      <td>2</td>\n",
       "    </tr>\n",
       "    <tr>\n",
       "      <th>2</th>\n",
       "      <td>3</td>\n",
       "    </tr>\n",
       "  </tbody>\n",
       "</table>\n",
       "</div>"
      ],
      "text/plain": [
       "   a\n",
       "0  1\n",
       "1  2\n",
       "2  3"
      ]
     },
     "execution_count": 2,
     "metadata": {},
     "output_type": "execute_result"
    }
   ],
   "source": [
    "df"
   ]
  },
  {
   "cell_type": "code",
   "execution_count": null,
   "metadata": {},
   "outputs": [],
   "source": []
  }
 ],
 "metadata": {
  "interpreter": {
   "hash": "6d65a8c07f5b6469e0fc613f182488c0dccce05038bbda39e5ac9075c0454d11"
  },
  "kernelspec": {
   "display_name": "Python 3.8.5 ('azureml_py38')",
   "language": "python",
   "name": "python3"
  },
  "language_info": {
   "codemirror_mode": {
    "name": "ipython",
    "version": 3
   },
   "file_extension": ".py",
   "mimetype": "text/x-python",
   "name": "python",
   "nbconvert_exporter": "python",
   "pygments_lexer": "ipython3",
   "version": "3.8.13"
  },
  "orig_nbformat": 4
 },
 "nbformat": 4,
 "nbformat_minor": 2
}
