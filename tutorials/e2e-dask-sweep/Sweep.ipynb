{
 "cells": [
  {
   "cell_type": "code",
   "execution_count": 2,
   "metadata": {},
   "outputs": [],
   "source": [
    "from azure.ml import MLClient\n",
    "from azure.identity import DefaultAzureCredential"
   ]
  },
  {
   "cell_type": "code",
   "execution_count": 3,
   "metadata": {},
   "outputs": [],
   "source": [
    "# subscription_id = \"6560575d-fa06-4e7d-95fb-f962e74efd7a\"\n",
    "# resource_group = \"azureml-examples\"\n",
    "# workspace = \"main\"\n",
    "\n",
    "subscription_id = \"15ae9cb6-95c1-483d-a0e3-b1a1a3b06324\"\n",
    "resource_group = \"ray\"\n",
    "workspace = \"ray\"\n",
    "\n",
    "\n",
    "\n",
    "ml_client = MLClient(DefaultAzureCredential(), subscription_id, resource_group, workspace)"
   ]
  },
  {
   "cell_type": "code",
   "execution_count": 4,
   "metadata": {},
   "outputs": [
    {
     "data": {
      "text/plain": [
       "<azure.ml._operations.job_operations.JobOperations at 0x7f2a90a0ff40>"
      ]
     },
     "execution_count": 4,
     "metadata": {},
     "output_type": "execute_result"
    }
   ],
   "source": [
    "ml_client.jobs"
   ]
  },
  {
   "cell_type": "markdown",
   "metadata": {},
   "source": [
    "## Command Job"
   ]
  },
  {
   "cell_type": "code",
   "execution_count": 11,
   "metadata": {},
   "outputs": [],
   "source": [
    "from azure.ml import command, Input, Output, PyTorchDistribution\n",
    "from azure.ml.entities import ResourceConfiguration, Environment \n",
    "prep = command(\n",
    "  code='src',\n",
    "  command=\n",
    "    \"python startDask.py \"\n",
    "    \"--script prep-nyctaxi.py \"\n",
    "    \"--nyc_taxi_dataset ${{inputs.nyc_taxi_dataset}} \"\n",
    "    \"--output_folder ${{outputs.output_folder}}\",\n",
    "  inputs={\n",
    "    'nyc_taxi_dataset': Input(\n",
    "        path= 'wasbs://datasets@azuremlexamples.blob.core.windows.net/nyctaxi/',\n",
    "        mode= 'ro_mount')},\n",
    "  outputs={\n",
    "    'output_folder':Output(\n",
    "      type= 'uri_folder')},\n",
    "  environment=Environment( \n",
    "    image= 'mcr.microsoft.com/azureml/openmpi4.1.0-ubuntu20.04',\n",
    "    conda_file= 'conda.yml'),\n",
    "  compute= 'daniel-big',\n",
    "  resources=ResourceConfiguration(instance_count= 4),\n",
    "  distribution=PyTorchDistribution(),\n",
    "  experiment_name= 'dask-nyctaxi-pipeline-example',\n",
    "  description= 'This sample shows how to run a distributed DASK job on AzureML. The 24GB NYC Taxi dataset is read in CSV format by a 4 node DASK cluster, processed and then written as job output in parquet format.'\n",
    ")"
   ]
  },
  {
   "cell_type": "code",
   "execution_count": 12,
   "metadata": {},
   "outputs": [],
   "source": [
    "train = command(\n",
    "  code= 'src',\n",
    "  command=\n",
    "    \"python train-xgboost.py \"\n",
    "    \"--nyc_taxi_parquet ${{inputs.nyc_taxi_parquet}} \"\n",
    "    \"--model ${{outputs.model}} \"\n",
    "    \"--tree_method ${{inputs.tree_method}} \"\n",
    "    \"--learning_rate ${{inputs.learning_rate}} \"\n",
    "    \"--gamma ${{inputs.gamma}} \"\n",
    "    \"--max_depth ${{inputs.max_depth}} \"\n",
    "    \"--num_boost_round ${{inputs.num_boost_round}} \",\n",
    "  inputs={\n",
    "    \"nyc_taxi_parquet\": Input(\n",
    "      path='azureml:azureml_polite_loquat_c3x4fj4l4m_output_data_output_folder:1',\n",
    "      mode='ro_mount'),\n",
    "    \"tree_method\": \"auto\",\n",
    "    \"learning_rate\": 0.3,\n",
    "    \"gamma\": 1,\n",
    "    \"max_depth\": 7,\n",
    "    \"num_boost_round\": 20,\n",
    "  },\n",
    "  outputs={\n",
    "    \"model\": Output(type='mlflow_model')\n",
    "  },\n",
    "  environment=Environment(\n",
    "    image= \"mcr.microsoft.com/azureml/openmpi4.1.0-ubuntu20.04\",\n",
    "    conda_file= \"conda.yml\"),\n",
    "  compute= \"daniel-big\",\n",
    "  experiment_name= \"dask-nyctaxi-example\"\n",
    ")"
   ]
  },
  {
   "cell_type": "code",
   "execution_count": 34,
   "metadata": {},
   "outputs": [],
   "source": [
    "from azure.ml import command, Input, Output\n",
    "from azure.ml.entities import Environment\n",
    "\n",
    "test = command(\n",
    "  command=\n",
    "    \"cp -r ${{inputs.model_in}}/* ${{outputs.model_out}} \\n\"\n",
    "    \"find ${{outputs.model_out}} \",\n",
    "  inputs={\n",
    "    \"model_in\": Input(\n",
    "      path='data/xgbmodel',\n",
    "      mode='ro_mount')\n",
    "  },\n",
    "  outputs={\n",
    "    \"model_out\": Output(type='mlflow_model')\n",
    "  },\n",
    "  environment=Environment(\n",
    "    image= \"mcr.microsoft.com/azureml/openmpi4.1.0-ubuntu20.04\",\n",
    "    conda_file= \"conda.yml\"),\n",
    "  compute= \"cpu-cluster\",\n",
    "  experiment_name= \"dask-nyctaxi-example\"\n",
    ")"
   ]
  },
  {
   "cell_type": "code",
   "execution_count": 35,
   "metadata": {},
   "outputs": [
    {
     "data": {
      "text/html": [
       "<table style=\"width:100%\"><tr><th>Experiment</th><th>Name</th><th>Type</th><th>Status</th><th>Details Page</th></tr><tr><td>dask-nyctaxi-example</td><td>dreamy_eagle_nl6xh6d530</td><td>command</td><td>Starting</td><td><a href=\"https://ml.azure.com/runs/dreamy_eagle_nl6xh6d530?wsid=/subscriptions/15ae9cb6-95c1-483d-a0e3-b1a1a3b06324/resourcegroups/ray/workspaces/ray&amp;tid=72f988bf-86f1-41af-91ab-2d7cd011db47\" target=\"_blank\" rel=\"noopener\">Link to Azure Machine Learning studio</a></td></tr></table>"
      ],
      "text/plain": [
       "CommandJob({'parameters': {}, 'display_name': 'dreamy_eagle_nl6xh6d530', 'type': 'command', 'status': 'Starting', 'log_files': None, 'name': 'dreamy_eagle_nl6xh6d530', 'description': None, 'tags': {}, 'properties': {'mlflow.source.git.repoURL': 'https://github.com/Azure/azureml-examples/', 'mlflow.source.git.branch': 'danielsc/sdk-preview-demo', 'mlflow.source.git.commit': 'ae2e39175a703626b07685181a421ce1922a55eb', 'azureml.git.dirty': 'True', '_azureml.ComputeTargetType': 'amlctrain'}, 'id': '/subscriptions/15ae9cb6-95c1-483d-a0e3-b1a1a3b06324/resourceGroups/ray/providers/Microsoft.MachineLearningServices/workspaces/ray/jobs/dreamy_eagle_nl6xh6d530', 'base_path': './', 'creation_context': <azure.ml._restclient.v2022_02_01_preview.models._models_py3.SystemData object at 0x7f49715395e0>, 'serialize': <msrest.serialization.Serializer object at 0x7f4971539460>, 'command': 'cp -r ${{inputs.model_in}}/* ${{outputs.model_out}} \\nfind ${{outputs.model_out}} ', 'code': None, 'environment_variables': {}, 'environment': 'CliV2AnonymousEnvironment:7752a31ab24bdbc290d59ef29b7fcc72', 'distribution': None, 'resources': {'instance_count': 1, 'properties': {}}, 'experiment_name': 'dask-nyctaxi-example', 'compute': 'cpu-cluster', 'services': {'Tracking': <azure.ml._restclient.v2022_02_01_preview.models._models_py3.JobService object at 0x7f49714a85b0>, 'Studio': <azure.ml._restclient.v2022_02_01_preview.models._models_py3.JobService object at 0x7f49714a8430>}, 'outputs': {'model_out': {'type': 'mlflow_model', 'mode': 'rw_mount'}, 'default': {'type': 'uri_folder', 'mode': 'rw_mount', 'path': 'azureml://datastores/workspaceartifactstore/ExperimentRun/dcid.dreamy_eagle_nl6xh6d530'}}, 'inputs': {'model_in': {'type': 'uri_folder', 'path': 'azureml://datastores/workspaceblobstore/paths/LocalUpload/65561969ad58b0bb2e11d51a98ad2bfa/xgbmodel/', 'mode': 'ro_mount'}}, 'limits': None, 'identity': None})"
      ]
     },
     "execution_count": 35,
     "metadata": {},
     "output_type": "execute_result"
    }
   ],
   "source": [
    "ml_client.jobs.create_or_update(test)"
   ]
  },
  {
   "cell_type": "markdown",
   "metadata": {},
   "source": [
    "## Pipeline Job"
   ]
  },
  {
   "cell_type": "code",
   "execution_count": 36,
   "metadata": {},
   "outputs": [],
   "source": [
    "from azure.ml.dsl import pipeline\n",
    "\n",
    "@pipeline()\n",
    "def prep_train_test(dataset: Input):\n",
    "  prep_job = prep(nyc_taxi_dataset=dataset)\n",
    "  train_job = train(nyc_taxi_parquet=prep_job.outputs.output_folder,\n",
    "                    tree_method='auto',\n",
    "                    learning_rate= 0.3,\n",
    "                    gamma= 1,\n",
    "                    max_depth= 7,\n",
    "                    num_boost_round= 12)\n",
    "  test_job = test(model_in=train_job.outputs.model)\n",
    "  return dict(model=test_job.outputs.model_out)"
   ]
  },
  {
   "cell_type": "code",
   "execution_count": 16,
   "metadata": {},
   "outputs": [
    {
     "data": {
      "text/html": [
       "<table style=\"width:100%\"><tr><th>Experiment</th><th>Name</th><th>Type</th><th>Status</th><th>Details Page</th></tr><tr><td>e2e-dask-sweep</td><td>tender_queen_474r4gf4yk</td><td>pipeline</td><td>Preparing</td><td><a href=\"https://ml.azure.com/runs/tender_queen_474r4gf4yk?wsid=/subscriptions/15ae9cb6-95c1-483d-a0e3-b1a1a3b06324/resourcegroups/ray/workspaces/ray&amp;tid=72f988bf-86f1-41af-91ab-2d7cd011db47\" target=\"_blank\" rel=\"noopener\">Link to Azure Machine Learning studio</a></td></tr></table>"
      ],
      "text/plain": [
       "PipelineJob({'inputs': {'dataset': <azure.ml.entities._job.pipeline._io.PipelineInput object at 0x7f497150a790>}, 'outputs': {'model': <azure.ml.entities._job.pipeline._io.PipelineOutput object at 0x7f497155eaf0>}, 'component': _PipelineComponent({'components': {}, 'auto_increment_version': False, 'is_anonymous': True, 'name': '53e628dd-9508-48d6-8ab4-240324246cea', 'description': None, 'tags': {}, 'properties': {}, 'id': None, 'base_path': None, 'creation_context': None, 'serialize': <msrest.serialization.Serializer object at 0x7f497155e1f0>, 'version': '1', 'latest_version': None, 'schema': None, 'type': 'pipeline_component', 'display_name': None, 'is_deterministic': True, 'inputs': {}, 'outputs': {}, 'yaml_str': None, 'other_parameter': {}, 'func': <function [component] None at 0x7f497161fee0>}), 'display_name': 'tender_queen_474r4gf4yk', 'type': 'pipeline', 'status': 'Preparing', 'log_files': None, 'name': 'tender_queen_474r4gf4yk', 'description': None, 'tags': {}, 'properties': {'mlflow.source.git.repoURL': 'https://github.com/Azure/azureml-examples/', 'mlflow.source.git.branch': 'danielsc/sdk-preview-demo', 'mlflow.source.git.commit': 'ae2e39175a703626b07685181a421ce1922a55eb', 'azureml.git.dirty': 'True', 'azureml.runsource': 'azureml.PipelineRun', 'runSource': 'SDKv2', 'runType': 'HTTP', 'azureml.parameters': '{}', 'azureml.continue_on_step_failure': 'False', 'azureml.enforceRerun': 'False', 'azureml.pipelineComponent': 'pipelinerun'}, 'id': '/subscriptions/15ae9cb6-95c1-483d-a0e3-b1a1a3b06324/resourceGroups/ray/providers/Microsoft.MachineLearningServices/workspaces/ray/jobs/tender_queen_474r4gf4yk', 'base_path': './', 'creation_context': <azure.ml._restclient.v2022_02_01_preview.models._models_py3.SystemData object at 0x7f4971577b50>, 'serialize': <msrest.serialization.Serializer object at 0x7f497152a220>, 'experiment_name': 'e2e-dask-sweep', 'compute': None, 'services': {'Tracking': <azure.ml._restclient.v2022_02_01_preview.models._models_py3.JobService object at 0x7f4971577250>, 'Studio': <azure.ml._restclient.v2022_02_01_preview.models._models_py3.JobService object at 0x7f4971577c10>}, 'jobs': {'prep_job': {'code': {}, 'command': {}}, 'train_job': {'code': {}, 'command': {}}, 'test_job': {'code': {}, 'command': {}}}, 'settings': <azure.ml.entities._job.pipeline.pipeline_job_settings.PipelineJobSettings object at 0x7f4971634340>, 'identity': None, 'default_code': None, 'default_environment': None})"
      ]
     },
     "execution_count": 16,
     "metadata": {},
     "output_type": "execute_result"
    }
   ],
   "source": [
    "nyc_raw_data = Input(path= 'wasbs://datasets@azuremlexamples.blob.core.windows.net/nyctaxi/')\n",
    "\n",
    "pipeline_job = prep_train_test(dataset=nyc_raw_data)\n",
    "\n",
    "ml_client.jobs.create_or_update(pipeline_job)"
   ]
  },
  {
   "cell_type": "markdown",
   "metadata": {},
   "source": [
    "## Sweep Job"
   ]
  },
  {
   "cell_type": "code",
   "execution_count": 19,
   "metadata": {},
   "outputs": [],
   "source": [
    "from azure.ml.dsl import pipeline\n",
    "from azure.ml.sweep import Choice, Uniform\n",
    "\n",
    "@pipeline()\n",
    "def prep_sweep_test(dataset: Input):\n",
    "  prep_job = prep(nyc_taxi_dataset=dataset)\n",
    "\n",
    "  train_job = train(nyc_taxi_parquet=prep_job.outputs.output_folder,\n",
    "                    tree_method=Choice(['auto', 'exact', 'approx', 'hist']),\n",
    "                    learning_rate=Uniform(0, 1),\n",
    "                    gamma= Choice(range(7)),\n",
    "                    max_depth= Choice(range(4,8)),\n",
    "                    num_boost_round= 20,)\n",
    "\n",
    "  sweep_job = train_job.sweep(primary_metric='test-rmse',\n",
    "                              goal='minimize',\n",
    "                              sampling_algorithm='bayesian',\n",
    "                              compute='daniel-big')\n",
    "\n",
    "  sweep_job.set_limits(max_concurrent_trials=5,\n",
    "                      max_total_trials=25)\n",
    "\n",
    "  test_job = test(model_in=sweep_job.outputs.model)\n",
    "  return dict(model=test_job.outputs.model_out)"
   ]
  },
  {
   "cell_type": "code",
   "execution_count": 20,
   "metadata": {},
   "outputs": [
    {
     "data": {
      "text/html": [
       "<table style=\"width:100%\"><tr><th>Experiment</th><th>Name</th><th>Type</th><th>Status</th><th>Details Page</th></tr><tr><td>e2e-dask-sweep</td><td>cool_tent_n7d5kdqjhc</td><td>pipeline</td><td>Preparing</td><td><a href=\"https://ml.azure.com/runs/cool_tent_n7d5kdqjhc?wsid=/subscriptions/15ae9cb6-95c1-483d-a0e3-b1a1a3b06324/resourcegroups/ray/workspaces/ray&amp;tid=72f988bf-86f1-41af-91ab-2d7cd011db47\" target=\"_blank\" rel=\"noopener\">Link to Azure Machine Learning studio</a></td></tr></table>"
      ],
      "text/plain": [
       "PipelineJob({'inputs': {'dataset': <azure.ml.entities._job.pipeline._io.PipelineInput object at 0x7f497145e1c0>}, 'outputs': {'model': <azure.ml.entities._job.pipeline._io.PipelineOutput object at 0x7f497145e8e0>}, 'component': _PipelineComponent({'components': {}, 'auto_increment_version': False, 'is_anonymous': True, 'name': 'e6c9a8a9-a5d1-42ed-8dcd-276bd509ddd7', 'description': None, 'tags': {}, 'properties': {}, 'id': None, 'base_path': None, 'creation_context': None, 'serialize': <msrest.serialization.Serializer object at 0x7f497145e9d0>, 'version': '1', 'latest_version': None, 'schema': None, 'type': 'pipeline_component', 'display_name': None, 'is_deterministic': True, 'inputs': {}, 'outputs': {}, 'yaml_str': None, 'other_parameter': {}, 'func': <function [component] None at 0x7f497147cf70>}), 'display_name': 'cool_tent_n7d5kdqjhc', 'type': 'pipeline', 'status': 'Preparing', 'log_files': None, 'name': 'cool_tent_n7d5kdqjhc', 'description': None, 'tags': {}, 'properties': {'mlflow.source.git.repoURL': 'https://github.com/Azure/azureml-examples/', 'mlflow.source.git.branch': 'danielsc/sdk-preview-demo', 'mlflow.source.git.commit': 'ae2e39175a703626b07685181a421ce1922a55eb', 'azureml.git.dirty': 'True', 'azureml.runsource': 'azureml.PipelineRun', 'runSource': 'SDKv2', 'runType': 'HTTP', 'azureml.parameters': '{}', 'azureml.continue_on_step_failure': 'False', 'azureml.enforceRerun': 'False', 'azureml.pipelineComponent': 'pipelinerun'}, 'id': '/subscriptions/15ae9cb6-95c1-483d-a0e3-b1a1a3b06324/resourceGroups/ray/providers/Microsoft.MachineLearningServices/workspaces/ray/jobs/cool_tent_n7d5kdqjhc', 'base_path': './', 'creation_context': <azure.ml._restclient.v2022_02_01_preview.models._models_py3.SystemData object at 0x7f49715f4730>, 'serialize': <msrest.serialization.Serializer object at 0x7f497145eb20>, 'experiment_name': 'e2e-dask-sweep', 'compute': None, 'services': {'Tracking': <azure.ml._restclient.v2022_02_01_preview.models._models_py3.JobService object at 0x7f497155e0d0>, 'Studio': <azure.ml._restclient.v2022_02_01_preview.models._models_py3.JobService object at 0x7f4971587550>}, 'jobs': {'prep_job': {'code': {}, 'command': {}}, 'sweep_job': {'_source': <ComponentSource.REST: 'REST'>, 'identity': None, 'component': {}}, 'test_job': {'code': {}, 'command': {}}}, 'settings': <azure.ml.entities._job.pipeline.pipeline_job_settings.PipelineJobSettings object at 0x7f497144dd30>, 'identity': None, 'default_code': None, 'default_environment': None})"
      ]
     },
     "execution_count": 20,
     "metadata": {},
     "output_type": "execute_result"
    }
   ],
   "source": [
    "nyc_raw_data = Input(path= 'wasbs://datasets@azuremlexamples.blob.core.windows.net/nyctaxi/')\n",
    "\n",
    "pipeline_job = prep_sweep_test(dataset=nyc_raw_data)\n",
    "\n",
    "ml_client.jobs.create_or_update(pipeline_job)"
   ]
  },
  {
   "cell_type": "markdown",
   "metadata": {},
   "source": [
    "## Standalone Sweep Job"
   ]
  },
  {
   "cell_type": "code",
   "execution_count": 21,
   "metadata": {},
   "outputs": [],
   "source": [
    "from azure.ml.sweep import Choice, Uniform, LogUniform\n",
    "\n",
    "train_job = train(tree_method=Choice(['auto', 'exact', 'approx', 'hist']),\n",
    "                  learning_rate=Uniform(0, 1),\n",
    "                  gamma= Choice(range(7)),\n",
    "                  max_depth= Choice(range(4,8)),\n",
    "                  num_boost_round= 20,)"
   ]
  },
  {
   "cell_type": "code",
   "execution_count": 22,
   "metadata": {},
   "outputs": [],
   "source": [
    "from azure.ml.sweep import BayesianSamplingAlgorithm\n",
    "\n",
    "sweep_job = train_job.sweep(primary_metric='test-rmse',\n",
    "                            goal='minimize',\n",
    "                            sampling_algorithm=BayesianSamplingAlgorithm(),\n",
    "                            compute='daniel-big')\n",
    "\n",
    "sweep_job.set_limits(max_concurrent_trials=5,\n",
    "                     max_total_trials=25)\n"
   ]
  },
  {
   "cell_type": "code",
   "execution_count": 23,
   "metadata": {},
   "outputs": [
    {
     "data": {
      "text/html": [
       "<table style=\"width:100%\"><tr><th>Experiment</th><th>Name</th><th>Type</th><th>Status</th><th>Details Page</th></tr><tr><td>e2e-dask-sweep</td><td>9290a448-867f-cc19-df3b-90dfeb28619a</td><td>sweep</td><td>Running</td><td><a href=\"https://ml.azure.com/runs/9290a448-867f-cc19-df3b-90dfeb28619a?wsid=/subscriptions/15ae9cb6-95c1-483d-a0e3-b1a1a3b06324/resourcegroups/ray/workspaces/ray&amp;tid=72f988bf-86f1-41af-91ab-2d7cd011db47\" target=\"_blank\" rel=\"noopener\">Link to Azure Machine Learning studio</a></td></tr></table>"
      ],
      "text/plain": [
       "SweepJob({'display_name': '9290a448-867f-cc19-df3b-90dfeb28619a', 'type': 'sweep', 'status': 'Running', 'log_files': None, 'name': '9290a448-867f-cc19-df3b-90dfeb28619a', 'description': None, 'tags': {'_aml_system_max_concurrent_jobs': '5', '_aml_system_max_total_jobs': '25', '_aml_system_max_duration_minutes': '86400', '_aml_system_policy_config': '{\"name\": \"DEFAULT\", \"properties\": {}}', '_aml_system_generator_config': '{\"name\": \"BAYESIANOPTIMIZATION\", \"properties\": {}, \"parameter_space\": {\"tree_method\": [\"choice\", [[\"auto\", \"exact\", \"approx\", \"hist\"]]], \"learning_rate\": [\"uniform\", [0, 1]], \"gamma\": [\"choice\", [[0, 1, 2, 3, 4, 5, 6]]], \"max_depth\": [\"choice\", [[4, 5, 6, 7]]]}}', '_aml_system_primary_metric_config': '{\"name\": \"test-rmse\", \"goal\": \"minimize\"}', '_aml_system_platform_config': '{\"ServiceAddress\": \"https://eastus2.api.azureml.ms\", \"SubscriptionId\": \"15ae9cb6-95c1-483d-a0e3-b1a1a3b06324\", \"ResourceGroupName\": \"ray\", \"WorkspaceName\": \"ray\", \"ExperimentName\": \"e2e-dask-sweep\", \"Definition\": {\"Configuration\": null, \"Attribution\": null, \"TelemetryValues\": null, \"Overrides\": {\"Script\": null, \"Command\": \"python train-xgboost.py --nyc_taxi_parquet ${{inputs.nyc_taxi_parquet}} --model ${{outputs.model}} --tree_method ${{search_space.tree_method}} --learning_rate ${{search_space.learning_rate}} --gamma ${{search_space.gamma}} --max_depth ${{search_space.max_depth}} --num_boost_round ${{inputs.num_boost_round}} \", \"UseAbsolutePath\": true, \"Arguments\": [], \"SourceDirectoryDataStore\": null, \"Framework\": 0, \"Target\": \"daniel-big\", \"DataReferences\": {}, \"Data\": {\"nyc_taxi_parquet\": {\"DataLocation\": {\"Dataset\": null, \"DataPath\": null, \"Uri\": {\"Path\": \"/subscriptions/15ae9cb6-95c1-483d-a0e3-b1a1a3b06324/resourceGroups/ray/providers/Microsoft.MachineLearningServices/workspaces/ray/data/azureml_polite_loquat_c3x4fj4l4m_output_data_output_folder/versions/1\", \"IsFile\": false}, \"Type\": \"UriFolder\"}, \"Mechanism\": \"Mount\", \"EnvironmentVariableName\": \"AZURE_ML_INPUT_nyc_taxi_parquet\", \"PathOnCompute\": null, \"Overwrite\": false, \"Options\": {\"IsEvalMode\": \"False\", \"ReadWrite\": \"False\", \"ForceFolder\": \"False\"}}}, \"InputAssets\": {\"nyc_taxi_parquet\": {\"Asset\": {\"AssetId\": \"azureml://locations/eastus2/workspaces/599c8ff0-b43f-4048-ba22-2073107846af/data/azureml_polite_loquat_c3x4fj4l4m_output_data_output_folder/versions/1\", \"Type\": \"UriFolder\"}, \"Mechanism\": \"Mount\", \"EnvironmentVariableName\": \"AZURE_ML_INPUT_nyc_taxi_parquet\", \"PathOnCompute\": null, \"Overwrite\": false, \"Options\": {\"IsEvalMode\": \"False\", \"ReadWrite\": \"False\", \"ForceFolder\": \"False\"}}}, \"OutputData\": {}, \"Datacaches\": [], \"JobName\": null, \"MaxRunDurationSeconds\": null, \"NodeCount\": 1, \"InstanceTypes\": [], \"Priority\": null, \"CredentialPassthrough\": false, \"Identity\": null, \"Environment\": {\"Name\": \"CliV2AnonymousEnvironment\", \"Version\": \"7752a31ab24bdbc290d59ef29b7fcc72\", \"AssetId\": \"azureml://locations/eastus2/workspaces/599c8ff0-b43f-4048-ba22-2073107846af/environments/CliV2AnonymousEnvironment/versions/7752a31ab24bdbc290d59ef29b7fcc72\", \"Python\": {\"InterpreterPath\": null, \"UserManagedDependencies\": false, \"CondaDependencies\": {\"channels\": [\"defaults\", \"conda-forge\"], \"dependencies\": [\"python=3.8\", \"dask==2022.2.1\", \"distributed==2022.2.1\", \"pip==21.3.1\", \"jupyterlab\", \"jupyter-server-proxy\", {\"pip\": [\"fastparquet==0.8.0\", \"fsspec==2022.2.0\", \"tabulate==0.8.9\", \"azureml-mlflow\", \"xgboost==1.6.0\"]}], \"name\": \"dask\"}, \"BaseCondaEnvironment\": null}, \"EnvironmentVariables\": {}, \"Docker\": {\"BaseImage\": \"mcr.microsoft.com/azureml/openmpi4.1.0-ubuntu20.04\", \"Platform\": {\"Os\": \"Linux\", \"Architecture\": \"amd64\"}, \"BaseDockerfile\": null, \"BaseImageRegistry\": null}, \"Spark\": {\"Repositories\": [], \"Packages\": [], \"PrecachePackages\": true}, \"InferencingStackVersion\": null}, \"History\": {\"OutputCollection\": true, \"DirectoriesToWatch\": [\"logs\"], \"EnableMLflowTracking\": true}, \"Spark\": {\"Configuration\": {}}, \"ParallelTask\": {\"MaxRetriesPerWorker\": 0, \"WorkerCountPerNode\": 1, \"TerminalExitCodes\": null, \"Configuration\": {}}, \"BatchAi\": {\"NodeCount\": 0}, \"AmlCompute\": {\"Name\": null, \"VmSize\": null, \"RetainCluster\": false, \"ClusterMaxNodeCount\": null}, \"AISuperComputer\": {\"InstanceType\": \"D2\", \"FrameworkImage\": null, \"ImageVersion\": \"pytorch-1.7.0\", \"Location\": null, \"AISuperComputerStorageData\": null, \"Interactive\": false, \"ScalePolicy\": null, \"VirtualClusterArmId\": null, \"TensorboardLogDirectory\": null, \"SSHPublicKey\": null, \"SSHPublicKeys\": null, \"EnableAzmlInt\": true, \"Priority\": \"Medium\", \"SLATier\": \"Standard\", \"UserAlias\": null}, \"KubernetesCompute\": {\"InstanceType\": null}, \"Tensorflow\": {\"WorkerCount\": 0, \"ParameterServerCount\": 0}, \"Mpi\": {\"ProcessCountPerNode\": 0}, \"PyTorch\": {\"CommunicationBackend\": null, \"ProcessCount\": null}, \"Hdi\": {\"YarnDeployMode\": 0}, \"ContainerInstance\": {\"Region\": null, \"CpuCores\": 2.0, \"MemoryGb\": 3.5}, \"ExposedPorts\": null, \"Docker\": {\"UseDocker\": true, \"SharedVolumes\": null, \"ShmSize\": null, \"Arguments\": null}, \"Cmk8sCompute\": {\"Configuration\": {}}, \"CommandReturnCodeConfig\": {\"ReturnCode\": 0, \"SuccessfulReturnCodes\": []}, \"ApplicationEndpoints\": {}, \"Parameters\": [{\"Name\": \"num_boost_round\", \"Type\": null, \"Value\": \"20\", \"IsOptional\": false}]}, \"SnapshotId\": \"059bbed3-4116-4da3-8b3f-629e1924ba99\", \"Snapshots\": [], \"SourceCodeDataReference\": null, \"ParentRunId\": null, \"DataContainerId\": null, \"RunType\": null, \"DisplayName\": \"9290a448-867f-cc19-df3b-90dfeb28619a\", \"EnvironmentAssetId\": null, \"Properties\": {\"mlflow.source.git.repoURL\": \"https://github.com/Azure/azureml-examples/\", \"mlflow.source.git.branch\": \"danielsc/sdk-preview-demo\", \"mlflow.source.git.commit\": \"ae2e39175a703626b07685181a421ce1922a55eb\", \"azureml.git.dirty\": \"True\"}, \"Tags\": {}, \"AggregatedArtifactPath\": null}}', '_aml_system_resume_child_runs': 'null', '_aml_system_all_jobs_generated': 'false', '_aml_system_cancellation_requested': 'false'}, 'properties': {'primary_metric_config': '{\"name\": \"test-rmse\", \"goal\": \"minimize\"}', 'resume_from': 'null', 'runTemplate': 'HyperDrive', 'azureml.runsource': 'hyperdrive', 'platform': 'AML', 'mlflow.source.git.repoURL': 'https://github.com/Azure/azureml-examples/', 'mlflow.source.git.branch': 'danielsc/sdk-preview-demo', 'mlflow.source.git.commit': 'ae2e39175a703626b07685181a421ce1922a55eb', 'azureml.git.dirty': 'True', 'ContentSnapshotId': '059bbed3-4116-4da3-8b3f-629e1924ba99', 'user_agent': 'managementfrontend/2a72429067f397f2aa1eb8a1ccd8cd6195f31df2'}, 'id': '/subscriptions/15ae9cb6-95c1-483d-a0e3-b1a1a3b06324/resourceGroups/ray/providers/Microsoft.MachineLearningServices/workspaces/ray/jobs/9290a448-867f-cc19-df3b-90dfeb28619a', 'base_path': './', 'creation_context': <azure.ml._restclient.v2022_02_01_preview.models._models_py3.SystemData object at 0x7f4971468310>, 'serialize': <msrest.serialization.Serializer object at 0x7f49716385e0>, 'sampling_algorithm': <azure.ml.entities._job.sweep.sampling_algorithm.RandomSamplingAlgorithm object at 0x7f49781b74f0>, 'early_termination': None, 'limits': <azure.ml.entities._job.job_limits.SweepJobLimits object at 0x7f4971638d60>, 'search_space': {'tree_method': <azure.ml.entities._job.sweep.search_space.Choice object at 0x7f49787b3820>, 'learning_rate': <azure.ml.entities._job.sweep.search_space.Uniform object at 0x7f49787b3940>, 'gamma': <azure.ml.entities._job.sweep.search_space.Choice object at 0x7f49787b3d30>, 'max_depth': <azure.ml.entities._job.sweep.search_space.Choice object at 0x7f49787b3550>}, 'objective': <azure.ml._restclient.v2022_02_01_preview.models._models_py3.Objective object at 0x7f4971468df0>, 'experiment_name': 'e2e-dask-sweep', 'compute': 'daniel-big', 'services': {'Studio': <azure.ml._restclient.v2022_02_01_preview.models._models_py3.JobService object at 0x7f4971468fd0>}, 'inputs': {'nyc_taxi_parquet': {'type': 'uri_folder', 'path': 'azureml://locations/eastus2/workspaces/599c8ff0-b43f-4048-ba22-2073107846af/data/azureml_polite_loquat_c3x4fj4l4m_output_data_output_folder/versions/1', 'mode': 'ro_mount'}, 'num_boost_round': '20'}, 'outputs': {'default': {'type': 'uri_folder', 'mode': 'rw_mount', 'path': 'azureml://datastores/workspaceartifactstore/ExperimentRun/dcid.9290a448-867f-cc19-df3b-90dfeb28619a'}}, 'trial': <azure.ml.entities._job.parameterized_command.ParameterizedCommand object at 0x7f49787b3400>, 'identity': None})"
      ]
     },
     "execution_count": 23,
     "metadata": {},
     "output_type": "execute_result"
    }
   ],
   "source": [
    "ml_client.jobs.create_or_update(sweep_job)"
   ]
  },
  {
   "cell_type": "code",
   "execution_count": null,
   "metadata": {},
   "outputs": [],
   "source": []
  }
 ],
 "metadata": {
  "interpreter": {
   "hash": "6d65a8c07f5b6469e0fc613f182488c0dccce05038bbda39e5ac9075c0454d11"
  },
  "kernelspec": {
   "display_name": "Python 3.8.5 ('azureml_py38')",
   "language": "python",
   "name": "python3"
  },
  "language_info": {
   "codemirror_mode": {
    "name": "ipython",
    "version": 3
   },
   "file_extension": ".py",
   "mimetype": "text/x-python",
   "name": "python",
   "nbconvert_exporter": "python",
   "pygments_lexer": "ipython3",
   "version": "3.8.13"
  },
  "orig_nbformat": 4
 },
 "nbformat": 4,
 "nbformat_minor": 2
}
