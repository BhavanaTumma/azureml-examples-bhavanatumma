{
 "cells": [
  {
   "cell_type": "code",
   "execution_count": 4,
   "metadata": {},
   "outputs": [],
   "source": [
    "from azure.ml import MLClient\n",
    "from azure.identity import DefaultAzureCredential"
   ]
  },
  {
   "cell_type": "code",
   "execution_count": 5,
   "metadata": {},
   "outputs": [],
   "source": [
    "subscription_id = \"15ae9cb6-95c1-483d-a0e3-b1a1a3b06324\"\n",
    "resource_group = \"ray\"\n",
    "workspace = \"ray\"\n",
    "\n",
    "ml_client = MLClient(DefaultAzureCredential(), subscription_id, resource_group, workspace)"
   ]
  },
  {
   "cell_type": "markdown",
   "metadata": {},
   "source": [
    "## Command Job"
   ]
  },
  {
   "cell_type": "code",
   "execution_count": 21,
   "metadata": {},
   "outputs": [],
   "source": [
    "from azure.ml import command, Input, Output, PyTorchDistribution\n",
    "from azure.ml.entities import ResourceConfiguration, Environment \n",
    "prep = command(\n",
    "  code='src',\n",
    "  command=\n",
    "    \"python startDask.py \"\n",
    "    \"--script prep-nyctaxi.py \"\n",
    "    \"--nyc_taxi_dataset ${{inputs.nyc_taxi_dataset}} \"\n",
    "    \"--output_folder ${{outputs.output_folder}}\",\n",
    "  inputs={\n",
    "    'nyc_taxi_dataset': Input(\n",
    "        path= 'wasbs://datasets@azuremlexamples.blob.core.windows.net/nyctaxi/',\n",
    "        mode= 'ro_mount')},\n",
    "  outputs={\n",
    "    'output_folder':Output(\n",
    "      type= 'uri_folder')},\n",
    "  environment=Environment( \n",
    "    image= 'mcr.microsoft.com/azureml/openmpi4.1.0-ubuntu20.04',\n",
    "    conda_file= 'conda.yml'),\n",
    "  compute= 'daniel-big',\n",
    "  resources=ResourceConfiguration(instance_count= 4),\n",
    "  distribution=PyTorchDistribution(),\n",
    "  experiment_name= 'dask-nyctaxi-pipeline-example',\n",
    "  description= 'This sample shows how to run a distributed DASK job on AzureML. The 24GB NYC Taxi dataset is read in CSV format by a 4 node DASK cluster, processed and then written as job output in parquet format.'\n",
    ")"
   ]
  },
  {
   "cell_type": "code",
   "execution_count": 22,
   "metadata": {},
   "outputs": [
    {
     "data": {
      "text/html": [
       "<table style=\"width:100%\"><tr><th>Experiment</th><th>Name</th><th>Type</th><th>Status</th><th>Details Page</th></tr><tr><td>dask-nyctaxi-pipeline-example</td><td>jovial_oregano_6lvd1jv4gd</td><td>command</td><td>Starting</td><td><a href=\"https://ml.azure.com/runs/jovial_oregano_6lvd1jv4gd?wsid=/subscriptions/15ae9cb6-95c1-483d-a0e3-b1a1a3b06324/resourcegroups/ray/workspaces/ray&amp;tid=72f988bf-86f1-41af-91ab-2d7cd011db47\" target=\"_blank\" rel=\"noopener\">Link to Azure Machine Learning studio</a></td></tr></table>"
      ],
      "text/plain": [
       "CommandJob({'parameters': {}, 'display_name': 'jovial_oregano_6lvd1jv4gd', 'type': 'command', 'status': 'Starting', 'log_files': None, 'name': 'jovial_oregano_6lvd1jv4gd', 'description': 'This sample shows how to run a distributed DASK job on AzureML. The 24GB NYC Taxi dataset is read in CSV format by a 4 node DASK cluster, processed and then written as job output in parquet format.', 'tags': {}, 'properties': {'mlflow.source.git.repoURL': 'https://github.com/Azure/azureml-examples', 'mlflow.source.git.branch': 'sdk-preview', 'mlflow.source.git.commit': 'c262de2117fe127a85b3179181feee57db8968b4', 'azureml.git.dirty': 'True', '_azureml.ComputeTargetType': 'amlctrain', 'ContentSnapshotId': '57afd767-c574-4d88-85ea-96516f874a12'}, 'id': '/subscriptions/15ae9cb6-95c1-483d-a0e3-b1a1a3b06324/resourceGroups/ray/providers/Microsoft.MachineLearningServices/workspaces/ray/jobs/jovial_oregano_6lvd1jv4gd', 'base_path': './', 'creation_context': <azure.ml._restclient.v2022_02_01_preview.models._models_py3.SystemData object at 0x7fcb39ebdfd0>, 'serialize': <msrest.serialization.Serializer object at 0x7fcb39ebde20>, 'command': 'python startDask.py --script prep-nyctaxi.py --nyc_taxi_dataset ${{inputs.nyc_taxi_dataset}} --output_folder ${{outputs.output_folder}}', 'code': '/subscriptions/15ae9cb6-95c1-483d-a0e3-b1a1a3b06324/resourceGroups/ray/providers/Microsoft.MachineLearningServices/workspaces/ray/codes/7a641998-5135-4b12-8506-19e63ed690cb/versions/1', 'environment_variables': {}, 'environment': 'CliV2AnonymousEnvironment:7752a31ab24bdbc290d59ef29b7fcc72', 'distribution': <azure.ml.entities._job.distribution.PyTorchDistribution object at 0x7fcb39e98520>, 'resources': {'instance_count': 4, 'properties': {}}, 'experiment_name': 'dask-nyctaxi-pipeline-example', 'compute': 'daniel-big', 'services': {'Tracking': <azure.ml._restclient.v2022_02_01_preview.models._models_py3.JobService object at 0x7fcb39ebd280>, 'Studio': <azure.ml._restclient.v2022_02_01_preview.models._models_py3.JobService object at 0x7fcb39ebd670>}, 'outputs': {'output_folder': {'type': 'uri_file', 'mode': 'rw_mount'}, 'default': {'type': 'uri_folder', 'mode': 'rw_mount', 'path': 'azureml://datastores/workspaceartifactstore/ExperimentRun/dcid.jovial_oregano_6lvd1jv4gd'}}, 'inputs': {'nyc_taxi_dataset': {'type': 'uri_folder', 'path': 'wasbs://datasets@azuremlexamples.blob.core.windows.net/nyctaxi/', 'mode': 'ro_mount'}}, 'limits': None, 'identity': None})"
      ]
     },
     "execution_count": 22,
     "metadata": {},
     "output_type": "execute_result"
    }
   ],
   "source": [
    "prep_submitted = ml_client.jobs.create_or_update(prep)\n",
    "prep_submitted"
   ]
  },
  {
   "cell_type": "code",
   "execution_count": 23,
   "metadata": {},
   "outputs": [],
   "source": [
    "train = command(\n",
    "  code= 'src',\n",
    "  command=\n",
    "    \"python train-xgboost.py \"\n",
    "    \"--nyc_taxi_parquet ${{inputs.nyc_taxi_parquet}} \"\n",
    "    \"--model ${{outputs.model}} \"\n",
    "    \"--tree_method ${{inputs.tree_method}} \"\n",
    "    \"--learning_rate ${{inputs.learning_rate}} \"\n",
    "    \"--gamma ${{inputs.gamma}} \"\n",
    "    \"--max_depth ${{inputs.max_depth}} \"\n",
    "    \"--num_boost_round ${{inputs.num_boost_round}} \",\n",
    "  inputs={\n",
    "    \"nyc_taxi_parquet\": Input(\n",
    "      path='azureml:azureml_polite_loquat_c3x4fj4l4m_output_data_output_folder:1',\n",
    "      mode='ro_mount'),\n",
    "    \"tree_method\": \"auto\",\n",
    "    \"learning_rate\": 0.3,\n",
    "    \"gamma\": 1,\n",
    "    \"max_depth\": 7,\n",
    "    \"num_boost_round\": 20,\n",
    "  },\n",
    "  outputs={\n",
    "    \"model\": Output(type='mlflow_model')\n",
    "  },\n",
    "  environment=Environment(\n",
    "    image= \"mcr.microsoft.com/azureml/openmpi4.1.0-ubuntu20.04\",\n",
    "    conda_file= \"conda.yml\"),\n",
    "  compute= \"daniel-big\",\n",
    "  experiment_name= \"dask-nyctaxi-example\"\n",
    ")"
   ]
  },
  {
   "cell_type": "code",
   "execution_count": 24,
   "metadata": {},
   "outputs": [
    {
     "data": {
      "text/html": [
       "<table style=\"width:100%\"><tr><th>Experiment</th><th>Name</th><th>Type</th><th>Status</th><th>Details Page</th></tr><tr><td>dask-nyctaxi-example</td><td>gentle_muscle_3hznn2h0yd</td><td>command</td><td>Starting</td><td><a href=\"https://ml.azure.com/runs/gentle_muscle_3hznn2h0yd?wsid=/subscriptions/15ae9cb6-95c1-483d-a0e3-b1a1a3b06324/resourcegroups/ray/workspaces/ray&amp;tid=72f988bf-86f1-41af-91ab-2d7cd011db47\" target=\"_blank\" rel=\"noopener\">Link to Azure Machine Learning studio</a></td></tr></table>"
      ],
      "text/plain": [
       "CommandJob({'parameters': {}, 'display_name': 'gentle_muscle_3hznn2h0yd', 'type': 'command', 'status': 'Starting', 'log_files': None, 'name': 'gentle_muscle_3hznn2h0yd', 'description': None, 'tags': {}, 'properties': {'mlflow.source.git.repoURL': 'https://github.com/Azure/azureml-examples', 'mlflow.source.git.branch': 'sdk-preview', 'mlflow.source.git.commit': 'c262de2117fe127a85b3179181feee57db8968b4', 'azureml.git.dirty': 'True', '_azureml.ComputeTargetType': 'amlctrain', 'ContentSnapshotId': '57afd767-c574-4d88-85ea-96516f874a12'}, 'id': '/subscriptions/15ae9cb6-95c1-483d-a0e3-b1a1a3b06324/resourceGroups/ray/providers/Microsoft.MachineLearningServices/workspaces/ray/jobs/gentle_muscle_3hznn2h0yd', 'base_path': './', 'creation_context': <azure.ml._restclient.v2022_02_01_preview.models._models_py3.SystemData object at 0x7fcb39e38ee0>, 'serialize': <msrest.serialization.Serializer object at 0x7fcb39e4cee0>, 'command': 'python train-xgboost.py --nyc_taxi_parquet ${{inputs.nyc_taxi_parquet}} --model ${{outputs.model}} --tree_method ${{inputs.tree_method}} --learning_rate ${{inputs.learning_rate}} --gamma ${{inputs.gamma}} --max_depth ${{inputs.max_depth}} --num_boost_round ${{inputs.num_boost_round}} ', 'code': '/subscriptions/15ae9cb6-95c1-483d-a0e3-b1a1a3b06324/resourceGroups/ray/providers/Microsoft.MachineLearningServices/workspaces/ray/codes/7a641998-5135-4b12-8506-19e63ed690cb/versions/1', 'environment_variables': {}, 'environment': 'CliV2AnonymousEnvironment:7752a31ab24bdbc290d59ef29b7fcc72', 'distribution': None, 'resources': {'instance_count': 1, 'properties': {}}, 'experiment_name': 'dask-nyctaxi-example', 'compute': 'daniel-big', 'services': {'Tracking': <azure.ml._restclient.v2022_02_01_preview.models._models_py3.JobService object at 0x7fcb39e38c70>, 'Studio': <azure.ml._restclient.v2022_02_01_preview.models._models_py3.JobService object at 0x7fcb39e38970>}, 'outputs': {'model': {'type': 'mlflow_model', 'mode': 'rw_mount'}, 'default': {'type': 'uri_folder', 'mode': 'rw_mount', 'path': 'azureml://datastores/workspaceartifactstore/ExperimentRun/dcid.gentle_muscle_3hznn2h0yd'}}, 'inputs': {'nyc_taxi_parquet': {'type': 'uri_folder', 'path': 'azureml_polite_loquat_c3x4fj4l4m_output_data_output_folder:1', 'mode': 'ro_mount'}, 'tree_method': 'auto', 'learning_rate': '0.3', 'gamma': '1', 'max_depth': '7', 'num_boost_round': '20'}, 'limits': None, 'identity': None})"
      ]
     },
     "execution_count": 24,
     "metadata": {},
     "output_type": "execute_result"
    }
   ],
   "source": [
    "train_submitted = ml_client.jobs.create_or_update(train)\n",
    "train_submitted"
   ]
  },
  {
   "cell_type": "markdown",
   "metadata": {},
   "source": [
    "## Pipeline Job"
   ]
  },
  {
   "cell_type": "code",
   "execution_count": 26,
   "metadata": {},
   "outputs": [],
   "source": [
    "from azure.ml.dsl import pipeline\n",
    "\n",
    "@pipeline()\n",
    "def prep_and_train(dataset: Input):\n",
    "  prep_job = prep(nyc_taxi_dataset=dataset)\n",
    "  train_node = train( nyc_taxi_parquet=prep_job.outputs.output_folder,\n",
    "                      tree_method='auto',\n",
    "                      learning_rate= 0.3,\n",
    "                      gamma= 1,\n",
    "                      max_depth= 7,\n",
    "                      num_boost_round= 12)\n",
    "  return dict(model=train_node.outputs.model)"
   ]
  },
  {
   "cell_type": "code",
   "execution_count": 29,
   "metadata": {},
   "outputs": [
    {
     "data": {
      "text/html": [
       "<table style=\"width:100%\"><tr><th>Experiment</th><th>Name</th><th>Type</th><th>Status</th><th>Details Page</th></tr><tr><td>nyctaxi</td><td>bold_hook_yc7szz0mjw</td><td>pipeline</td><td>Preparing</td><td><a href=\"https://ml.azure.com/runs/bold_hook_yc7szz0mjw?wsid=/subscriptions/15ae9cb6-95c1-483d-a0e3-b1a1a3b06324/resourcegroups/ray/workspaces/ray&amp;tid=72f988bf-86f1-41af-91ab-2d7cd011db47\" target=\"_blank\" rel=\"noopener\">Link to Azure Machine Learning studio</a></td></tr></table>"
      ],
      "text/plain": [
       "PipelineJob({'inputs': {'dataset': <azure.ml.entities._job.pipeline._io.PipelineInput object at 0x7fcb39ebf490>}, 'outputs': {'model': <azure.ml.entities._job.pipeline._io.PipelineOutput object at 0x7fcb3b95d460>}, 'component': _PipelineComponent({'components': {}, 'auto_increment_version': False, 'is_anonymous': True, 'name': '0c405ab9-76d5-44af-b2d1-161c6538d484', 'description': None, 'tags': {}, 'properties': {}, 'id': None, 'base_path': None, 'creation_context': None, 'serialize': <msrest.serialization.Serializer object at 0x7fcb3b95d7f0>, 'version': '1', 'latest_version': None, 'schema': None, 'type': 'pipeline_component', 'display_name': None, 'is_deterministic': True, 'inputs': {}, 'outputs': {}, 'yaml_str': None, 'other_parameter': {}, 'func': <function [component] None at 0x7fcb39df18b0>}), 'display_name': 'bold_hook_yc7szz0mjw', 'type': 'pipeline', 'status': 'Preparing', 'log_files': None, 'name': 'bold_hook_yc7szz0mjw', 'description': None, 'tags': {}, 'properties': {'mlflow.source.git.repoURL': 'https://github.com/Azure/azureml-examples', 'mlflow.source.git.branch': 'sdk-preview', 'mlflow.source.git.commit': 'c262de2117fe127a85b3179181feee57db8968b4', 'azureml.git.dirty': 'True', 'azureml.runsource': 'azureml.PipelineRun', 'runSource': 'SDKv2', 'runType': 'HTTP', 'azureml.parameters': '{}', 'azureml.continue_on_step_failure': 'False', 'azureml.enforceRerun': 'False', 'azureml.pipelineComponent': 'pipelinerun'}, 'id': '/subscriptions/15ae9cb6-95c1-483d-a0e3-b1a1a3b06324/resourceGroups/ray/providers/Microsoft.MachineLearningServices/workspaces/ray/jobs/bold_hook_yc7szz0mjw', 'base_path': './', 'creation_context': <azure.ml._restclient.v2022_02_01_preview.models._models_py3.SystemData object at 0x7fcb39ebf640>, 'serialize': <msrest.serialization.Serializer object at 0x7fcb39e98af0>, 'experiment_name': 'nyctaxi', 'compute': None, 'services': {'Tracking': <azure.ml._restclient.v2022_02_01_preview.models._models_py3.JobService object at 0x7fcb39ebf370>, 'Studio': <azure.ml._restclient.v2022_02_01_preview.models._models_py3.JobService object at 0x7fcb39ebfa00>}, 'jobs': {'prep_job': {'code': {}, 'command': {}}, 'train_node': {'code': {}, 'command': {}}}, 'settings': <azure.ml.entities._job.pipeline.pipeline_job_settings.PipelineJobSettings object at 0x7fcb39e4ffa0>, 'identity': None, 'default_code': None, 'default_environment': None})"
      ]
     },
     "execution_count": 29,
     "metadata": {},
     "output_type": "execute_result"
    }
   ],
   "source": [
    "nyc_raw_data = Input(path= 'wasbs://datasets@azuremlexamples.blob.core.windows.net/nyctaxi/')\n",
    "\n",
    "pipeline_job = prep_and_train(dataset=nyc_raw_data)\n",
    "\n",
    "ml_client.jobs.create_or_update(pipeline_job)"
   ]
  },
  {
   "cell_type": "markdown",
   "metadata": {},
   "source": [
    "## Sweep Job"
   ]
  },
  {
   "cell_type": "code",
   "execution_count": 38,
   "metadata": {},
   "outputs": [],
   "source": [
    "from azure.ml.sweep import Choice, Uniform, LogUniform\n",
    "nyc_taxi_processed = Input(path='azureml:azureml_polite_loquat_c3x4fj4l4m_output_data_output_folder:1')\n",
    "train_job = train(tree_method=Choice(['auto', 'exact', 'approx', 'hist']),\n",
    "                  learning_rate=Uniform(0, 1),\n",
    "                  gamma= Choice(range(7)),\n",
    "                  max_depth= Choice(range(4,8)),\n",
    "                  num_boost_round= 20,\n",
    "                  nyc_taxi_parquet=nyc_taxi_processed)"
   ]
  },
  {
   "cell_type": "code",
   "execution_count": 41,
   "metadata": {},
   "outputs": [],
   "source": [
    "from azure.ml.sweep import BayesianSamplingAlgorithm\n",
    "\n",
    "sweep_job = train_job.sweep(primary_metric='test-rmse',\n",
    "                            goal='minimize',\n",
    "                            sampling_algorithm=BayesianSamplingAlgorithm(),\n",
    "                            compute='daniel-big')\n",
    "\n",
    "sweep_job.set_limits(max_concurrent_trials=5,\n",
    "                     max_total_trials=25)\n",
    "\n",
    "sweep_job.name=None"
   ]
  },
  {
   "cell_type": "code",
   "execution_count": 42,
   "metadata": {},
   "outputs": [
    {
     "data": {
      "text/html": [
       "<table style=\"width:100%\"><tr><th>Experiment</th><th>Name</th><th>Type</th><th>Status</th><th>Details Page</th></tr><tr><td>nyctaxi</td><td>bright_grape_l8ycb35m8g</td><td>sweep</td><td>Running</td><td><a href=\"https://ml.azure.com/runs/bright_grape_l8ycb35m8g?wsid=/subscriptions/15ae9cb6-95c1-483d-a0e3-b1a1a3b06324/resourcegroups/ray/workspaces/ray&amp;tid=72f988bf-86f1-41af-91ab-2d7cd011db47\" target=\"_blank\" rel=\"noopener\">Link to Azure Machine Learning studio</a></td></tr></table>"
      ],
      "text/plain": [
       "SweepJob({'display_name': 'bright_grape_l8ycb35m8g', 'type': 'sweep', 'status': 'Running', 'log_files': None, 'name': 'bright_grape_l8ycb35m8g', 'description': None, 'tags': {'_aml_system_max_concurrent_jobs': '5', '_aml_system_max_total_jobs': '25', '_aml_system_max_duration_minutes': '86400', '_aml_system_policy_config': '{\"name\": \"DEFAULT\", \"properties\": {}}', '_aml_system_generator_config': '{\"name\": \"BAYESIANOPTIMIZATION\", \"properties\": {}, \"parameter_space\": {\"tree_method\": [\"choice\", [[\"auto\", \"exact\", \"approx\", \"hist\"]]], \"learning_rate\": [\"uniform\", [0, 1]], \"gamma\": [\"choice\", [[0, 1, 2, 3, 4, 5, 6]]], \"max_depth\": [\"choice\", [[4, 5, 6, 7]]]}}', '_aml_system_primary_metric_config': '{\"name\": \"test-rmse\", \"goal\": \"minimize\"}', '_aml_system_platform_config': '{\"ServiceAddress\": \"https://eastus2.api.azureml.ms\", \"SubscriptionId\": \"15ae9cb6-95c1-483d-a0e3-b1a1a3b06324\", \"ResourceGroupName\": \"ray\", \"WorkspaceName\": \"ray\", \"ExperimentName\": \"nyctaxi\", \"Definition\": {\"Configuration\": null, \"Attribution\": null, \"TelemetryValues\": null, \"Overrides\": {\"Script\": null, \"Command\": \"python train-xgboost.py --nyc_taxi_parquet ${{inputs.nyc_taxi_parquet}} --model ${{outputs.model}} --tree_method ${{search_space.tree_method}} --learning_rate ${{search_space.learning_rate}} --gamma ${{search_space.gamma}} --max_depth ${{search_space.max_depth}} --num_boost_round ${{inputs.num_boost_round}} \", \"UseAbsolutePath\": true, \"Arguments\": [], \"SourceDirectoryDataStore\": null, \"Framework\": 0, \"Target\": \"daniel-big\", \"DataReferences\": {}, \"Data\": {\"nyc_taxi_parquet\": {\"DataLocation\": {\"Dataset\": null, \"DataPath\": null, \"Uri\": {\"Path\": \"/subscriptions/15ae9cb6-95c1-483d-a0e3-b1a1a3b06324/resourceGroups/ray/providers/Microsoft.MachineLearningServices/workspaces/ray/data/azureml_polite_loquat_c3x4fj4l4m_output_data_output_folder/versions/1\", \"IsFile\": false}, \"Type\": \"UriFolder\"}, \"Mechanism\": \"Mount\", \"EnvironmentVariableName\": \"AZURE_ML_INPUT_nyc_taxi_parquet\", \"PathOnCompute\": null, \"Overwrite\": false, \"Options\": {\"IsEvalMode\": \"False\", \"ReadWrite\": \"False\", \"ForceFolder\": \"False\"}}}, \"InputAssets\": {\"nyc_taxi_parquet\": {\"Asset\": {\"AssetId\": \"azureml://locations/eastus2/workspaces/599c8ff0-b43f-4048-ba22-2073107846af/data/azureml_polite_loquat_c3x4fj4l4m_output_data_output_folder/versions/1\", \"Type\": \"UriFolder\"}, \"Mechanism\": \"Mount\", \"EnvironmentVariableName\": \"AZURE_ML_INPUT_nyc_taxi_parquet\", \"PathOnCompute\": null, \"Overwrite\": false, \"Options\": {\"IsEvalMode\": \"False\", \"ReadWrite\": \"False\", \"ForceFolder\": \"False\"}}}, \"OutputData\": {}, \"Datacaches\": [], \"JobName\": null, \"MaxRunDurationSeconds\": null, \"NodeCount\": 1, \"InstanceTypes\": [], \"Priority\": null, \"CredentialPassthrough\": false, \"Identity\": null, \"Environment\": {\"Name\": \"CliV2AnonymousEnvironment\", \"Version\": \"7752a31ab24bdbc290d59ef29b7fcc72\", \"AssetId\": \"azureml://locations/eastus2/workspaces/599c8ff0-b43f-4048-ba22-2073107846af/environments/CliV2AnonymousEnvironment/versions/7752a31ab24bdbc290d59ef29b7fcc72\", \"Python\": {\"InterpreterPath\": null, \"UserManagedDependencies\": false, \"CondaDependencies\": {\"channels\": [\"defaults\", \"conda-forge\"], \"dependencies\": [\"python=3.8\", \"dask==2022.2.1\", \"distributed==2022.2.1\", \"pip==21.3.1\", \"jupyterlab\", \"jupyter-server-proxy\", {\"pip\": [\"fastparquet==0.8.0\", \"fsspec==2022.2.0\", \"tabulate==0.8.9\", \"azureml-mlflow\", \"xgboost==1.6.0\"]}], \"name\": \"dask\"}, \"BaseCondaEnvironment\": null}, \"EnvironmentVariables\": {}, \"Docker\": {\"BaseImage\": \"mcr.microsoft.com/azureml/openmpi4.1.0-ubuntu20.04\", \"Platform\": {\"Os\": \"Linux\", \"Architecture\": \"amd64\"}, \"BaseDockerfile\": null, \"BaseImageRegistry\": null}, \"Spark\": {\"Repositories\": [], \"Packages\": [], \"PrecachePackages\": true}, \"InferencingStackVersion\": null}, \"History\": {\"OutputCollection\": true, \"DirectoriesToWatch\": [\"logs\"], \"EnableMLflowTracking\": true}, \"Spark\": {\"Configuration\": {}}, \"ParallelTask\": {\"MaxRetriesPerWorker\": 0, \"WorkerCountPerNode\": 1, \"TerminalExitCodes\": null, \"Configuration\": {}}, \"BatchAi\": {\"NodeCount\": 0}, \"AmlCompute\": {\"Name\": null, \"VmSize\": null, \"RetainCluster\": false, \"ClusterMaxNodeCount\": null}, \"AISuperComputer\": {\"InstanceType\": \"D2\", \"FrameworkImage\": null, \"ImageVersion\": \"pytorch-1.7.0\", \"Location\": null, \"AISuperComputerStorageData\": null, \"Interactive\": false, \"ScalePolicy\": null, \"VirtualClusterArmId\": null, \"TensorboardLogDirectory\": null, \"SSHPublicKey\": null, \"SSHPublicKeys\": null, \"EnableAzmlInt\": true, \"Priority\": \"Medium\", \"SLATier\": \"Standard\", \"UserAlias\": null}, \"KubernetesCompute\": {\"InstanceType\": null}, \"Tensorflow\": {\"WorkerCount\": 0, \"ParameterServerCount\": 0}, \"Mpi\": {\"ProcessCountPerNode\": 0}, \"PyTorch\": {\"CommunicationBackend\": null, \"ProcessCount\": null}, \"Hdi\": {\"YarnDeployMode\": 0}, \"ContainerInstance\": {\"Region\": null, \"CpuCores\": 2.0, \"MemoryGb\": 3.5}, \"ExposedPorts\": null, \"Docker\": {\"UseDocker\": true, \"SharedVolumes\": null, \"ShmSize\": null, \"Arguments\": null}, \"Cmk8sCompute\": {\"Configuration\": {}}, \"CommandReturnCodeConfig\": {\"ReturnCode\": 0, \"SuccessfulReturnCodes\": []}, \"ApplicationEndpoints\": {}, \"Parameters\": [{\"Name\": \"num_boost_round\", \"Type\": null, \"Value\": \"20\", \"IsOptional\": false}]}, \"SnapshotId\": \"57afd767-c574-4d88-85ea-96516f874a12\", \"Snapshots\": [], \"SourceCodeDataReference\": null, \"ParentRunId\": null, \"DataContainerId\": null, \"RunType\": null, \"DisplayName\": \"bright_grape_l8ycb35m8g\", \"EnvironmentAssetId\": null, \"Properties\": {\"mlflow.source.git.repoURL\": \"https://github.com/Azure/azureml-examples\", \"mlflow.source.git.branch\": \"sdk-preview\", \"mlflow.source.git.commit\": \"c262de2117fe127a85b3179181feee57db8968b4\", \"azureml.git.dirty\": \"True\"}, \"Tags\": {}, \"AggregatedArtifactPath\": null}}', '_aml_system_resume_child_runs': 'null', '_aml_system_all_jobs_generated': 'false', '_aml_system_cancellation_requested': 'false'}, 'properties': {'primary_metric_config': '{\"name\": \"test-rmse\", \"goal\": \"minimize\"}', 'resume_from': 'null', 'runTemplate': 'HyperDrive', 'azureml.runsource': 'hyperdrive', 'platform': 'AML', 'mlflow.source.git.repoURL': 'https://github.com/Azure/azureml-examples', 'mlflow.source.git.branch': 'sdk-preview', 'mlflow.source.git.commit': 'c262de2117fe127a85b3179181feee57db8968b4', 'azureml.git.dirty': 'True', 'ContentSnapshotId': '57afd767-c574-4d88-85ea-96516f874a12', 'user_agent': 'managementfrontend/2a72429067f397f2aa1eb8a1ccd8cd6195f31df2'}, 'id': '/subscriptions/15ae9cb6-95c1-483d-a0e3-b1a1a3b06324/resourceGroups/ray/providers/Microsoft.MachineLearningServices/workspaces/ray/jobs/bright_grape_l8ycb35m8g', 'base_path': './', 'creation_context': <azure.ml._restclient.v2022_02_01_preview.models._models_py3.SystemData object at 0x7fcb39dac0a0>, 'serialize': <msrest.serialization.Serializer object at 0x7fcb39dac160>, 'sampling_algorithm': <azure.ml.entities._job.sweep.sampling_algorithm.RandomSamplingAlgorithm object at 0x7fcb39ebf3a0>, 'early_termination': None, 'limits': <azure.ml.entities._job.job_limits.SweepJobLimits object at 0x7fcb39d31910>, 'search_space': {'tree_method': <azure.ml.entities._job.sweep.search_space.Choice object at 0x7fcb39ebf100>, 'learning_rate': <azure.ml.entities._job.sweep.search_space.Uniform object at 0x7fcb39ebfca0>, 'gamma': <azure.ml.entities._job.sweep.search_space.Choice object at 0x7fcb39ebf8e0>, 'max_depth': <azure.ml.entities._job.sweep.search_space.Choice object at 0x7fcb39ebf400>}, 'objective': <azure.ml._restclient.v2022_02_01_preview.models._models_py3.Objective object at 0x7fcb39dac340>, 'experiment_name': 'nyctaxi', 'compute': 'daniel-big', 'services': {'Studio': <azure.ml._restclient.v2022_02_01_preview.models._models_py3.JobService object at 0x7fcb39dac1c0>}, 'inputs': {'nyc_taxi_parquet': {'type': 'uri_folder', 'path': 'azureml://locations/eastus2/workspaces/599c8ff0-b43f-4048-ba22-2073107846af/data/azureml_polite_loquat_c3x4fj4l4m_output_data_output_folder/versions/1', 'mode': 'ro_mount'}, 'num_boost_round': '20'}, 'outputs': {'default': {'type': 'uri_folder', 'mode': 'rw_mount', 'path': 'azureml://datastores/workspaceartifactstore/ExperimentRun/dcid.bright_grape_l8ycb35m8g'}}, 'trial': <azure.ml.entities._job.parameterized_command.ParameterizedCommand object at 0x7fcb39ebf790>, 'identity': None})"
      ]
     },
     "execution_count": 42,
     "metadata": {},
     "output_type": "execute_result"
    }
   ],
   "source": [
    "ml_client.jobs.create_or_update(sweep_job)"
   ]
  },
  {
   "cell_type": "code",
   "execution_count": null,
   "metadata": {},
   "outputs": [],
   "source": []
  }
 ],
 "metadata": {
  "interpreter": {
   "hash": "6d65a8c07f5b6469e0fc613f182488c0dccce05038bbda39e5ac9075c0454d11"
  },
  "kernelspec": {
   "display_name": "Python 3.8.5 ('azureml_py38')",
   "language": "python",
   "name": "python3"
  },
  "language_info": {
   "codemirror_mode": {
    "name": "ipython",
    "version": 3
   },
   "file_extension": ".py",
   "mimetype": "text/x-python",
   "name": "python",
   "nbconvert_exporter": "python",
   "pygments_lexer": "ipython3",
   "version": "3.8.5"
  },
  "orig_nbformat": 4
 },
 "nbformat": 4,
 "nbformat_minor": 2
}
