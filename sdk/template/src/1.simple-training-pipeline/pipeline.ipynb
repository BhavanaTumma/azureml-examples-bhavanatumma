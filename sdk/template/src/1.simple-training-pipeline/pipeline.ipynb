{
 "cells": [
  {
   "cell_type": "code",
   "execution_count": null,
   "metadata": {},
   "outputs": [],
   "source": [
    "#import required libraries\n",
    "from azure.ml import dsl"
   ]
  },
  {
   "cell_type": "code",
   "execution_count": 56,
   "metadata": {},
   "outputs": [
    {
     "name": "stdout",
     "output_type": "stream",
     "text": [
      "The autoreload extension is already loaded. To reload it, use:\n",
      "  %reload_ext autoreload\n"
     ]
    }
   ],
   "source": [
    "%load_ext autoreload\n",
    "%autoreload 2\n",
    "\n",
    "from components.prep import data_prep_component\n",
    "from components.split_data import split_data_component\n",
    "from components.train import train_component\n",
    "from components.score import score_component\n",
    "from components.eval import eval_component"
   ]
  },
  {
   "cell_type": "code",
   "execution_count": null,
   "metadata": {},
   "outputs": [],
   "source": [
    "# define a pipeline with dsl component\n",
    "@dsl.pipeline(\n",
    "    name='A-training-pipeline',\n",
    "    description='train model and evaluate model perf',\n",
    ")\n",
    "def training_pipeline_func(\n",
    "    input_data,\n",
    "    feature_list: str,\n",
    "    label_col: str,\n",
    "    learning_rate: float,\n",
    "    n_estimators: int,\n",
    "    test_size: float = 0.3,\n",
    "    random_state: int = 42\n",
    "    ):\n",
    "    \n",
    "    prep = data_prep_component(\n",
    "        data_source=input_data\n",
    "    )\n",
    "\n",
    "    split = split_data_component(\n",
    "        data_cooked=prep.outputs.data_cooked,\n",
    "        test_size=test_size,\n",
    "        random_state=random_state\n",
    "    )\n",
    "\n",
    "    train = train_component(\n",
    "        train_data=split.outputs.data_train,\n",
    "        feature_list=feature_list,\n",
    "        label_col=label_col,\n",
    "        learning_rate=learning_rate,\n",
    "        n_estimators=n_estimators\n",
    "    )\n",
    "\n",
    "    score = score_component(\n",
    "        test_data=split.outputs.data_test,\n",
    "        model_input=train.outputs.model_output,\n",
    "        feature_list=feature_list\n",
    "    )\n",
    "    \n",
    "    eval = eval_component(\n",
    "        scored_data=score.outputs.scored_data,\n",
    "        label_col=label_col\n",
    "    )\n",
    "    return {\n",
    "        'data_output': eval.outputs.eval_result,\n",
    "    }\n"
   ]
  }
 ],
 "metadata": {
  "interpreter": {
   "hash": "73fd51decc1ae92df3da9897df9ae97b17b7e7ced507a7d36699edc653c71dc2"
  },
  "kernelspec": {
   "display_name": "Python 3.8.10 64-bit",
   "language": "python",
   "name": "python3"
  },
  "language_info": {
   "codemirror_mode": {
    "name": "ipython",
    "version": 3
   },
   "file_extension": ".py",
   "mimetype": "text/x-python",
   "name": "python",
   "nbconvert_exporter": "python",
   "pygments_lexer": "ipython3",
   "version": "3.8.10"
  },
  "orig_nbformat": 4
 },
 "nbformat": 4,
 "nbformat_minor": 2
}
