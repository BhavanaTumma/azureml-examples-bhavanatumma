{
 "cells": [
  {
   "cell_type": "code",
   "execution_count": 1,
   "metadata": {},
   "outputs": [],
   "source": [
    "from os import makedirs\n",
    "from os import path\n",
    "import json"
   ]
  },
  {
   "cell_type": "code",
   "execution_count": 2,
   "metadata": {},
   "outputs": [],
   "source": [
    "tmp_data_folder = \"./sample-data/output/\"\n",
    "\n",
    "if not path.exists(tmp_data_folder):\n",
    "    makedirs(tmp_data_folder)\n",
    "\n",
    "with open(\"./ml_config.json\", \"r\") as read_file:\n",
    "    config = json.load(read_file)\n",
    "\n",
    "# Pipeline inputs\n",
    "data_input_uri = config[\"pipeline_inputs\"][\"input_data\"]\n",
    "feature_list = config[\"pipeline_inputs\"][\"feature_list\"]\n",
    "label_col = config[\"pipeline_inputs\"][\"label_col\"]\n",
    "learning_rate = config[\"pipeline_inputs\"][\"learning_rate\"]\n",
    "n_estimators = config[\"pipeline_inputs\"][\"n_estimators\"]\n",
    "test_size = config[\"pipeline_inputs\"][\"test_size\"]\n",
    "random_state = config[\"pipeline_inputs\"][\"random_state\"]"
   ]
  },
  {
   "cell_type": "code",
   "execution_count": 3,
   "metadata": {},
   "outputs": [
    {
     "name": "stderr",
     "output_type": "stream",
     "text": [
      "Warning: the provided asset name 'CliV2AnonymousEnvironment' will not be used for anonymous registration\n",
      "Warning: the provided asset name 'CliV2AnonymousEnvironment' will not be used for anonymous registration\n",
      "Warning: the provided asset name 'CliV2AnonymousEnvironment' will not be used for anonymous registration\n",
      "Warning: the provided asset name 'CliV2AnonymousEnvironment' will not be used for anonymous registration\n",
      "Warning: the provided asset name 'CliV2AnonymousEnvironment' will not be used for anonymous registration\n"
     ]
    }
   ],
   "source": [
    "# Load component\n",
    "%load_ext autoreload\n",
    "%autoreload 2\n",
    "\n",
    "from components.prep import data_prep_func\n",
    "from components.split_data import split_data_func\n",
    "from components.train import train_func\n",
    "from components.score import score_func\n",
    "from components.eval import eval_func\n"
   ]
  },
  {
   "cell_type": "code",
   "execution_count": 4,
   "metadata": {},
   "outputs": [],
   "source": [
    "data_prep_func(\n",
    "    data_source = \"./sample-data/nyc-taxi-data.csv\",\n",
    "    data_cooked = tmp_data_folder,\n",
    ")\n",
    "\n",
    "split_data_func(\n",
    "    data_cooked = tmp_data_folder,\n",
    "    test_size = test_size,\n",
    "    random_state = random_state,\n",
    "    data_train = tmp_data_folder,\n",
    "    data_test= tmp_data_folder\n",
    ")\n",
    "\n",
    "train_func(\n",
    "    train_data=tmp_data_folder,\n",
    "    feature_list=feature_list,\n",
    "    label_col=label_col,\n",
    "    learning_rate=learning_rate,\n",
    "    n_estimators=n_estimators,\n",
    "    model_output=tmp_data_folder\n",
    ")\n",
    "\n",
    "score_func(\n",
    "    test_data=tmp_data_folder,\n",
    "    model_input=tmp_data_folder,\n",
    "    feature_list=feature_list,\n",
    "    scored_data=tmp_data_folder\n",
    ")\n",
    "\n",
    "eval_func(\n",
    "    scored_data=tmp_data_folder,\n",
    "    label_col=label_col,\n",
    "    eval_result=tmp_data_folder\n",
    ")"
   ]
  }
 ],
 "metadata": {
  "interpreter": {
   "hash": "73fd51decc1ae92df3da9897df9ae97b17b7e7ced507a7d36699edc653c71dc2"
  },
  "kernelspec": {
   "display_name": "Python 3.8.10 64-bit",
   "language": "python",
   "name": "python3"
  },
  "language_info": {
   "codemirror_mode": {
    "name": "ipython",
    "version": 3
   },
   "file_extension": ".py",
   "mimetype": "text/x-python",
   "name": "python",
   "nbconvert_exporter": "python",
   "pygments_lexer": "ipython3",
   "version": "3.8.10"
  },
  "orig_nbformat": 4
 },
 "nbformat": 4,
 "nbformat_minor": 2
}
