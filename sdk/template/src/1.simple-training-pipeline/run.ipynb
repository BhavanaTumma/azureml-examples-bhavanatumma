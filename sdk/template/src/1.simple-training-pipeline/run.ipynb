{
 "cells": [
  {
   "cell_type": "code",
   "execution_count": 9,
   "metadata": {},
   "outputs": [],
   "source": [
    "#import required libraries\n",
    "from azure.ml import MLClient, dsl\n",
    "from azure.ml.entities import JobInput\n",
    "from azure.ml._constants import AssetTypes\n",
    "from azure.ml import dsl\n",
    "from azure.identity import InteractiveBrowserCredential\n",
    "import json"
   ]
  },
  {
   "cell_type": "code",
   "execution_count": 10,
   "metadata": {},
   "outputs": [],
   "source": [
    "with open(\"./ml_config.json\", \"r\") as read_file:\n",
    "    config = json.load(read_file)\n",
    "\n",
    "# Enter details of your AML workspace\n",
    "subscription_id = config[\"workspace_settings\"][\"subscription_id\"]\n",
    "resource_group = config[\"workspace_settings\"][\"resource_group\"]\n",
    "workspace = config[\"workspace_settings\"][\"workspace\"]\n",
    "\n",
    "# Get a handle to the workspace\n",
    "ml_client = MLClient(InteractiveBrowserCredential(), subscription_id, resource_group, workspace)\n",
    "\n",
    "# Enter settings\n",
    "compute_name = config[\"run_settings\"][\"compute_name\"]\n",
    "experiment_name = config[\"run_settings\"][\"experiment_name\"]\n",
    "\n",
    "# Pipeline inputs\n",
    "data_input_uri = config[\"pipeline_inputs\"][\"input_data\"]\n",
    "feature_list = config[\"pipeline_inputs\"][\"feature_list\"]\n",
    "label_col = config[\"pipeline_inputs\"][\"label_col\"]\n",
    "learning_rate = config[\"pipeline_inputs\"][\"learning_rate\"]\n",
    "n_estimators = config[\"pipeline_inputs\"][\"n_estimators\"]\n",
    "test_size = config[\"pipeline_inputs\"][\"test_size\"]\n",
    "random_state = config[\"pipeline_inputs\"][\"random_state\"]\n",
    "\n",
    "# init compute on workspace\n",
    "try:\n",
    "    ml_client.compute.get(name=compute_name)\n",
    "except Exception:\n",
    "    print('Creating a new compute target...')\n",
    "    from azure.ml.entities import AmlCompute\n",
    "    compute = AmlCompute(\n",
    "        name=compute_name,\n",
    "        size=\"Standard_D2_v2\",\n",
    "        max_instances=2\n",
    "    )\n",
    "    ml_client.compute.begin_create_or_update(compute)"
   ]
  },
  {
   "cell_type": "code",
   "execution_count": 11,
   "metadata": {},
   "outputs": [
    {
     "name": "stdout",
     "output_type": "stream",
     "text": [
      "The autoreload extension is already loaded. To reload it, use:\n",
      "  %reload_ext autoreload\n"
     ]
    }
   ],
   "source": [
    "# Load pipeline definition from \n",
    "%run ./pipeline.ipynb"
   ]
  },
  {
   "cell_type": "code",
   "execution_count": 12,
   "metadata": {},
   "outputs": [],
   "source": [
    "pipeline = training_pipeline_func(\n",
    "    input_data=JobInput(type=AssetTypes.URI_FILE, path=data_input_uri),\n",
    "    feature_list=feature_list,\n",
    "    label_col=label_col,\n",
    "    learning_rate=learning_rate,\n",
    "    n_estimators=n_estimators\n",
    ")\n",
    "\n",
    "pipeline.settings.default_compute = config[\"run_settings\"][\"compute_name\"]\n",
    "# print(pipeline)"
   ]
  },
  {
   "cell_type": "code",
   "execution_count": 8,
   "metadata": {},
   "outputs": [
    {
     "name": "stderr",
     "output_type": "stream",
     "text": [
      "\u001b[32mUploading components (0.02 MBs): 100%|##########| 16258/16258 [00:01<00:00, 13301.98it/s]\n",
      "\u001b[39m\n",
      "\n"
     ]
    },
    {
     "name": "stdout",
     "output_type": "stream",
     "text": [
      "Job link: https://ml.azure.com/runs/amusing_melon_43ywdfjpj2?wsid=/subscriptions/ee85ed72-2b26-48f6-a0e8-cb5bcf98fbd9/resourcegroups/pipeline-pm/workspaces/prod&tid=72f988bf-86f1-41af-91ab-2d7cd011db47\n"
     ]
    }
   ],
   "source": [
    "# submit pipeline to cloud\n",
    "pipeline_job = ml_client.jobs.create_or_update(pipeline, experiment_name=experiment_name)\n",
    "print(f'Job link: {pipeline_job.services[\"Studio\"].endpoint}')"
   ]
  }
 ],
 "metadata": {
  "interpreter": {
   "hash": "73fd51decc1ae92df3da9897df9ae97b17b7e7ced507a7d36699edc653c71dc2"
  },
  "kernelspec": {
   "display_name": "Python 3.8.10 64-bit",
   "language": "python",
   "name": "python3"
  },
  "language_info": {
   "codemirror_mode": {
    "name": "ipython",
    "version": 3
   },
   "file_extension": ".py",
   "mimetype": "text/x-python",
   "name": "python",
   "nbconvert_exporter": "python",
   "pygments_lexer": "ipython3",
   "version": "3.8.10"
  },
  "orig_nbformat": 4
 },
 "nbformat": 4,
 "nbformat_minor": 2
}
