{
 "cells": [
  {
   "cell_type": "code",
   "execution_count": 15,
   "metadata": {},
   "outputs": [],
   "source": [
    "import argparse\n",
    "from pathlib import Path\n",
    "from sklearn.ensemble import GradientBoostingRegressor\n",
    "from sklearn.model_selection import train_test_split\n",
    "import pandas as pd\n",
    "import numpy as np\n",
    "from uuid import uuid4\n",
    "from datetime import datetime\n",
    "import os\n",
    "import pickle\n",
    "from typing_extensions import Concatenate\n",
    "from sklearn.metrics import mean_squared_error, r2_score\n",
    "import json"
   ]
  },
  {
   "cell_type": "code",
   "execution_count": 18,
   "metadata": {},
   "outputs": [
    {
     "ename": "AttributeError",
     "evalue": "'dict' object has no attribute 'workspace_settings'",
     "output_type": "error",
     "traceback": [
      "\u001b[1;31m---------------------------------------------------------------------------\u001b[0m",
      "\u001b[1;31mAttributeError\u001b[0m                            Traceback (most recent call last)",
      "\u001b[1;32m~\\AppData\\Local\\Temp/ipykernel_826000/1143956732.py\u001b[0m in \u001b[0;36m<module>\u001b[1;34m\u001b[0m\n\u001b[0;32m      1\u001b[0m \u001b[1;32mwith\u001b[0m \u001b[0mopen\u001b[0m\u001b[1;33m(\u001b[0m\u001b[1;34m\"./config.json\"\u001b[0m\u001b[1;33m,\u001b[0m \u001b[1;34m\"r\"\u001b[0m\u001b[1;33m)\u001b[0m \u001b[1;32mas\u001b[0m \u001b[0mread_file\u001b[0m\u001b[1;33m:\u001b[0m\u001b[1;33m\u001b[0m\u001b[1;33m\u001b[0m\u001b[0m\n\u001b[0;32m      2\u001b[0m     \u001b[0memps\u001b[0m \u001b[1;33m=\u001b[0m \u001b[0mjson\u001b[0m\u001b[1;33m.\u001b[0m\u001b[0mload\u001b[0m\u001b[1;33m(\u001b[0m\u001b[0mread_file\u001b[0m\u001b[1;33m)\u001b[0m\u001b[1;33m\u001b[0m\u001b[1;33m\u001b[0m\u001b[0m\n\u001b[1;32m----> 3\u001b[1;33m     \u001b[0mprint\u001b[0m\u001b[1;33m(\u001b[0m\u001b[0memps\u001b[0m\u001b[1;33m.\u001b[0m\u001b[0mworkspace_settings\u001b[0m\u001b[1;33m.\u001b[0m\u001b[0msubscription_id\u001b[0m\u001b[1;33m)\u001b[0m\u001b[1;33m\u001b[0m\u001b[1;33m\u001b[0m\u001b[0m\n\u001b[0m\u001b[0;32m      4\u001b[0m     \u001b[0mprint\u001b[0m\u001b[1;33m(\u001b[0m\u001b[0memps\u001b[0m\u001b[1;33m.\u001b[0m\u001b[0mrun_settings\u001b[0m\u001b[1;33m.\u001b[0m\u001b[0mexperiment_name\u001b[0m\u001b[1;33m)\u001b[0m\u001b[1;33m\u001b[0m\u001b[1;33m\u001b[0m\u001b[0m\n",
      "\u001b[1;31mAttributeError\u001b[0m: 'dict' object has no attribute 'workspace_settings'"
     ]
    }
   ],
   "source": [
    "with open(\"./config.json\", \"r\") as read_file:\n",
    "    emps = json.load(read_file)\n",
    "    print(emps.workspace_settings.subscription_id)\n",
    "    print(emps.run_settings.experiment_name)"
   ]
  },
  {
   "cell_type": "code",
   "execution_count": 3,
   "metadata": {},
   "outputs": [],
   "source": [
    "sample_data_path = \"./sample-data/nyc-taxi-data.csv\"\n",
    "col_eval = \"cost\"\n",
    "col_features = [\n",
    "        \"distance\",\n",
    "        \"dropoff_latitude\",\n",
    "        \"dropoff_longitude\",\n",
    "        \"passengers\",\n",
    "        \"pickup_latitude\",\n",
    "        \"pickup_longitude\",\n",
    "        \"store_forward\",\n",
    "        \"vendor\",\n",
    "        \"pickup_weekday\",\n",
    "        \"pickup_month\",\n",
    "        \"pickup_monthday\",\n",
    "        \"pickup_hour\",\n",
    "        \"pickup_minute\",\n",
    "        \"pickup_second\",\n",
    "        \"dropoff_weekday\",\n",
    "        \"dropoff_month\",\n",
    "        \"dropoff_monthday\",\n",
    "        \"dropoff_hour\",\n",
    "        \"dropoff_minute\",\n",
    "        \"dropoff_second\",\n",
    "    ]\n",
    "\n",
    "test_size = 0.3\n",
    "random_state = 42"
   ]
  },
  {
   "cell_type": "code",
   "execution_count": 4,
   "metadata": {},
   "outputs": [],
   "source": [
    "# Data preparation\n",
    "input_df = pd.read_csv(sample_data_path).astype(\n",
    "    {\n",
    "        \"pickup_longitude\": \"float64\",\n",
    "        \"pickup_latitude\": \"float64\",\n",
    "        \"dropoff_longitude\": \"float64\",\n",
    "        \"dropoff_latitude\": \"float64\",\n",
    "    }\n",
    ")\n",
    "\n",
    "## Filter data\n",
    "input_df = input_df[\n",
    "    (input_df.pickup_longitude <= -73.72)\n",
    "    & (input_df.pickup_longitude >= -74.09)\n",
    "    & (input_df.pickup_latitude <= 40.88)\n",
    "    & (input_df.pickup_latitude >= 40.53)\n",
    "    & (input_df.dropoff_longitude <= -73.72)\n",
    "    & (input_df.dropoff_longitude >= -74.72)\n",
    "    & (input_df.dropoff_latitude <= 40.88)\n",
    "    & (input_df.dropoff_latitude >= 40.53)\n",
    "]\n",
    "\n",
    "input_df = input_df.dropna(how=\"all\")"
   ]
  },
  {
   "cell_type": "code",
   "execution_count": 11,
   "metadata": {},
   "outputs": [],
   "source": [
    "# Split data into train & test\n",
    "y = input_df[col_eval]\n",
    "X = input_df[col_features]\n",
    "\n",
    "trainX, testX, trainy, testy = train_test_split(X, y, test_size=test_size, random_state=random_state)\n"
   ]
  },
  {
   "cell_type": "code",
   "execution_count": 12,
   "metadata": {},
   "outputs": [],
   "source": [
    "# Train model by using GradientBoostingRegressor from sklearn\n",
    "model = GradientBoostingRegressor().fit(trainX, trainy)\n"
   ]
  },
  {
   "cell_type": "code",
   "execution_count": 13,
   "metadata": {},
   "outputs": [],
   "source": [
    "# Score test data\n",
    "predictions = model.predict(testX)"
   ]
  },
  {
   "cell_type": "code",
   "execution_count": 14,
   "metadata": {},
   "outputs": [
    {
     "name": "stdout",
     "output_type": "stream",
     "text": [
      "Mean squared error: 7.00\n",
      "Coefficient of determination: 0.90\n"
     ]
    }
   ],
   "source": [
    "# Model evaluation\n",
    "print(\"Mean squared error: %.2f\" % mean_squared_error(testy, predictions))\n",
    "print(\"Coefficient of determination: %.2f\" % r2_score(testy, predictions))"
   ]
  }
 ],
 "metadata": {
  "interpreter": {
   "hash": "73fd51decc1ae92df3da9897df9ae97b17b7e7ced507a7d36699edc653c71dc2"
  },
  "kernelspec": {
   "display_name": "Python 3.8.10 64-bit",
   "language": "python",
   "name": "python3"
  },
  "language_info": {
   "codemirror_mode": {
    "name": "ipython",
    "version": 3
   },
   "file_extension": ".py",
   "mimetype": "text/x-python",
   "name": "python",
   "nbconvert_exporter": "python",
   "pygments_lexer": "ipython3",
   "version": "3.8.10"
  },
  "orig_nbformat": 4
 },
 "nbformat": 4,
 "nbformat_minor": 2
}
